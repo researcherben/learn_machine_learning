{
 "cells": [
  {
   "cell_type": "markdown",
   "metadata": {},
   "source": [
    "https://elitedatascience.com/imbalanced-classes\n",
    "\n",
    "data processing:\n",
    "* Up-sample the minority class\n",
    "* Down-sample the majority class\n",
    "* SMOTE\n",
    "\n",
    "Algorithm-specific\n",
    "* Penalize algorithms (cost-sensitive training) -- see SVM in sklearn\n",
    "* Use tree-based algorithms -- see Random Forests\n",
    "\n",
    "Change evaluation metric\n",
    "* use metrics beyond accuracy such as recall, precision, and AUROC. \n",
    "\n",
    "not relevant?\n",
    "* https://machinelearningmastery.com/k-fold-cross-validation/"
   ]
  },
  {
   "cell_type": "code",
   "execution_count": 1,
   "metadata": {},
   "outputs": [
    {
     "name": "stdout",
     "output_type": "stream",
     "text": [
      "Requirement already satisfied: imblearn in /opt/conda/lib/python3.6/site-packages (0.0)\n",
      "Requirement already satisfied: imbalanced-learn in /opt/conda/lib/python3.6/site-packages (from imblearn) (0.4.3)\n",
      "Requirement already satisfied: scikit-learn>=0.20 in /opt/conda/lib/python3.6/site-packages (from imbalanced-learn->imblearn) (0.20.3)\n",
      "Requirement already satisfied: scipy>=0.13.3 in /opt/conda/lib/python3.6/site-packages (from imbalanced-learn->imblearn) (1.1.0)\n",
      "Requirement already satisfied: numpy>=1.8.2 in /opt/conda/lib/python3.6/site-packages (from imbalanced-learn->imblearn) (1.13.3)\n"
     ]
    }
   ],
   "source": [
    "!pip install imblearn"
   ]
  },
  {
   "cell_type": "code",
   "execution_count": 2,
   "metadata": {},
   "outputs": [
    {
     "name": "stdout",
     "output_type": "stream",
     "text": [
      "pandas 0.23.4\n",
      "numpy 1.13.3\n"
     ]
    }
   ],
   "source": [
    "import pandas\n",
    "print('pandas',pandas.__version__)\n",
    "import numpy as np\n",
    "print('numpy',np.__version__)\n",
    "from numpy.random import choice\n",
    "import sklearn.utils\n",
    "import imblearn.over_sampling"
   ]
  },
  {
   "cell_type": "markdown",
   "metadata": {},
   "source": [
    "# create fake data"
   ]
  },
  {
   "cell_type": "code",
   "execution_count": 3,
   "metadata": {},
   "outputs": [],
   "source": [
    "num_rows=10000\n",
    "ratio_of_classes=0.9"
   ]
  },
  {
   "cell_type": "code",
   "execution_count": 4,
   "metadata": {},
   "outputs": [
    {
     "data": {
      "text/html": [
       "<div>\n",
       "<style scoped>\n",
       "    .dataframe tbody tr th:only-of-type {\n",
       "        vertical-align: middle;\n",
       "    }\n",
       "\n",
       "    .dataframe tbody tr th {\n",
       "        vertical-align: top;\n",
       "    }\n",
       "\n",
       "    .dataframe thead th {\n",
       "        text-align: right;\n",
       "    }\n",
       "</style>\n",
       "<table border=\"1\" class=\"dataframe\">\n",
       "  <thead>\n",
       "    <tr style=\"text-align: right;\">\n",
       "      <th></th>\n",
       "      <th>A</th>\n",
       "      <th>B</th>\n",
       "      <th>C</th>\n",
       "      <th>D</th>\n",
       "      <th>E</th>\n",
       "      <th>F</th>\n",
       "      <th>G</th>\n",
       "      <th>H</th>\n",
       "      <th>J</th>\n",
       "    </tr>\n",
       "  </thead>\n",
       "  <tbody>\n",
       "    <tr>\n",
       "      <th>0</th>\n",
       "      <td>0.035833</td>\n",
       "      <td>0.573785</td>\n",
       "      <td>0.199115</td>\n",
       "      <td>2.407060</td>\n",
       "      <td>8</td>\n",
       "      <td>2</td>\n",
       "      <td>0</td>\n",
       "      <td>5</td>\n",
       "      <td>1</td>\n",
       "    </tr>\n",
       "    <tr>\n",
       "      <th>1</th>\n",
       "      <td>2.349503</td>\n",
       "      <td>0.373782</td>\n",
       "      <td>1.513653</td>\n",
       "      <td>0.505016</td>\n",
       "      <td>1</td>\n",
       "      <td>9</td>\n",
       "      <td>2</td>\n",
       "      <td>4</td>\n",
       "      <td>1</td>\n",
       "    </tr>\n",
       "    <tr>\n",
       "      <th>2</th>\n",
       "      <td>0.169855</td>\n",
       "      <td>0.434245</td>\n",
       "      <td>0.359279</td>\n",
       "      <td>0.031753</td>\n",
       "      <td>5</td>\n",
       "      <td>1</td>\n",
       "      <td>3</td>\n",
       "      <td>8</td>\n",
       "      <td>1</td>\n",
       "    </tr>\n",
       "    <tr>\n",
       "      <th>3</th>\n",
       "      <td>0.264716</td>\n",
       "      <td>0.208796</td>\n",
       "      <td>0.955933</td>\n",
       "      <td>0.240563</td>\n",
       "      <td>7</td>\n",
       "      <td>7</td>\n",
       "      <td>2</td>\n",
       "      <td>7</td>\n",
       "      <td>1</td>\n",
       "    </tr>\n",
       "    <tr>\n",
       "      <th>4</th>\n",
       "      <td>0.097474</td>\n",
       "      <td>1.783739</td>\n",
       "      <td>0.212739</td>\n",
       "      <td>0.229631</td>\n",
       "      <td>1</td>\n",
       "      <td>1</td>\n",
       "      <td>5</td>\n",
       "      <td>4</td>\n",
       "      <td>1</td>\n",
       "    </tr>\n",
       "  </tbody>\n",
       "</table>\n",
       "</div>"
      ],
      "text/plain": [
       "          A         B         C         D  E  F  G  H  J\n",
       "0  0.035833  0.573785  0.199115  2.407060  8  2  0  5  1\n",
       "1  2.349503  0.373782  1.513653  0.505016  1  9  2  4  1\n",
       "2  0.169855  0.434245  0.359279  0.031753  5  1  3  8  1\n",
       "3  0.264716  0.208796  0.955933  0.240563  7  7  2  7  1\n",
       "4  0.097474  1.783739  0.212739  0.229631  1  1  5  4  1"
      ]
     },
     "execution_count": 4,
     "metadata": {},
     "output_type": "execute_result"
    }
   ],
   "source": [
    "df1 = pandas.DataFrame(np.abs(np.random.randn(num_rows, 4)), columns=list('ABCD'))\n",
    "df2 = pandas.DataFrame(np.random.randint(10,size=(num_rows, 4)), columns=list('EFGH'))\n",
    "# https://stackoverflow.com/questions/10803135/weighted-choice-short-and-simple\n",
    "elements=[0, 1]\n",
    "weights=[1-ratio_of_classes, ratio_of_classes]\n",
    "df3 = pandas.DataFrame([choice(elements, p=weights) for _ in range(num_rows)], columns=['J'])\n",
    "cleaned_df = pandas.concat([df1, df2,df3], axis=1, join_axes=[df1.index])\n",
    "cleaned_df.head()"
   ]
  },
  {
   "cell_type": "raw",
   "metadata": {},
   "source": [
    "split cleaned_df into 4 subsections:\n",
    "\n",
    "[          |          ]\n",
    "[ X_train  |  y_train ]    \n",
    "[          |          ]\n",
    "[----------|----------]\n",
    "[          |          ]\n",
    "[ X_test   |  y_test  ]    \n",
    "[          |          ]"
   ]
  },
  {
   "cell_type": "code",
   "execution_count": 5,
   "metadata": {},
   "outputs": [],
   "source": [
    "X = cleaned_df.drop('J', axis=1)\n",
    "y=cleaned_df['J']\n",
    "X_train, X_test, y_train, y_test = sklearn.model_selection.train_test_split(X, y, test_size=0.33, random_state=42)"
   ]
  },
  {
   "cell_type": "markdown",
   "metadata": {},
   "source": [
    "# Up-sample the minority class\n",
    "\n",
    "resample with replacement\n",
    "\n",
    "1. separate observations from each class into different DataFrames.\n",
    "1. resample the minority class with replacement, setting the number of samples to match that of the majority class.\n",
    "1. combine the up-sampled minority class DataFrame with the original majority class DataFrame."
   ]
  },
  {
   "cell_type": "code",
   "execution_count": 6,
   "metadata": {},
   "outputs": [],
   "source": [
    "# Separate majority and minority classes\n",
    "df_majority = cleaned_df[cleaned_df['J']==1]\n",
    "df_minority = cleaned_df[cleaned_df['J']==0]"
   ]
  },
  {
   "cell_type": "code",
   "execution_count": 7,
   "metadata": {},
   "outputs": [
    {
     "name": "stdout",
     "output_type": "stream",
     "text": [
      "majority: (9012, 9)\n",
      "minority: (988, 9)\n"
     ]
    }
   ],
   "source": [
    "print('majority:',df_majority.shape)\n",
    "print('minority:',df_minority.shape)"
   ]
  },
  {
   "cell_type": "code",
   "execution_count": 8,
   "metadata": {},
   "outputs": [],
   "source": [
    "# Upsample minority class\n",
    "df_minority_upsampled = sklearn.utils.resample(df_minority, \n",
    "                                               replace=True,     # sample with replacement\n",
    "                                               n_samples=df_majority.shape[0],    # to match majority class\n",
    "                                               random_state=42) # reproducible results"
   ]
  },
  {
   "cell_type": "code",
   "execution_count": 9,
   "metadata": {},
   "outputs": [
    {
     "data": {
      "text/plain": [
       "1    9012\n",
       "0    9012\n",
       "Name: J, dtype: int64"
      ]
     },
     "execution_count": 9,
     "metadata": {},
     "output_type": "execute_result"
    }
   ],
   "source": [
    "# Combine majority class with upsampled minority class\n",
    "df_upsampled = pandas.concat([df_majority, df_minority_upsampled])\n",
    " \n",
    "# Display new class counts\n",
    "df_upsampled['J'].value_counts()"
   ]
  },
  {
   "cell_type": "markdown",
   "metadata": {},
   "source": [
    "see also https://imbalanced-learn.org/en/stable/generated/imblearn.over_sampling.RandomOverSampler.html"
   ]
  },
  {
   "cell_type": "code",
   "execution_count": 10,
   "metadata": {},
   "outputs": [],
   "source": [
    "ros = imblearn.over_sampling.RandomOverSampler(random_state=42)\n",
    "X_res, y_res = ros.fit_resample(X, y)"
   ]
  },
  {
   "cell_type": "markdown",
   "metadata": {},
   "source": [
    "# Down-sample the majority class\n",
    "\n",
    "1. separate observations from each class into different DataFrames.\n",
    "1. resample the majority class without replacement, setting the number of samples to match that of the minority class.\n",
    "1. combine the down-sampled majority class DataFrame with the original minority class DataFrame."
   ]
  },
  {
   "cell_type": "code",
   "execution_count": 11,
   "metadata": {},
   "outputs": [
    {
     "name": "stdout",
     "output_type": "stream",
     "text": [
      "majority: (9012, 9)\n",
      "minority: (988, 9)\n"
     ]
    }
   ],
   "source": [
    "print('majority:',df_majority.shape)\n",
    "print('minority:',df_minority.shape)"
   ]
  },
  {
   "cell_type": "code",
   "execution_count": 12,
   "metadata": {},
   "outputs": [],
   "source": [
    "# Downsample majority class\n",
    "df_majority_downsampled = sklearn.utils.resample(df_majority, \n",
    "                                                 replace=False,    # sample without replacement\n",
    "                                                 n_samples=df_minority.shape[0],     # to match minority class\n",
    "                                                 random_state=42) # reproducible results"
   ]
  },
  {
   "cell_type": "code",
   "execution_count": 13,
   "metadata": {},
   "outputs": [
    {
     "data": {
      "text/plain": [
       "1    988\n",
       "0    988\n",
       "Name: J, dtype: int64"
      ]
     },
     "execution_count": 13,
     "metadata": {},
     "output_type": "execute_result"
    }
   ],
   "source": [
    "# Combine minority class with downsampled majority class\n",
    "df_downsampled = pandas.concat([df_majority_downsampled, df_minority])\n",
    "\n",
    "# Display new class counts\n",
    "df_downsampled['J'].value_counts()"
   ]
  },
  {
   "cell_type": "markdown",
   "metadata": {},
   "source": [
    "# SMOTE: Synthetic Minority Over-sampling Technique\n",
    "\n",
    "https://imbalanced-learn.org/en/stable/generated/imblearn.over_sampling.SMOTE.html\n",
    "\n",
    "https://stackoverflow.com/questions/15065833/imbalance-in-scikit-learn\n",
    "\n",
    "SMOTE creates synthetic observations of the minority class by:\n",
    "1. Finding the k-nearest-neighbors for minority class observations (finding similar observations)\n",
    "1. Randomly choosing one of the k-nearest-neighbors and using it to create a similar, but randomly tweaked, new observation."
   ]
  },
  {
   "cell_type": "code",
   "execution_count": 14,
   "metadata": {},
   "outputs": [
    {
     "data": {
      "text/plain": [
       "SMOTE(k_neighbors=5, kind='deprecated', m_neighbors='deprecated', n_jobs=1,\n",
       "   out_step='deprecated', random_state=2, ratio=None,\n",
       "   sampling_strategy='auto', svm_estimator='deprecated')"
      ]
     },
     "execution_count": 14,
     "metadata": {},
     "output_type": "execute_result"
    }
   ],
   "source": [
    "sm = imblearn.over_sampling.SMOTE(random_state=2)\n",
    "sm"
   ]
  },
  {
   "cell_type": "markdown",
   "metadata": {},
   "source": [
    "# "
   ]
  },
  {
   "cell_type": "code",
   "execution_count": 15,
   "metadata": {},
   "outputs": [],
   "source": [
    "X_train_res, y_train_res = sm.fit_sample(X_train, y_train.ravel())"
   ]
  },
  {
   "cell_type": "code",
   "execution_count": 16,
   "metadata": {},
   "outputs": [
    {
     "name": "stdout",
     "output_type": "stream",
     "text": [
      "X_train (6700, 8)\n",
      "X_train_res (12090, 8)\n"
     ]
    }
   ],
   "source": [
    "print('X_train',X_train.shape)\n",
    "print('X_train_res',X_train_res.shape)"
   ]
  },
  {
   "cell_type": "code",
   "execution_count": 17,
   "metadata": {},
   "outputs": [
    {
     "name": "stdout",
     "output_type": "stream",
     "text": [
      "y_train     ratio: 655 / 6045 = 0.10835401157981803\n",
      "y_train_res ratio: 6045 / 6045 = 1.0\n"
     ]
    }
   ],
   "source": [
    "print('y_train     ratio:',sum(y_train    ==0),'/',sum(y_train==1),'=',sum(y_train==0)/sum(y_train==1))\n",
    "print('y_train_res ratio:',sum(y_train_res==0),'/',sum(y_train_res==1),'=',sum(y_train_res==0)/sum(y_train_res==1))"
   ]
  },
  {
   "cell_type": "markdown",
   "metadata": {},
   "source": [
    "# combine approaches\n",
    "\n",
    "https://imbalanced-learn.org/en/stable/combine.html\n",
    "    \n",
    "https://imbalanced-learn.org/en/stable/auto_examples/combine/plot_comparison_combine.html#sphx-glr-auto-examples-combine-plot-comparison-combine-py"
   ]
  },
  {
   "cell_type": "code",
   "execution_count": null,
   "metadata": {},
   "outputs": [],
   "source": []
  }
 ],
 "metadata": {
  "kernelspec": {
   "display_name": "Python 3",
   "language": "python",
   "name": "python3"
  },
  "language_info": {
   "codemirror_mode": {
    "name": "ipython",
    "version": 3
   },
   "file_extension": ".py",
   "mimetype": "text/x-python",
   "name": "python",
   "nbconvert_exporter": "python",
   "pygments_lexer": "ipython3",
   "version": "3.6.7"
  }
 },
 "nbformat": 4,
 "nbformat_minor": 2
}
