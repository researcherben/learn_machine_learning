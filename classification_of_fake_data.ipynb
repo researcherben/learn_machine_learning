{
 "cells": [
  {
   "cell_type": "markdown",
   "metadata": {},
   "source": [
    "https://scikit-learn.org/stable/auto_examples/classification/plot_classifier_comparison.html#sphx-glr-auto-examples-classification-plot-classifier-comparison-py"
   ]
  },
  {
   "cell_type": "code",
   "execution_count": 1,
   "metadata": {},
   "outputs": [
    {
     "name": "stdout",
     "output_type": "stream",
     "text": [
      "9d9c77d5e515\n"
     ]
    }
   ],
   "source": [
    "!hostname"
   ]
  },
  {
   "cell_type": "code",
   "execution_count": 2,
   "metadata": {},
   "outputs": [
    {
     "name": "stdout",
     "output_type": "stream",
     "text": [
      "Collecting tensorflow\n",
      "  Using cached https://files.pythonhosted.org/packages/77/63/a9fa76de8dffe7455304c4ed635be4aa9c0bacef6e0633d87d5f54530c5c/tensorflow-1.13.1-cp36-cp36m-manylinux1_x86_64.whl\n",
      "Collecting tensorboard<1.14.0,>=1.13.0 (from tensorflow)\n",
      "  Using cached https://files.pythonhosted.org/packages/fa/7b/3ee06856ec30d5136cd2002408df1d111fcff269f3691147dbf3b8dc0ba2/tensorboard-1.13.0-py3-none-any.whl\n",
      "Requirement already satisfied: wheel>=0.26 in /opt/conda/lib/python3.6/site-packages (from tensorflow) (0.32.2)\n",
      "Requirement already satisfied: protobuf>=3.6.1 in /opt/conda/lib/python3.6/site-packages (from tensorflow) (3.6.1)\n",
      "Requirement already satisfied: numpy>=1.13.3 in /opt/conda/lib/python3.6/site-packages (from tensorflow) (1.13.3)\n",
      "Collecting grpcio>=1.8.6 (from tensorflow)\n",
      "  Using cached https://files.pythonhosted.org/packages/f4/dc/5503d89e530988eb7a1aed337dcb456ef8150f7c06132233bd9e41ec0215/grpcio-1.19.0-cp36-cp36m-manylinux1_x86_64.whl\n",
      "Collecting termcolor>=1.1.0 (from tensorflow)\n",
      "Requirement already satisfied: six>=1.10.0 in /opt/conda/lib/python3.6/site-packages (from tensorflow) (1.11.0)\n",
      "Collecting keras-preprocessing>=1.0.5 (from tensorflow)\n",
      "  Using cached https://files.pythonhosted.org/packages/c0/bf/0315ef6a9fd3fc2346e85b0ff1f5f83ca17073f2c31ac719ab2e4da0d4a3/Keras_Preprocessing-1.0.9-py2.py3-none-any.whl\n",
      "Collecting keras-applications>=1.0.6 (from tensorflow)\n",
      "  Using cached https://files.pythonhosted.org/packages/90/85/64c82949765cfb246bbdaf5aca2d55f400f792655927a017710a78445def/Keras_Applications-1.0.7-py2.py3-none-any.whl\n",
      "Collecting astor>=0.6.0 (from tensorflow)\n",
      "  Using cached https://files.pythonhosted.org/packages/35/6b/11530768cac581a12952a2aad00e1526b89d242d0b9f59534ef6e6a1752f/astor-0.7.1-py2.py3-none-any.whl\n",
      "Collecting tensorflow-estimator<1.14.0rc0,>=1.13.0 (from tensorflow)\n",
      "  Using cached https://files.pythonhosted.org/packages/bb/48/13f49fc3fa0fdf916aa1419013bb8f2ad09674c275b4046d5ee669a46873/tensorflow_estimator-1.13.0-py2.py3-none-any.whl\n",
      "Collecting absl-py>=0.1.6 (from tensorflow)\n",
      "Collecting gast>=0.2.0 (from tensorflow)\n",
      "Collecting markdown>=2.6.8 (from tensorboard<1.14.0,>=1.13.0->tensorflow)\n",
      "  Using cached https://files.pythonhosted.org/packages/7a/6b/5600647404ba15545ec37d2f7f58844d690baf2f81f3a60b862e48f29287/Markdown-3.0.1-py2.py3-none-any.whl\n",
      "Collecting werkzeug>=0.11.15 (from tensorboard<1.14.0,>=1.13.0->tensorflow)\n",
      "  Using cached https://files.pythonhosted.org/packages/20/c4/12e3e56473e52375aa29c4764e70d1b8f3efa6682bef8d0aae04fe335243/Werkzeug-0.14.1-py2.py3-none-any.whl\n",
      "Requirement already satisfied: setuptools in /opt/conda/lib/python3.6/site-packages (from protobuf>=3.6.1->tensorflow) (40.4.3)\n",
      "Requirement already satisfied: h5py in /opt/conda/lib/python3.6/site-packages (from keras-applications>=1.0.6->tensorflow) (2.7.1)\n",
      "Collecting mock>=2.0.0 (from tensorflow-estimator<1.14.0rc0,>=1.13.0->tensorflow)\n",
      "  Using cached https://files.pythonhosted.org/packages/e6/35/f187bdf23be87092bd0f1200d43d23076cee4d0dec109f195173fd3ebc79/mock-2.0.0-py2.py3-none-any.whl\n",
      "Collecting pbr>=0.11 (from mock>=2.0.0->tensorflow-estimator<1.14.0rc0,>=1.13.0->tensorflow)\n",
      "  Using cached https://files.pythonhosted.org/packages/14/09/12fe9a14237a6b7e0ba3a8d6fcf254bf4b10ec56a0185f73d651145e9222/pbr-5.1.3-py2.py3-none-any.whl\n",
      "Installing collected packages: markdown, grpcio, werkzeug, absl-py, tensorboard, termcolor, keras-preprocessing, keras-applications, astor, pbr, mock, tensorflow-estimator, gast, tensorflow\n",
      "Successfully installed absl-py-0.7.0 astor-0.7.1 gast-0.2.2 grpcio-1.19.0 keras-applications-1.0.7 keras-preprocessing-1.0.9 markdown-3.0.1 mock-2.0.0 pbr-5.1.3 tensorboard-1.13.0 tensorflow-1.13.1 tensorflow-estimator-1.13.0 termcolor-1.1.0 werkzeug-0.14.1\n"
     ]
    }
   ],
   "source": [
    "!pip install tensorflow"
   ]
  },
  {
   "cell_type": "code",
   "execution_count": 3,
   "metadata": {},
   "outputs": [
    {
     "name": "stdout",
     "output_type": "stream",
     "text": [
      "Collecting tflearn\n",
      "Requirement already satisfied: numpy in /opt/conda/lib/python3.6/site-packages (from tflearn) (1.13.3)\n",
      "Requirement already satisfied: six in /opt/conda/lib/python3.6/site-packages (from tflearn) (1.11.0)\n",
      "Requirement already satisfied: Pillow in /opt/conda/lib/python3.6/site-packages (from tflearn) (5.3.0)\n",
      "Installing collected packages: tflearn\n",
      "Successfully installed tflearn-0.3.2\n"
     ]
    }
   ],
   "source": [
    "!pip install tflearn"
   ]
  },
  {
   "cell_type": "code",
   "execution_count": 4,
   "metadata": {},
   "outputs": [
    {
     "name": "stdout",
     "output_type": "stream",
     "text": [
      "Requirement already satisfied: scikit-plot in /opt/conda/lib/python3.6/site-packages (0.3.7)\n",
      "Requirement already satisfied: scikit-learn>=0.18 in /opt/conda/lib/python3.6/site-packages (from scikit-plot) (0.20.3)\n",
      "Requirement already satisfied: scipy>=0.9 in /opt/conda/lib/python3.6/site-packages (from scikit-plot) (1.1.0)\n",
      "Requirement already satisfied: matplotlib>=1.4.0 in /opt/conda/lib/python3.6/site-packages (from scikit-plot) (3.0.2)\n",
      "Requirement already satisfied: joblib>=0.10 in /opt/conda/lib/python3.6/site-packages (from scikit-plot) (0.13.2)\n",
      "Requirement already satisfied: numpy>=1.8.2 in /opt/conda/lib/python3.6/site-packages (from scikit-learn>=0.18->scikit-plot) (1.13.3)\n",
      "Requirement already satisfied: cycler>=0.10 in /opt/conda/lib/python3.6/site-packages (from matplotlib>=1.4.0->scikit-plot) (0.10.0)\n",
      "Requirement already satisfied: kiwisolver>=1.0.1 in /opt/conda/lib/python3.6/site-packages (from matplotlib>=1.4.0->scikit-plot) (1.0.1)\n",
      "Requirement already satisfied: pyparsing!=2.0.4,!=2.1.2,!=2.1.6,>=2.0.1 in /opt/conda/lib/python3.6/site-packages (from matplotlib>=1.4.0->scikit-plot) (2.2.2)\n",
      "Requirement already satisfied: python-dateutil>=2.1 in /opt/conda/lib/python3.6/site-packages (from matplotlib>=1.4.0->scikit-plot) (2.7.4)\n",
      "Requirement already satisfied: six in /opt/conda/lib/python3.6/site-packages (from cycler>=0.10->matplotlib>=1.4.0->scikit-plot) (1.11.0)\n",
      "Requirement already satisfied: setuptools in /opt/conda/lib/python3.6/site-packages (from kiwisolver>=1.0.1->matplotlib>=1.4.0->scikit-plot) (40.4.3)\n"
     ]
    }
   ],
   "source": [
    "!pip install scikit-plot # https://github.com/reiinakano/scikit-plot"
   ]
  },
  {
   "cell_type": "code",
   "execution_count": 5,
   "metadata": {},
   "outputs": [
    {
     "name": "stdout",
     "output_type": "stream",
     "text": [
      "4.4.0\n"
     ]
    }
   ],
   "source": [
    "!jupyter --version"
   ]
  },
  {
   "cell_type": "code",
   "execution_count": 6,
   "metadata": {},
   "outputs": [
    {
     "name": "stdout",
     "output_type": "stream",
     "text": [
      "Python 3.6.7 :: Anaconda, Inc.\n"
     ]
    }
   ],
   "source": [
    "!python --version"
   ]
  },
  {
   "cell_type": "code",
   "execution_count": 7,
   "metadata": {},
   "outputs": [
    {
     "name": "stdout",
     "output_type": "stream",
     "text": [
      "pandas 0.23.4\n",
      "numpy 1.13.3\n",
      "scikitplot 0.3.7\n",
      "TensorFlow 1.13.1\n",
      "WARNING:tensorflow:From /opt/conda/lib/python3.6/site-packages/tensorflow/python/framework/op_def_library.py:263: colocate_with (from tensorflow.python.framework.ops) is deprecated and will be removed in a future version.\n",
      "Instructions for updating:\n",
      "Colocations handled automatically by placer.\n"
     ]
    }
   ],
   "source": [
    "import time\n",
    "import matplotlib.pyplot as plt\n",
    "import pandas\n",
    "print(\"pandas\",pandas.__version__)\n",
    "import numpy as np\n",
    "print(\"numpy\",np.__version__)\n",
    "import sklearn.model_selection\n",
    "import sklearn.tree\n",
    "import sklearn.svm\n",
    "import sklearn.linear_model\n",
    "import sklearn.naive_bayes\n",
    "import sklearn.ensemble\n",
    "import sklearn.neural_network\n",
    "import sklearn.metrics\n",
    "import sklearn.neighbors\n",
    "import scikitplot\n",
    "print(\"scikitplot\",scikitplot.__version__)\n",
    "#import skflow.TensorFlowLinearClassifier\n",
    "import tensorflow\n",
    "print(\"TensorFlow\",tensorflow.__version__)\n",
    "import tflearn\n",
    "import graphviz "
   ]
  },
  {
   "cell_type": "markdown",
   "metadata": {},
   "source": [
    "# create fake data\n",
    "\n",
    "alternative: use a library to create fake data https://scikit-learn.org/stable/modules/generated/sklearn.datasets.make_classification.html"
   ]
  },
  {
   "cell_type": "code",
   "execution_count": 8,
   "metadata": {},
   "outputs": [],
   "source": [
    "num_rows=100"
   ]
  },
  {
   "cell_type": "markdown",
   "metadata": {},
   "source": [
    "Here I assume \n",
    "* no NaNs\n",
    "* no blanks\n",
    "* each variable has been normalized\n",
    "* categorical data has been addressed using an encoding (binary or one-hot or something else)\n",
    "* classes are balanced"
   ]
  },
  {
   "cell_type": "code",
   "execution_count": 9,
   "metadata": {},
   "outputs": [],
   "source": [
    "df1 = pandas.DataFrame(np.abs(np.random.randn(num_rows, 4)), columns=list('ABCD'))\n",
    "#df1.head()"
   ]
  },
  {
   "cell_type": "code",
   "execution_count": 10,
   "metadata": {},
   "outputs": [],
   "source": [
    "df2 = pandas.DataFrame(np.random.randint(10,size=(num_rows, 4)), columns=list('EFGH'))\n",
    "#df2.head()"
   ]
  },
  {
   "cell_type": "code",
   "execution_count": 11,
   "metadata": {},
   "outputs": [],
   "source": [
    "df3 = pandas.DataFrame(np.random.randint(2,size=(num_rows, 1)), columns=list('J'))\n",
    "#df3.head()"
   ]
  },
  {
   "cell_type": "code",
   "execution_count": 12,
   "metadata": {},
   "outputs": [
    {
     "data": {
      "text/html": [
       "<div>\n",
       "<style scoped>\n",
       "    .dataframe tbody tr th:only-of-type {\n",
       "        vertical-align: middle;\n",
       "    }\n",
       "\n",
       "    .dataframe tbody tr th {\n",
       "        vertical-align: top;\n",
       "    }\n",
       "\n",
       "    .dataframe thead th {\n",
       "        text-align: right;\n",
       "    }\n",
       "</style>\n",
       "<table border=\"1\" class=\"dataframe\">\n",
       "  <thead>\n",
       "    <tr style=\"text-align: right;\">\n",
       "      <th></th>\n",
       "      <th>A</th>\n",
       "      <th>B</th>\n",
       "      <th>C</th>\n",
       "      <th>D</th>\n",
       "      <th>E</th>\n",
       "      <th>F</th>\n",
       "      <th>G</th>\n",
       "      <th>H</th>\n",
       "      <th>J</th>\n",
       "    </tr>\n",
       "  </thead>\n",
       "  <tbody>\n",
       "    <tr>\n",
       "      <th>0</th>\n",
       "      <td>0.150312</td>\n",
       "      <td>0.979929</td>\n",
       "      <td>0.261197</td>\n",
       "      <td>1.225773</td>\n",
       "      <td>4</td>\n",
       "      <td>9</td>\n",
       "      <td>3</td>\n",
       "      <td>4</td>\n",
       "      <td>0</td>\n",
       "    </tr>\n",
       "    <tr>\n",
       "      <th>1</th>\n",
       "      <td>1.652808</td>\n",
       "      <td>0.707967</td>\n",
       "      <td>0.154497</td>\n",
       "      <td>0.339827</td>\n",
       "      <td>3</td>\n",
       "      <td>2</td>\n",
       "      <td>2</td>\n",
       "      <td>0</td>\n",
       "      <td>0</td>\n",
       "    </tr>\n",
       "    <tr>\n",
       "      <th>2</th>\n",
       "      <td>0.995342</td>\n",
       "      <td>1.342879</td>\n",
       "      <td>1.912199</td>\n",
       "      <td>0.154940</td>\n",
       "      <td>1</td>\n",
       "      <td>8</td>\n",
       "      <td>0</td>\n",
       "      <td>9</td>\n",
       "      <td>0</td>\n",
       "    </tr>\n",
       "    <tr>\n",
       "      <th>3</th>\n",
       "      <td>1.168305</td>\n",
       "      <td>0.357393</td>\n",
       "      <td>2.543614</td>\n",
       "      <td>0.629163</td>\n",
       "      <td>2</td>\n",
       "      <td>8</td>\n",
       "      <td>4</td>\n",
       "      <td>9</td>\n",
       "      <td>0</td>\n",
       "    </tr>\n",
       "    <tr>\n",
       "      <th>4</th>\n",
       "      <td>0.031150</td>\n",
       "      <td>1.628379</td>\n",
       "      <td>0.649783</td>\n",
       "      <td>1.098126</td>\n",
       "      <td>0</td>\n",
       "      <td>9</td>\n",
       "      <td>9</td>\n",
       "      <td>8</td>\n",
       "      <td>0</td>\n",
       "    </tr>\n",
       "  </tbody>\n",
       "</table>\n",
       "</div>"
      ],
      "text/plain": [
       "          A         B         C         D  E  F  G  H  J\n",
       "0  0.150312  0.979929  0.261197  1.225773  4  9  3  4  0\n",
       "1  1.652808  0.707967  0.154497  0.339827  3  2  2  0  0\n",
       "2  0.995342  1.342879  1.912199  0.154940  1  8  0  9  0\n",
       "3  1.168305  0.357393  2.543614  0.629163  2  8  4  9  0\n",
       "4  0.031150  1.628379  0.649783  1.098126  0  9  9  8  0"
      ]
     },
     "execution_count": 12,
     "metadata": {},
     "output_type": "execute_result"
    }
   ],
   "source": [
    "cleaned_df = pandas.concat([df1, df2,df3], axis=1, join_axes=[df1.index])\n",
    "cleaned_df.head()"
   ]
  },
  {
   "cell_type": "markdown",
   "metadata": {},
   "source": [
    "# split input data\n",
    "\n",
    "https://scikit-learn.org/stable/modules/generated/sklearn.model_selection.train_test_split.html\n",
    "\n",
    "https://datascience.stackexchange.com/questions/15135/train-test-validation-set-splitting-in-sklearn"
   ]
  },
  {
   "cell_type": "raw",
   "metadata": {},
   "source": [
    "split cleaned_df into 4 subsections:\n",
    "\n",
    "[          |          ]\n",
    "[ X_train  |  y_train ]    \n",
    "[          |          ]\n",
    "[----------|----------]\n",
    "[          |          ]\n",
    "[ X_test   |  y_test  ]    \n",
    "[          |          ]"
   ]
  },
  {
   "cell_type": "code",
   "execution_count": 13,
   "metadata": {},
   "outputs": [
    {
     "name": "stdout",
     "output_type": "stream",
     "text": [
      "dimensions: (100, 8)\n"
     ]
    },
    {
     "data": {
      "text/html": [
       "<div>\n",
       "<style scoped>\n",
       "    .dataframe tbody tr th:only-of-type {\n",
       "        vertical-align: middle;\n",
       "    }\n",
       "\n",
       "    .dataframe tbody tr th {\n",
       "        vertical-align: top;\n",
       "    }\n",
       "\n",
       "    .dataframe thead th {\n",
       "        text-align: right;\n",
       "    }\n",
       "</style>\n",
       "<table border=\"1\" class=\"dataframe\">\n",
       "  <thead>\n",
       "    <tr style=\"text-align: right;\">\n",
       "      <th></th>\n",
       "      <th>A</th>\n",
       "      <th>B</th>\n",
       "      <th>C</th>\n",
       "      <th>D</th>\n",
       "      <th>E</th>\n",
       "      <th>F</th>\n",
       "      <th>G</th>\n",
       "      <th>H</th>\n",
       "    </tr>\n",
       "  </thead>\n",
       "  <tbody>\n",
       "    <tr>\n",
       "      <th>0</th>\n",
       "      <td>0.150312</td>\n",
       "      <td>0.979929</td>\n",
       "      <td>0.261197</td>\n",
       "      <td>1.225773</td>\n",
       "      <td>4</td>\n",
       "      <td>9</td>\n",
       "      <td>3</td>\n",
       "      <td>4</td>\n",
       "    </tr>\n",
       "    <tr>\n",
       "      <th>1</th>\n",
       "      <td>1.652808</td>\n",
       "      <td>0.707967</td>\n",
       "      <td>0.154497</td>\n",
       "      <td>0.339827</td>\n",
       "      <td>3</td>\n",
       "      <td>2</td>\n",
       "      <td>2</td>\n",
       "      <td>0</td>\n",
       "    </tr>\n",
       "    <tr>\n",
       "      <th>2</th>\n",
       "      <td>0.995342</td>\n",
       "      <td>1.342879</td>\n",
       "      <td>1.912199</td>\n",
       "      <td>0.154940</td>\n",
       "      <td>1</td>\n",
       "      <td>8</td>\n",
       "      <td>0</td>\n",
       "      <td>9</td>\n",
       "    </tr>\n",
       "    <tr>\n",
       "      <th>3</th>\n",
       "      <td>1.168305</td>\n",
       "      <td>0.357393</td>\n",
       "      <td>2.543614</td>\n",
       "      <td>0.629163</td>\n",
       "      <td>2</td>\n",
       "      <td>8</td>\n",
       "      <td>4</td>\n",
       "      <td>9</td>\n",
       "    </tr>\n",
       "    <tr>\n",
       "      <th>4</th>\n",
       "      <td>0.031150</td>\n",
       "      <td>1.628379</td>\n",
       "      <td>0.649783</td>\n",
       "      <td>1.098126</td>\n",
       "      <td>0</td>\n",
       "      <td>9</td>\n",
       "      <td>9</td>\n",
       "      <td>8</td>\n",
       "    </tr>\n",
       "  </tbody>\n",
       "</table>\n",
       "</div>"
      ],
      "text/plain": [
       "          A         B         C         D  E  F  G  H\n",
       "0  0.150312  0.979929  0.261197  1.225773  4  9  3  4\n",
       "1  1.652808  0.707967  0.154497  0.339827  3  2  2  0\n",
       "2  0.995342  1.342879  1.912199  0.154940  1  8  0  9\n",
       "3  1.168305  0.357393  2.543614  0.629163  2  8  4  9\n",
       "4  0.031150  1.628379  0.649783  1.098126  0  9  9  8"
      ]
     },
     "execution_count": 13,
     "metadata": {},
     "output_type": "execute_result"
    }
   ],
   "source": [
    "X = cleaned_df.drop('J', axis=1)\n",
    "print('dimensions:',X.shape)\n",
    "X.head()"
   ]
  },
  {
   "cell_type": "code",
   "execution_count": 14,
   "metadata": {},
   "outputs": [
    {
     "data": {
      "text/plain": [
       "0    0\n",
       "1    0\n",
       "2    0\n",
       "3    0\n",
       "4    0\n",
       "Name: J, dtype: int64"
      ]
     },
     "execution_count": 14,
     "metadata": {},
     "output_type": "execute_result"
    }
   ],
   "source": [
    "y=cleaned_df['J']\n",
    "y.head()"
   ]
  },
  {
   "cell_type": "code",
   "execution_count": 15,
   "metadata": {},
   "outputs": [],
   "source": [
    "X_train, X_test, y_train, y_test = sklearn.model_selection.train_test_split(X, y, test_size=0.33, random_state=42)"
   ]
  },
  {
   "cell_type": "code",
   "execution_count": 16,
   "metadata": {},
   "outputs": [
    {
     "name": "stdout",
     "output_type": "stream",
     "text": [
      "dimensions: (67, 8)\n"
     ]
    },
    {
     "data": {
      "text/html": [
       "<div>\n",
       "<style scoped>\n",
       "    .dataframe tbody tr th:only-of-type {\n",
       "        vertical-align: middle;\n",
       "    }\n",
       "\n",
       "    .dataframe tbody tr th {\n",
       "        vertical-align: top;\n",
       "    }\n",
       "\n",
       "    .dataframe thead th {\n",
       "        text-align: right;\n",
       "    }\n",
       "</style>\n",
       "<table border=\"1\" class=\"dataframe\">\n",
       "  <thead>\n",
       "    <tr style=\"text-align: right;\">\n",
       "      <th></th>\n",
       "      <th>A</th>\n",
       "      <th>B</th>\n",
       "      <th>C</th>\n",
       "      <th>D</th>\n",
       "      <th>E</th>\n",
       "      <th>F</th>\n",
       "      <th>G</th>\n",
       "      <th>H</th>\n",
       "    </tr>\n",
       "  </thead>\n",
       "  <tbody>\n",
       "    <tr>\n",
       "      <th>28</th>\n",
       "      <td>1.161808</td>\n",
       "      <td>0.008167</td>\n",
       "      <td>0.868759</td>\n",
       "      <td>0.678722</td>\n",
       "      <td>0</td>\n",
       "      <td>8</td>\n",
       "      <td>5</td>\n",
       "      <td>7</td>\n",
       "    </tr>\n",
       "    <tr>\n",
       "      <th>93</th>\n",
       "      <td>2.037937</td>\n",
       "      <td>1.300392</td>\n",
       "      <td>0.715537</td>\n",
       "      <td>0.726021</td>\n",
       "      <td>2</td>\n",
       "      <td>7</td>\n",
       "      <td>3</td>\n",
       "      <td>2</td>\n",
       "    </tr>\n",
       "    <tr>\n",
       "      <th>5</th>\n",
       "      <td>1.081579</td>\n",
       "      <td>2.194685</td>\n",
       "      <td>1.204773</td>\n",
       "      <td>0.667964</td>\n",
       "      <td>2</td>\n",
       "      <td>3</td>\n",
       "      <td>5</td>\n",
       "      <td>9</td>\n",
       "    </tr>\n",
       "    <tr>\n",
       "      <th>66</th>\n",
       "      <td>0.346470</td>\n",
       "      <td>0.389204</td>\n",
       "      <td>0.619180</td>\n",
       "      <td>2.004350</td>\n",
       "      <td>4</td>\n",
       "      <td>4</td>\n",
       "      <td>1</td>\n",
       "      <td>7</td>\n",
       "    </tr>\n",
       "    <tr>\n",
       "      <th>65</th>\n",
       "      <td>0.315368</td>\n",
       "      <td>0.058484</td>\n",
       "      <td>1.210778</td>\n",
       "      <td>1.495647</td>\n",
       "      <td>2</td>\n",
       "      <td>9</td>\n",
       "      <td>4</td>\n",
       "      <td>5</td>\n",
       "    </tr>\n",
       "  </tbody>\n",
       "</table>\n",
       "</div>"
      ],
      "text/plain": [
       "           A         B         C         D  E  F  G  H\n",
       "28  1.161808  0.008167  0.868759  0.678722  0  8  5  7\n",
       "93  2.037937  1.300392  0.715537  0.726021  2  7  3  2\n",
       "5   1.081579  2.194685  1.204773  0.667964  2  3  5  9\n",
       "66  0.346470  0.389204  0.619180  2.004350  4  4  1  7\n",
       "65  0.315368  0.058484  1.210778  1.495647  2  9  4  5"
      ]
     },
     "execution_count": 16,
     "metadata": {},
     "output_type": "execute_result"
    }
   ],
   "source": [
    "print('dimensions:',X_train.shape)\n",
    "X_train.head()"
   ]
  },
  {
   "cell_type": "code",
   "execution_count": 17,
   "metadata": {},
   "outputs": [
    {
     "name": "stdout",
     "output_type": "stream",
     "text": [
      "dimensions: (33, 8)\n"
     ]
    },
    {
     "data": {
      "text/html": [
       "<div>\n",
       "<style scoped>\n",
       "    .dataframe tbody tr th:only-of-type {\n",
       "        vertical-align: middle;\n",
       "    }\n",
       "\n",
       "    .dataframe tbody tr th {\n",
       "        vertical-align: top;\n",
       "    }\n",
       "\n",
       "    .dataframe thead th {\n",
       "        text-align: right;\n",
       "    }\n",
       "</style>\n",
       "<table border=\"1\" class=\"dataframe\">\n",
       "  <thead>\n",
       "    <tr style=\"text-align: right;\">\n",
       "      <th></th>\n",
       "      <th>A</th>\n",
       "      <th>B</th>\n",
       "      <th>C</th>\n",
       "      <th>D</th>\n",
       "      <th>E</th>\n",
       "      <th>F</th>\n",
       "      <th>G</th>\n",
       "      <th>H</th>\n",
       "    </tr>\n",
       "  </thead>\n",
       "  <tbody>\n",
       "    <tr>\n",
       "      <th>83</th>\n",
       "      <td>1.476630</td>\n",
       "      <td>0.057975</td>\n",
       "      <td>1.212460</td>\n",
       "      <td>0.778498</td>\n",
       "      <td>2</td>\n",
       "      <td>5</td>\n",
       "      <td>2</td>\n",
       "      <td>5</td>\n",
       "    </tr>\n",
       "    <tr>\n",
       "      <th>53</th>\n",
       "      <td>0.519646</td>\n",
       "      <td>0.925870</td>\n",
       "      <td>2.959715</td>\n",
       "      <td>0.525239</td>\n",
       "      <td>0</td>\n",
       "      <td>2</td>\n",
       "      <td>9</td>\n",
       "      <td>2</td>\n",
       "    </tr>\n",
       "    <tr>\n",
       "      <th>70</th>\n",
       "      <td>0.434600</td>\n",
       "      <td>0.069429</td>\n",
       "      <td>0.389808</td>\n",
       "      <td>0.958419</td>\n",
       "      <td>5</td>\n",
       "      <td>0</td>\n",
       "      <td>7</td>\n",
       "      <td>7</td>\n",
       "    </tr>\n",
       "    <tr>\n",
       "      <th>45</th>\n",
       "      <td>1.164568</td>\n",
       "      <td>0.524950</td>\n",
       "      <td>0.781820</td>\n",
       "      <td>0.129168</td>\n",
       "      <td>1</td>\n",
       "      <td>1</td>\n",
       "      <td>3</td>\n",
       "      <td>9</td>\n",
       "    </tr>\n",
       "    <tr>\n",
       "      <th>44</th>\n",
       "      <td>0.579018</td>\n",
       "      <td>0.078114</td>\n",
       "      <td>1.231113</td>\n",
       "      <td>0.727344</td>\n",
       "      <td>8</td>\n",
       "      <td>3</td>\n",
       "      <td>5</td>\n",
       "      <td>2</td>\n",
       "    </tr>\n",
       "  </tbody>\n",
       "</table>\n",
       "</div>"
      ],
      "text/plain": [
       "           A         B         C         D  E  F  G  H\n",
       "83  1.476630  0.057975  1.212460  0.778498  2  5  2  5\n",
       "53  0.519646  0.925870  2.959715  0.525239  0  2  9  2\n",
       "70  0.434600  0.069429  0.389808  0.958419  5  0  7  7\n",
       "45  1.164568  0.524950  0.781820  0.129168  1  1  3  9\n",
       "44  0.579018  0.078114  1.231113  0.727344  8  3  5  2"
      ]
     },
     "execution_count": 17,
     "metadata": {},
     "output_type": "execute_result"
    }
   ],
   "source": [
    "print('dimensions:',X_test.shape)\n",
    "X_test.head()"
   ]
  },
  {
   "cell_type": "code",
   "execution_count": 18,
   "metadata": {},
   "outputs": [
    {
     "name": "stdout",
     "output_type": "stream",
     "text": [
      "0    34\n",
      "1    33\n",
      "Name: J, dtype: int64\n"
     ]
    },
    {
     "data": {
      "text/plain": [
       "28    0\n",
       "93    0\n",
       "5     1\n",
       "66    0\n",
       "65    1\n",
       "Name: J, dtype: int64"
      ]
     },
     "execution_count": 18,
     "metadata": {},
     "output_type": "execute_result"
    }
   ],
   "source": [
    "print(y_train.value_counts())\n",
    "\n",
    "y_train.head()"
   ]
  },
  {
   "cell_type": "code",
   "execution_count": 19,
   "metadata": {},
   "outputs": [
    {
     "name": "stdout",
     "output_type": "stream",
     "text": [
      "1    17\n",
      "0    16\n",
      "Name: J, dtype: int64\n"
     ]
    },
    {
     "data": {
      "text/plain": [
       "83    0\n",
       "53    1\n",
       "70    1\n",
       "45    0\n",
       "44    0\n",
       "Name: J, dtype: int64"
      ]
     },
     "execution_count": 19,
     "metadata": {},
     "output_type": "execute_result"
    }
   ],
   "source": [
    "print(y_test.value_counts())\n",
    "\n",
    "y_test.head()"
   ]
  },
  {
   "cell_type": "markdown",
   "metadata": {},
   "source": [
    "# Support Vector Machine\n",
    "\n",
    "https://scikit-learn.org/stable/modules/svm.html\n",
    "\n",
    "https://scikit-learn.org/stable/modules/generated/sklearn.svm.SVC.html"
   ]
  },
  {
   "cell_type": "code",
   "execution_count": 20,
   "metadata": {},
   "outputs": [
    {
     "data": {
      "text/plain": [
       "SVC(C=1.0, cache_size=200, class_weight=None, coef0=0.0,\n",
       "  decision_function_shape='ovr', degree=3, gamma='auto', kernel='rbf',\n",
       "  max_iter=-1, probability=True, random_state=None, shrinking=True,\n",
       "  tol=0.001, verbose=False)"
      ]
     },
     "execution_count": 20,
     "metadata": {},
     "output_type": "execute_result"
    }
   ],
   "source": [
    "svm_clf = sklearn.svm.SVC(gamma='auto',probability=True)\n",
    "output = svm_clf.fit(X_train, y_train) \n",
    "output"
   ]
  },
  {
   "cell_type": "code",
   "execution_count": 21,
   "metadata": {},
   "outputs": [
    {
     "data": {
      "text/plain": [
       "array([0, 1, 1, 1, 1, 0, 1, 1, 0, 0, 1, 0, 1, 1, 0, 1, 1, 1, 1, 1, 0, 0, 0,\n",
       "       0, 1, 0, 0, 1, 1, 0, 0, 0, 1])"
      ]
     },
     "execution_count": 21,
     "metadata": {},
     "output_type": "execute_result"
    }
   ],
   "source": [
    "y_pred = svm_clf.predict(X_test)\n",
    "y_pred"
   ]
  },
  {
   "cell_type": "code",
   "execution_count": 22,
   "metadata": {},
   "outputs": [
    {
     "data": {
      "text/plain": [
       "83    0\n",
       "53    1\n",
       "70    1\n",
       "45    0\n",
       "44    0\n",
       "Name: J, dtype: int64"
      ]
     },
     "execution_count": 22,
     "metadata": {},
     "output_type": "execute_result"
    }
   ],
   "source": [
    "y_test.head()"
   ]
  },
  {
   "cell_type": "markdown",
   "metadata": {},
   "source": [
    "https://scikit-learn.org/stable/modules/model_evaluation.html#accuracy-score\n",
    "    \n",
    "https://scikit-learn.org/stable/modules/generated/sklearn.metrics.accuracy_score.html"
   ]
  },
  {
   "cell_type": "code",
   "execution_count": 23,
   "metadata": {},
   "outputs": [
    {
     "name": "stdout",
     "output_type": "stream",
     "text": [
      "Accuracy: 0.606061\n"
     ]
    }
   ],
   "source": [
    "score = sklearn.metrics.accuracy_score(y_test,y_pred)\n",
    "print(\"Accuracy: %f\" % score)"
   ]
  },
  {
   "cell_type": "markdown",
   "metadata": {},
   "source": [
    "https://en.wikipedia.org/wiki/Receiver_operating_characteristic\n",
    "\n",
    "Rather than navigate this code, https://scikit-learn.org/stable/auto_examples/model_selection/plot_roc.html and https://scikit-learn.org/stable/modules/generated/sklearn.metrics.roc_curve.html\n",
    "\n",
    "I'm going to use <a href=\"https://github.com/reiinakano/scikit-plot\">scikit-plot</a> to visualize the ROC "
   ]
  },
  {
   "cell_type": "code",
   "execution_count": 24,
   "metadata": {},
   "outputs": [
    {
     "data": {
      "text/plain": [
       "array([[ 0.45479672,  0.54520328],\n",
       "       [ 0.46934821,  0.53065179],\n",
       "       [ 0.5353665 ,  0.4646335 ],\n",
       "       [ 0.47833209,  0.52166791],\n",
       "       [ 0.54201031,  0.45798969],\n",
       "       [ 0.51291581,  0.48708419],\n",
       "       [ 0.56588528,  0.43411472],\n",
       "       [ 0.51115074,  0.48884926],\n",
       "       [ 0.46438345,  0.53561655],\n",
       "       [ 0.55258817,  0.44741183]])"
      ]
     },
     "execution_count": 24,
     "metadata": {},
     "output_type": "execute_result"
    }
   ],
   "source": [
    "# Get y_probabilities\n",
    "y_probas = svm_clf.predict_proba(X_train)\n",
    "y_probas[0:10]"
   ]
  },
  {
   "cell_type": "code",
   "execution_count": 25,
   "metadata": {},
   "outputs": [
    {
     "data": {
      "image/png": "[encoded data removed]",
      "text/plain": [
       "<Figure size 432x288 with 1 Axes>"
      ]
     },
     "metadata": {
      "needs_background": "light"
     },
     "output_type": "display_data"
    }
   ],
   "source": [
    "# https://github.com/reiinakano/scikit-plot/blob/master/examples/jupyter_notebooks/plot_roc_curve.ipynb\n",
    "scikitplot.metrics.plot_roc(y_train, y_probas, cmap='nipy_spectral')\n",
    "plt.show()"
   ]
  },
  {
   "cell_type": "code",
   "execution_count": 26,
   "metadata": {},
   "outputs": [
    {
     "data": {
      "text/plain": [
       "array([0, 0, 0, 1, 0, 1, 1, 0, 1, 1, 1, 0, 1, 1, 0, 0, 0, 0, 0, 1, 1, 1, 0,\n",
       "       1, 1, 0, 0, 0, 0, 0, 0, 1, 0, 1, 1, 0, 0, 0, 0, 1, 0, 0, 0, 1, 0, 1,\n",
       "       1, 1, 1, 1, 1, 0, 1, 0, 0, 0, 0, 1, 0, 0, 0, 0, 0, 1, 1, 0, 0])"
      ]
     },
     "execution_count": 26,
     "metadata": {},
     "output_type": "execute_result"
    }
   ],
   "source": [
    "#https://github.com/reiinakano/scikit-plot/blob/master/examples/jupyter_notebooks/plot_confusion_matrix.ipynb\n",
    "predictions = sklearn.model_selection.cross_val_predict(svm_clf, X_train, y_train,cv=3)\n",
    "predictions"
   ]
  },
  {
   "cell_type": "code",
   "execution_count": 27,
   "metadata": {},
   "outputs": [
    {
     "data": {
      "image/png": "[encoded data removed]",
      "text/plain": [
       "<Figure size 432x288 with 2 Axes>"
      ]
     },
     "metadata": {
      "needs_background": "light"
     },
     "output_type": "display_data"
    }
   ],
   "source": [
    "plot = scikitplot.metrics.plot_confusion_matrix(y_train, predictions, normalize=True)"
   ]
  },
  {
   "cell_type": "markdown",
   "metadata": {},
   "source": [
    "# Logistic regression"
   ]
  },
  {
   "cell_type": "code",
   "execution_count": 28,
   "metadata": {},
   "outputs": [
    {
     "name": "stderr",
     "output_type": "stream",
     "text": [
      "/opt/conda/lib/python3.6/site-packages/sklearn/linear_model/logistic.py:433: FutureWarning: Default solver will be changed to 'lbfgs' in 0.22. Specify a solver to silence this warning.\n",
      "  FutureWarning)\n"
     ]
    },
    {
     "data": {
      "text/plain": [
       "LogisticRegression(C=1.0, class_weight=None, dual=False, fit_intercept=True,\n",
       "          intercept_scaling=1, max_iter=100, multi_class='warn',\n",
       "          n_jobs=None, penalty='l2', random_state=None, solver='warn',\n",
       "          tol=0.0001, verbose=0, warm_start=False)"
      ]
     },
     "execution_count": 28,
     "metadata": {},
     "output_type": "execute_result"
    }
   ],
   "source": [
    "lr_clf = sklearn.linear_model.LogisticRegression()\n",
    "lr_clf.fit(X_test, y_test)"
   ]
  },
  {
   "cell_type": "code",
   "execution_count": 29,
   "metadata": {},
   "outputs": [
    {
     "data": {
      "text/plain": [
       "array([0, 1, 1, 0, 1, 1, 1, 1, 1, 0, 0, 1, 1, 0, 1, 0, 1, 0, 1, 1, 0, 1, 0,\n",
       "       0, 1, 1, 0, 0, 0, 1, 1, 0, 1])"
      ]
     },
     "execution_count": 29,
     "metadata": {},
     "output_type": "execute_result"
    }
   ],
   "source": [
    "y_pred = lr_clf.predict(X_test)\n",
    "y_pred"
   ]
  },
  {
   "cell_type": "code",
   "execution_count": 30,
   "metadata": {},
   "outputs": [
    {
     "data": {
      "text/plain": [
       "83    0\n",
       "53    1\n",
       "70    1\n",
       "45    0\n",
       "44    0\n",
       "39    1\n",
       "22    1\n",
       "80    1\n",
       "10    0\n",
       "0     0\n",
       "18    1\n",
       "30    1\n",
       "73    0\n",
       "33    0\n",
       "90    1\n",
       "4     0\n",
       "76    1\n",
       "77    0\n",
       "12    1\n",
       "31    1\n",
       "55    0\n",
       "88    0\n",
       "26    0\n",
       "42    0\n",
       "69    1\n",
       "15    1\n",
       "40    1\n",
       "96    1\n",
       "9     0\n",
       "72    1\n",
       "11    0\n",
       "47    0\n",
       "85    1\n",
       "Name: J, dtype: int64"
      ]
     },
     "execution_count": 30,
     "metadata": {},
     "output_type": "execute_result"
    }
   ],
   "source": [
    "y_test"
   ]
  },
  {
   "cell_type": "code",
   "execution_count": 31,
   "metadata": {},
   "outputs": [
    {
     "name": "stdout",
     "output_type": "stream",
     "text": [
      "score: 0.757575757576\n"
     ]
    }
   ],
   "source": [
    "print('score:', sklearn.metrics.accuracy_score(y_test,y_pred) )"
   ]
  },
  {
   "cell_type": "markdown",
   "metadata": {},
   "source": [
    "# K nearest neighbors\n",
    "\n",
    "https://scikit-learn.org/stable/modules/generated/sklearn.neighbors.KNeighborsClassifier.html"
   ]
  },
  {
   "cell_type": "code",
   "execution_count": 32,
   "metadata": {},
   "outputs": [
    {
     "data": {
      "text/plain": [
       "KNeighborsClassifier(algorithm='auto', leaf_size=30, metric='minkowski',\n",
       "           metric_params=None, n_jobs=None, n_neighbors=3, p=2,\n",
       "           weights='uniform')"
      ]
     },
     "execution_count": 32,
     "metadata": {},
     "output_type": "execute_result"
    }
   ],
   "source": [
    "neigh = sklearn.neighbors.KNeighborsClassifier(n_neighbors=3)\n",
    "neigh.fit(X_train, y_train) "
   ]
  },
  {
   "cell_type": "code",
   "execution_count": 33,
   "metadata": {},
   "outputs": [
    {
     "data": {
      "text/plain": [
       "array([0, 1, 1, 1, 1, 0, 1, 1, 0, 0, 1, 1, 1, 1, 0, 1, 1, 1, 1, 0, 0, 0, 0,\n",
       "       0, 0, 0, 0, 1, 0, 0, 0, 0, 0])"
      ]
     },
     "execution_count": 33,
     "metadata": {},
     "output_type": "execute_result"
    }
   ],
   "source": [
    "y_pred = neigh.predict(X_test)\n",
    "y_pred"
   ]
  },
  {
   "cell_type": "code",
   "execution_count": 34,
   "metadata": {},
   "outputs": [
    {
     "data": {
      "text/plain": [
       "83    0\n",
       "53    1\n",
       "70    1\n",
       "45    0\n",
       "44    0\n",
       "39    1\n",
       "22    1\n",
       "80    1\n",
       "10    0\n",
       "0     0\n",
       "18    1\n",
       "30    1\n",
       "73    0\n",
       "33    0\n",
       "90    1\n",
       "4     0\n",
       "76    1\n",
       "77    0\n",
       "12    1\n",
       "31    1\n",
       "55    0\n",
       "88    0\n",
       "26    0\n",
       "42    0\n",
       "69    1\n",
       "15    1\n",
       "40    1\n",
       "96    1\n",
       "9     0\n",
       "72    1\n",
       "11    0\n",
       "47    0\n",
       "85    1\n",
       "Name: J, dtype: int64"
      ]
     },
     "execution_count": 34,
     "metadata": {},
     "output_type": "execute_result"
    }
   ],
   "source": [
    "y_test"
   ]
  },
  {
   "cell_type": "markdown",
   "metadata": {},
   "source": [
    "# naive bayes\n",
    "\n",
    "https://scikit-learn.org/stable/modules/naive_bayes.html"
   ]
  },
  {
   "cell_type": "code",
   "execution_count": 35,
   "metadata": {},
   "outputs": [
    {
     "data": {
      "text/plain": [
       "array([0, 1, 1, 0, 0, 0, 0, 0, 0, 0, 1, 0, 1, 0, 0, 0, 0, 1, 1, 0, 0, 1, 0,\n",
       "       0, 0, 1, 0, 1, 1, 1, 1, 1, 1])"
      ]
     },
     "execution_count": 35,
     "metadata": {},
     "output_type": "execute_result"
    }
   ],
   "source": [
    "gnb = sklearn.naive_bayes.GaussianNB()\n",
    "y_pred = gnb.fit(X_train, y_train).predict(X_test)\n",
    "y_pred"
   ]
  },
  {
   "cell_type": "code",
   "execution_count": 36,
   "metadata": {},
   "outputs": [
    {
     "data": {
      "text/plain": [
       "83    0\n",
       "53    1\n",
       "70    1\n",
       "45    0\n",
       "44    0\n",
       "39    1\n",
       "22    1\n",
       "80    1\n",
       "10    0\n",
       "0     0\n",
       "18    1\n",
       "30    1\n",
       "73    0\n",
       "33    0\n",
       "90    1\n",
       "4     0\n",
       "76    1\n",
       "77    0\n",
       "12    1\n",
       "31    1\n",
       "55    0\n",
       "88    0\n",
       "26    0\n",
       "42    0\n",
       "69    1\n",
       "15    1\n",
       "40    1\n",
       "96    1\n",
       "9     0\n",
       "72    1\n",
       "11    0\n",
       "47    0\n",
       "85    1\n",
       "Name: J, dtype: int64"
      ]
     },
     "execution_count": 36,
     "metadata": {},
     "output_type": "execute_result"
    }
   ],
   "source": [
    "y_test"
   ]
  },
  {
   "cell_type": "code",
   "execution_count": 37,
   "metadata": {},
   "outputs": [
    {
     "name": "stdout",
     "output_type": "stream",
     "text": [
      "Accuracy: 0.545455\n"
     ]
    }
   ],
   "source": [
    "# https://scikit-learn.org/stable/modules/generated/sklearn.metrics.accuracy_score.html\n",
    "score = sklearn.metrics.accuracy_score(y_test,y_pred)\n",
    "print(\"Accuracy: %f\" % score)"
   ]
  },
  {
   "cell_type": "markdown",
   "metadata": {},
   "source": [
    "# Decision tree\n",
    "\n",
    "https://scikit-learn.org/stable/modules/tree.html"
   ]
  },
  {
   "cell_type": "code",
   "execution_count": 38,
   "metadata": {},
   "outputs": [],
   "source": [
    "dt_clf = sklearn.tree.DecisionTreeClassifier()\n",
    "dt_clf = dt_clf.fit(X_train, y_train)"
   ]
  },
  {
   "cell_type": "code",
   "execution_count": 39,
   "metadata": {},
   "outputs": [
    {
     "data": {
      "text/plain": [
       "array([0, 1, 1, 0, 1, 0, 1, 0, 0, 1, 1, 0, 1, 1, 1, 1, 1, 1, 1, 0, 0, 1, 0,\n",
       "       0, 1, 1, 0, 1, 1, 0, 1, 1, 1])"
      ]
     },
     "execution_count": 39,
     "metadata": {},
     "output_type": "execute_result"
    }
   ],
   "source": [
    "dt_clf.predict(X_test) # what should y_test be based on the X_test input?"
   ]
  },
  {
   "cell_type": "code",
   "execution_count": 40,
   "metadata": {},
   "outputs": [
    {
     "data": {
      "text/plain": [
       "83    0\n",
       "53    1\n",
       "70    1\n",
       "45    0\n",
       "44    0\n",
       "39    1\n",
       "22    1\n",
       "80    1\n",
       "10    0\n",
       "0     0\n",
       "18    1\n",
       "30    1\n",
       "73    0\n",
       "33    0\n",
       "90    1\n",
       "4     0\n",
       "76    1\n",
       "77    0\n",
       "12    1\n",
       "31    1\n",
       "55    0\n",
       "88    0\n",
       "26    0\n",
       "42    0\n",
       "69    1\n",
       "15    1\n",
       "40    1\n",
       "96    1\n",
       "9     0\n",
       "72    1\n",
       "11    0\n",
       "47    0\n",
       "85    1\n",
       "Name: J, dtype: int64"
      ]
     },
     "execution_count": 40,
     "metadata": {},
     "output_type": "execute_result"
    }
   ],
   "source": [
    "y_test # and what the actual values are for y_test"
   ]
  },
  {
   "cell_type": "code",
   "execution_count": 41,
   "metadata": {},
   "outputs": [],
   "source": [
    "dot_data = sklearn.tree.export_graphviz(dt_clf, out_file=None) \n",
    "graph = graphviz.Source(dot_data) \n",
    "#graph.render(\"iris\") # PDF"
   ]
  },
  {
   "cell_type": "code",
   "execution_count": 42,
   "metadata": {},
   "outputs": [
    {
     "data": {
      "image/svg+xml": [
       "<?xml version=\"1.0\" encoding=\"UTF-8\" standalone=\"no\"?>\n",
       "<!DOCTYPE svg PUBLIC \"-//W3C//DTD SVG 1.1//EN\"\n",
       " \"http://www.w3.org/Graphics/SVG/1.1/DTD/svg11.dtd\">\n",
       "<!-- Generated by graphviz version 2.38.0 (20140413.2041)\n",
       " -->\n",
       "<!-- Title: Tree Pages: 1 -->\n",
       "<svg width=\"1147pt\" height=\"761pt\"\n",
       " viewBox=\"0.00 0.00 1146.50 761.00\" xmlns=\"http://www.w3.org/2000/svg\" xmlns:xlink=\"http://www.w3.org/1999/xlink\">\n",
       "<g id=\"graph0\" class=\"graph\" transform=\"scale(1 1) rotate(0) translate(4 757)\">\n",
       "<title>Tree</title>\n",
       "<polygon fill=\"white\" stroke=\"none\" points=\"-4,4 -4,-757 1142.5,-757 1142.5,4 -4,4\"/>\n",
       "<!-- 0 -->\n",
       "<g id=\"node1\" class=\"node\"><title>0</title>\n",
       "<path fill=\"#e58139\" fill-opacity=\"0.031373\" stroke=\"black\" d=\"M693,-753C693,-753 585,-753 585,-753 579,-753 573,-747 573,-741 573,-741 573,-701 573,-701 573,-695 579,-689 585,-689 585,-689 693,-689 693,-689 699,-689 705,-695 705,-701 705,-701 705,-741 705,-741 705,-747 699,-753 693,-753\"/>\n",
       "<text text-anchor=\"start\" x=\"608\" y=\"-738.8\" font-family=\"Helvetica,sans-Serif\" font-size=\"14.00\">X</text>\n",
       "<text text-anchor=\"start\" x=\"618\" y=\"-738.8\" font-family=\"Helvetica,sans-Serif\" baseline-shift=\"sub\" font-size=\"14.00\">4</text>\n",
       "<text text-anchor=\"start\" x=\"626\" y=\"-738.8\" font-family=\"Helvetica,sans-Serif\" font-size=\"14.00\"> ≤ 4.5</text>\n",
       "<text text-anchor=\"start\" x=\"604\" y=\"-724.8\" font-family=\"Helvetica,sans-Serif\" font-size=\"14.00\">gini = 0.5</text>\n",
       "<text text-anchor=\"start\" x=\"589\" y=\"-710.8\" font-family=\"Helvetica,sans-Serif\" font-size=\"14.00\">samples = 67</text>\n",
       "<text text-anchor=\"start\" x=\"581\" y=\"-696.8\" font-family=\"Helvetica,sans-Serif\" font-size=\"14.00\">value = [34, 33]</text>\n",
       "</g>\n",
       "<!-- 1 -->\n",
       "<g id=\"node2\" class=\"node\"><title>1</title>\n",
       "<path fill=\"#e58139\" fill-opacity=\"0.360784\" stroke=\"black\" d=\"M620,-653C620,-653 512,-653 512,-653 506,-653 500,-647 500,-641 500,-641 500,-601 500,-601 500,-595 506,-589 512,-589 512,-589 620,-589 620,-589 626,-589 632,-595 632,-601 632,-601 632,-641 632,-641 632,-647 626,-653 620,-653\"/>\n",
       "<text text-anchor=\"start\" x=\"535\" y=\"-638.8\" font-family=\"Helvetica,sans-Serif\" font-size=\"14.00\">X</text>\n",
       "<text text-anchor=\"start\" x=\"545\" y=\"-638.8\" font-family=\"Helvetica,sans-Serif\" baseline-shift=\"sub\" font-size=\"14.00\">5</text>\n",
       "<text text-anchor=\"start\" x=\"553\" y=\"-638.8\" font-family=\"Helvetica,sans-Serif\" font-size=\"14.00\"> ≤ 8.5</text>\n",
       "<text text-anchor=\"start\" x=\"522\" y=\"-624.8\" font-family=\"Helvetica,sans-Serif\" font-size=\"14.00\">gini = 0.476</text>\n",
       "<text text-anchor=\"start\" x=\"516\" y=\"-610.8\" font-family=\"Helvetica,sans-Serif\" font-size=\"14.00\">samples = 41</text>\n",
       "<text text-anchor=\"start\" x=\"508\" y=\"-596.8\" font-family=\"Helvetica,sans-Serif\" font-size=\"14.00\">value = [25, 16]</text>\n",
       "</g>\n",
       "<!-- 0&#45;&gt;1 -->\n",
       "<g id=\"edge1\" class=\"edge\"><title>0&#45;&gt;1</title>\n",
       "<path fill=\"none\" stroke=\"black\" d=\"M615.902,-688.992C609.378,-680.234 602.191,-670.585 595.352,-661.404\"/>\n",
       "<polygon fill=\"black\" stroke=\"black\" points=\"597.979,-659.071 589.198,-653.142 592.365,-663.253 597.979,-659.071\"/>\n",
       "<text text-anchor=\"middle\" x=\"585.581\" y=\"-674.179\" font-family=\"Helvetica,sans-Serif\" font-size=\"14.00\">True</text>\n",
       "</g>\n",
       "<!-- 20 -->\n",
       "<g id=\"node21\" class=\"node\"><title>20</title>\n",
       "<path fill=\"#399de5\" fill-opacity=\"0.470588\" stroke=\"black\" d=\"M761.5,-653C761.5,-653 662.5,-653 662.5,-653 656.5,-653 650.5,-647 650.5,-641 650.5,-641 650.5,-601 650.5,-601 650.5,-595 656.5,-589 662.5,-589 662.5,-589 761.5,-589 761.5,-589 767.5,-589 773.5,-595 773.5,-601 773.5,-601 773.5,-641 773.5,-641 773.5,-647 767.5,-653 761.5,-653\"/>\n",
       "<text text-anchor=\"start\" x=\"676.5\" y=\"-638.8\" font-family=\"Helvetica,sans-Serif\" font-size=\"14.00\">X</text>\n",
       "<text text-anchor=\"start\" x=\"686.5\" y=\"-638.8\" font-family=\"Helvetica,sans-Serif\" baseline-shift=\"sub\" font-size=\"14.00\">0</text>\n",
       "<text text-anchor=\"start\" x=\"694.5\" y=\"-638.8\" font-family=\"Helvetica,sans-Serif\" font-size=\"14.00\"> ≤ 0.58</text>\n",
       "<text text-anchor=\"start\" x=\"668\" y=\"-624.8\" font-family=\"Helvetica,sans-Serif\" font-size=\"14.00\">gini = 0.453</text>\n",
       "<text text-anchor=\"start\" x=\"662\" y=\"-610.8\" font-family=\"Helvetica,sans-Serif\" font-size=\"14.00\">samples = 26</text>\n",
       "<text text-anchor=\"start\" x=\"658.5\" y=\"-596.8\" font-family=\"Helvetica,sans-Serif\" font-size=\"14.00\">value = [9, 17]</text>\n",
       "</g>\n",
       "<!-- 0&#45;&gt;20 -->\n",
       "<g id=\"edge20\" class=\"edge\"><title>0&#45;&gt;20</title>\n",
       "<path fill=\"none\" stroke=\"black\" d=\"M662.098,-688.992C668.622,-680.234 675.809,-670.585 682.648,-661.404\"/>\n",
       "<polygon fill=\"black\" stroke=\"black\" points=\"685.635,-663.253 688.802,-653.142 680.021,-659.071 685.635,-663.253\"/>\n",
       "<text text-anchor=\"middle\" x=\"692.419\" y=\"-674.179\" font-family=\"Helvetica,sans-Serif\" font-size=\"14.00\">False</text>\n",
       "</g>\n",
       "<!-- 2 -->\n",
       "<g id=\"node3\" class=\"node\"><title>2</title>\n",
       "<path fill=\"#e58139\" fill-opacity=\"0.478431\" stroke=\"black\" d=\"M483,-553C483,-553 375,-553 375,-553 369,-553 363,-547 363,-541 363,-541 363,-501 363,-501 363,-495 369,-489 375,-489 375,-489 483,-489 483,-489 489,-489 495,-495 495,-501 495,-501 495,-541 495,-541 495,-547 489,-553 483,-553\"/>\n",
       "<text text-anchor=\"start\" x=\"389\" y=\"-538.8\" font-family=\"Helvetica,sans-Serif\" font-size=\"14.00\">X</text>\n",
       "<text text-anchor=\"start\" x=\"399\" y=\"-538.8\" font-family=\"Helvetica,sans-Serif\" baseline-shift=\"sub\" font-size=\"14.00\">2</text>\n",
       "<text text-anchor=\"start\" x=\"407\" y=\"-538.8\" font-family=\"Helvetica,sans-Serif\" font-size=\"14.00\"> ≤ 0.091</text>\n",
       "<text text-anchor=\"start\" x=\"389.5\" y=\"-524.8\" font-family=\"Helvetica,sans-Serif\" font-size=\"14.00\">gini = 0.45</text>\n",
       "<text text-anchor=\"start\" x=\"379\" y=\"-510.8\" font-family=\"Helvetica,sans-Serif\" font-size=\"14.00\">samples = 38</text>\n",
       "<text text-anchor=\"start\" x=\"371\" y=\"-496.8\" font-family=\"Helvetica,sans-Serif\" font-size=\"14.00\">value = [25, 13]</text>\n",
       "</g>\n",
       "<!-- 1&#45;&gt;2 -->\n",
       "<g id=\"edge2\" class=\"edge\"><title>1&#45;&gt;2</title>\n",
       "<path fill=\"none\" stroke=\"black\" d=\"M522.652,-588.992C509.409,-579.519 494.709,-569.004 480.956,-559.165\"/>\n",
       "<polygon fill=\"black\" stroke=\"black\" points=\"482.706,-556.114 472.536,-553.142 478.633,-561.807 482.706,-556.114\"/>\n",
       "</g>\n",
       "<!-- 19 -->\n",
       "<g id=\"node20\" class=\"node\"><title>19</title>\n",
       "<path fill=\"#399de5\" stroke=\"black\" d=\"M615,-547.5C615,-547.5 525,-547.5 525,-547.5 519,-547.5 513,-541.5 513,-535.5 513,-535.5 513,-506.5 513,-506.5 513,-500.5 519,-494.5 525,-494.5 525,-494.5 615,-494.5 615,-494.5 621,-494.5 627,-500.5 627,-506.5 627,-506.5 627,-535.5 627,-535.5 627,-541.5 621,-547.5 615,-547.5\"/>\n",
       "<text text-anchor=\"start\" x=\"535\" y=\"-532.3\" font-family=\"Helvetica,sans-Serif\" font-size=\"14.00\">gini = 0.0</text>\n",
       "<text text-anchor=\"start\" x=\"524.5\" y=\"-517.3\" font-family=\"Helvetica,sans-Serif\" font-size=\"14.00\">samples = 3</text>\n",
       "<text text-anchor=\"start\" x=\"521\" y=\"-502.3\" font-family=\"Helvetica,sans-Serif\" font-size=\"14.00\">value = [0, 3]</text>\n",
       "</g>\n",
       "<!-- 1&#45;&gt;19 -->\n",
       "<g id=\"edge19\" class=\"edge\"><title>1&#45;&gt;19</title>\n",
       "<path fill=\"none\" stroke=\"black\" d=\"M567.266,-588.992C567.67,-579.087 568.121,-568.042 568.538,-557.824\"/>\n",
       "<polygon fill=\"black\" stroke=\"black\" points=\"572.046,-557.691 568.957,-547.556 565.052,-557.405 572.046,-557.691\"/>\n",
       "</g>\n",
       "<!-- 3 -->\n",
       "<g id=\"node4\" class=\"node\"><title>3</title>\n",
       "<path fill=\"#399de5\" stroke=\"black\" d=\"M340,-447.5C340,-447.5 250,-447.5 250,-447.5 244,-447.5 238,-441.5 238,-435.5 238,-435.5 238,-406.5 238,-406.5 238,-400.5 244,-394.5 250,-394.5 250,-394.5 340,-394.5 340,-394.5 346,-394.5 352,-400.5 352,-406.5 352,-406.5 352,-435.5 352,-435.5 352,-441.5 346,-447.5 340,-447.5\"/>\n",
       "<text text-anchor=\"start\" x=\"260\" y=\"-432.3\" font-family=\"Helvetica,sans-Serif\" font-size=\"14.00\">gini = 0.0</text>\n",
       "<text text-anchor=\"start\" x=\"249.5\" y=\"-417.3\" font-family=\"Helvetica,sans-Serif\" font-size=\"14.00\">samples = 3</text>\n",
       "<text text-anchor=\"start\" x=\"246\" y=\"-402.3\" font-family=\"Helvetica,sans-Serif\" font-size=\"14.00\">value = [0, 3]</text>\n",
       "</g>\n",
       "<!-- 2&#45;&gt;3 -->\n",
       "<g id=\"edge3\" class=\"edge\"><title>2&#45;&gt;3</title>\n",
       "<path fill=\"none\" stroke=\"black\" d=\"M386.602,-488.992C371.204,-477.731 353.794,-464.998 338.318,-453.68\"/>\n",
       "<polygon fill=\"black\" stroke=\"black\" points=\"340.082,-450.635 329.944,-447.556 335.95,-456.285 340.082,-450.635\"/>\n",
       "</g>\n",
       "<!-- 4 -->\n",
       "<g id=\"node5\" class=\"node\"><title>4</title>\n",
       "<path fill=\"#e58139\" fill-opacity=\"0.600000\" stroke=\"black\" d=\"M490,-453C490,-453 382,-453 382,-453 376,-453 370,-447 370,-441 370,-441 370,-401 370,-401 370,-395 376,-389 382,-389 382,-389 490,-389 490,-389 496,-389 502,-395 502,-401 502,-401 502,-441 502,-441 502,-447 496,-453 490,-453\"/>\n",
       "<text text-anchor=\"start\" x=\"405\" y=\"-438.8\" font-family=\"Helvetica,sans-Serif\" font-size=\"14.00\">X</text>\n",
       "<text text-anchor=\"start\" x=\"415\" y=\"-438.8\" font-family=\"Helvetica,sans-Serif\" baseline-shift=\"sub\" font-size=\"14.00\">6</text>\n",
       "<text text-anchor=\"start\" x=\"423\" y=\"-438.8\" font-family=\"Helvetica,sans-Serif\" font-size=\"14.00\"> ≤ 6.5</text>\n",
       "<text text-anchor=\"start\" x=\"392\" y=\"-424.8\" font-family=\"Helvetica,sans-Serif\" font-size=\"14.00\">gini = 0.408</text>\n",
       "<text text-anchor=\"start\" x=\"386\" y=\"-410.8\" font-family=\"Helvetica,sans-Serif\" font-size=\"14.00\">samples = 35</text>\n",
       "<text text-anchor=\"start\" x=\"378\" y=\"-396.8\" font-family=\"Helvetica,sans-Serif\" font-size=\"14.00\">value = [25, 10]</text>\n",
       "</g>\n",
       "<!-- 2&#45;&gt;4 -->\n",
       "<g id=\"edge4\" class=\"edge\"><title>2&#45;&gt;4</title>\n",
       "<path fill=\"none\" stroke=\"black\" d=\"M431.215,-488.992C431.796,-480.859 432.432,-471.959 433.044,-463.378\"/>\n",
       "<polygon fill=\"black\" stroke=\"black\" points=\"436.554,-463.366 433.776,-453.142 429.572,-462.868 436.554,-463.366\"/>\n",
       "</g>\n",
       "<!-- 5 -->\n",
       "<g id=\"node6\" class=\"node\"><title>5</title>\n",
       "<path fill=\"#e58139\" fill-opacity=\"0.772549\" stroke=\"black\" d=\"M375.5,-353C375.5,-353 276.5,-353 276.5,-353 270.5,-353 264.5,-347 264.5,-341 264.5,-341 264.5,-301 264.5,-301 264.5,-295 270.5,-289 276.5,-289 276.5,-289 375.5,-289 375.5,-289 381.5,-289 387.5,-295 387.5,-301 387.5,-301 387.5,-341 387.5,-341 387.5,-347 381.5,-353 375.5,-353\"/>\n",
       "<text text-anchor=\"start\" x=\"295\" y=\"-338.8\" font-family=\"Helvetica,sans-Serif\" font-size=\"14.00\">X</text>\n",
       "<text text-anchor=\"start\" x=\"305\" y=\"-338.8\" font-family=\"Helvetica,sans-Serif\" baseline-shift=\"sub\" font-size=\"14.00\">6</text>\n",
       "<text text-anchor=\"start\" x=\"313\" y=\"-338.8\" font-family=\"Helvetica,sans-Serif\" font-size=\"14.00\"> ≤ 0.5</text>\n",
       "<text text-anchor=\"start\" x=\"282\" y=\"-324.8\" font-family=\"Helvetica,sans-Serif\" font-size=\"14.00\">gini = 0.302</text>\n",
       "<text text-anchor=\"start\" x=\"276\" y=\"-310.8\" font-family=\"Helvetica,sans-Serif\" font-size=\"14.00\">samples = 27</text>\n",
       "<text text-anchor=\"start\" x=\"272.5\" y=\"-296.8\" font-family=\"Helvetica,sans-Serif\" font-size=\"14.00\">value = [22, 5]</text>\n",
       "</g>\n",
       "<!-- 4&#45;&gt;5 -->\n",
       "<g id=\"edge5\" class=\"edge\"><title>4&#45;&gt;5</title>\n",
       "<path fill=\"none\" stroke=\"black\" d=\"M401.195,-388.992C390.863,-379.787 379.426,-369.598 368.656,-360.002\"/>\n",
       "<polygon fill=\"black\" stroke=\"black\" points=\"370.751,-357.181 360.956,-353.142 366.094,-362.408 370.751,-357.181\"/>\n",
       "</g>\n",
       "<!-- 14 -->\n",
       "<g id=\"node15\" class=\"node\"><title>14</title>\n",
       "<path fill=\"#399de5\" fill-opacity=\"0.400000\" stroke=\"black\" d=\"M508,-353C508,-353 418,-353 418,-353 412,-353 406,-347 406,-341 406,-341 406,-301 406,-301 406,-295 412,-289 418,-289 418,-289 508,-289 508,-289 514,-289 520,-295 520,-301 520,-301 520,-341 520,-341 520,-347 514,-353 508,-353\"/>\n",
       "<text text-anchor=\"start\" x=\"423\" y=\"-338.8\" font-family=\"Helvetica,sans-Serif\" font-size=\"14.00\">X</text>\n",
       "<text text-anchor=\"start\" x=\"433\" y=\"-338.8\" font-family=\"Helvetica,sans-Serif\" baseline-shift=\"sub\" font-size=\"14.00\">3</text>\n",
       "<text text-anchor=\"start\" x=\"441\" y=\"-338.8\" font-family=\"Helvetica,sans-Serif\" font-size=\"14.00\"> ≤ 0.672</text>\n",
       "<text text-anchor=\"start\" x=\"419\" y=\"-324.8\" font-family=\"Helvetica,sans-Serif\" font-size=\"14.00\">gini = 0.469</text>\n",
       "<text text-anchor=\"start\" x=\"417.5\" y=\"-310.8\" font-family=\"Helvetica,sans-Serif\" font-size=\"14.00\">samples = 8</text>\n",
       "<text text-anchor=\"start\" x=\"414\" y=\"-296.8\" font-family=\"Helvetica,sans-Serif\" font-size=\"14.00\">value = [3, 5]</text>\n",
       "</g>\n",
       "<!-- 4&#45;&gt;14 -->\n",
       "<g id=\"edge14\" class=\"edge\"><title>4&#45;&gt;14</title>\n",
       "<path fill=\"none\" stroke=\"black\" d=\"M444.543,-388.992C446.833,-380.681 449.344,-371.567 451.756,-362.812\"/>\n",
       "<polygon fill=\"black\" stroke=\"black\" points=\"455.138,-363.713 454.42,-353.142 448.389,-361.854 455.138,-363.713\"/>\n",
       "</g>\n",
       "<!-- 6 -->\n",
       "<g id=\"node7\" class=\"node\"><title>6</title>\n",
       "<path fill=\"#399de5\" fill-opacity=\"0.333333\" stroke=\"black\" d=\"M234,-253C234,-253 144,-253 144,-253 138,-253 132,-247 132,-241 132,-241 132,-201 132,-201 132,-195 138,-189 144,-189 144,-189 234,-189 234,-189 240,-189 246,-195 246,-201 246,-201 246,-241 246,-241 246,-247 240,-253 234,-253\"/>\n",
       "<text text-anchor=\"start\" x=\"153.5\" y=\"-238.8\" font-family=\"Helvetica,sans-Serif\" font-size=\"14.00\">X</text>\n",
       "<text text-anchor=\"start\" x=\"163.5\" y=\"-238.8\" font-family=\"Helvetica,sans-Serif\" baseline-shift=\"sub\" font-size=\"14.00\">1</text>\n",
       "<text text-anchor=\"start\" x=\"171.5\" y=\"-238.8\" font-family=\"Helvetica,sans-Serif\" font-size=\"14.00\"> ≤ 1.01</text>\n",
       "<text text-anchor=\"start\" x=\"149.5\" y=\"-224.8\" font-family=\"Helvetica,sans-Serif\" font-size=\"14.00\">gini = 0.48</text>\n",
       "<text text-anchor=\"start\" x=\"143.5\" y=\"-210.8\" font-family=\"Helvetica,sans-Serif\" font-size=\"14.00\">samples = 5</text>\n",
       "<text text-anchor=\"start\" x=\"140\" y=\"-196.8\" font-family=\"Helvetica,sans-Serif\" font-size=\"14.00\">value = [2, 3]</text>\n",
       "</g>\n",
       "<!-- 5&#45;&gt;6 -->\n",
       "<g id=\"edge6\" class=\"edge\"><title>5&#45;&gt;6</title>\n",
       "<path fill=\"none\" stroke=\"black\" d=\"M282.652,-288.992C269.409,-279.519 254.709,-269.004 240.956,-259.165\"/>\n",
       "<polygon fill=\"black\" stroke=\"black\" points=\"242.706,-256.114 232.536,-253.142 238.633,-261.807 242.706,-256.114\"/>\n",
       "</g>\n",
       "<!-- 9 -->\n",
       "<g id=\"node10\" class=\"node\"><title>9</title>\n",
       "<path fill=\"#e58139\" fill-opacity=\"0.901961\" stroke=\"black\" d=\"M375.5,-253C375.5,-253 276.5,-253 276.5,-253 270.5,-253 264.5,-247 264.5,-241 264.5,-241 264.5,-201 264.5,-201 264.5,-195 270.5,-189 276.5,-189 276.5,-189 375.5,-189 375.5,-189 381.5,-189 387.5,-195 387.5,-201 387.5,-201 387.5,-241 387.5,-241 387.5,-247 381.5,-253 375.5,-253\"/>\n",
       "<text text-anchor=\"start\" x=\"286\" y=\"-238.8\" font-family=\"Helvetica,sans-Serif\" font-size=\"14.00\">X</text>\n",
       "<text text-anchor=\"start\" x=\"296\" y=\"-238.8\" font-family=\"Helvetica,sans-Serif\" baseline-shift=\"sub\" font-size=\"14.00\">1</text>\n",
       "<text text-anchor=\"start\" x=\"304\" y=\"-238.8\" font-family=\"Helvetica,sans-Serif\" font-size=\"14.00\"> ≤ 1.598</text>\n",
       "<text text-anchor=\"start\" x=\"282\" y=\"-224.8\" font-family=\"Helvetica,sans-Serif\" font-size=\"14.00\">gini = 0.165</text>\n",
       "<text text-anchor=\"start\" x=\"276\" y=\"-210.8\" font-family=\"Helvetica,sans-Serif\" font-size=\"14.00\">samples = 22</text>\n",
       "<text text-anchor=\"start\" x=\"272.5\" y=\"-196.8\" font-family=\"Helvetica,sans-Serif\" font-size=\"14.00\">value = [20, 2]</text>\n",
       "</g>\n",
       "<!-- 5&#45;&gt;9 -->\n",
       "<g id=\"edge9\" class=\"edge\"><title>5&#45;&gt;9</title>\n",
       "<path fill=\"none\" stroke=\"black\" d=\"M326,-288.992C326,-280.859 326,-271.959 326,-263.378\"/>\n",
       "<polygon fill=\"black\" stroke=\"black\" points=\"329.5,-263.142 326,-253.142 322.5,-263.142 329.5,-263.142\"/>\n",
       "</g>\n",
       "<!-- 7 -->\n",
       "<g id=\"node8\" class=\"node\"><title>7</title>\n",
       "<path fill=\"#399de5\" stroke=\"black\" d=\"M102,-147.5C102,-147.5 12,-147.5 12,-147.5 6,-147.5 0,-141.5 0,-135.5 0,-135.5 0,-106.5 0,-106.5 0,-100.5 6,-94.5 12,-94.5 12,-94.5 102,-94.5 102,-94.5 108,-94.5 114,-100.5 114,-106.5 114,-106.5 114,-135.5 114,-135.5 114,-141.5 108,-147.5 102,-147.5\"/>\n",
       "<text text-anchor=\"start\" x=\"22\" y=\"-132.3\" font-family=\"Helvetica,sans-Serif\" font-size=\"14.00\">gini = 0.0</text>\n",
       "<text text-anchor=\"start\" x=\"11.5\" y=\"-117.3\" font-family=\"Helvetica,sans-Serif\" font-size=\"14.00\">samples = 3</text>\n",
       "<text text-anchor=\"start\" x=\"8\" y=\"-102.3\" font-family=\"Helvetica,sans-Serif\" font-size=\"14.00\">value = [0, 3]</text>\n",
       "</g>\n",
       "<!-- 6&#45;&gt;7 -->\n",
       "<g id=\"edge7\" class=\"edge\"><title>6&#45;&gt;7</title>\n",
       "<path fill=\"none\" stroke=\"black\" d=\"M147.234,-188.992C132.067,-177.731 114.916,-164.998 99.6715,-153.68\"/>\n",
       "<polygon fill=\"black\" stroke=\"black\" points=\"101.538,-150.707 91.4229,-147.556 97.3657,-156.328 101.538,-150.707\"/>\n",
       "</g>\n",
       "<!-- 8 -->\n",
       "<g id=\"node9\" class=\"node\"><title>8</title>\n",
       "<path fill=\"#e58139\" stroke=\"black\" d=\"M234,-147.5C234,-147.5 144,-147.5 144,-147.5 138,-147.5 132,-141.5 132,-135.5 132,-135.5 132,-106.5 132,-106.5 132,-100.5 138,-94.5 144,-94.5 144,-94.5 234,-94.5 234,-94.5 240,-94.5 246,-100.5 246,-106.5 246,-106.5 246,-135.5 246,-135.5 246,-141.5 240,-147.5 234,-147.5\"/>\n",
       "<text text-anchor=\"start\" x=\"154\" y=\"-132.3\" font-family=\"Helvetica,sans-Serif\" font-size=\"14.00\">gini = 0.0</text>\n",
       "<text text-anchor=\"start\" x=\"143.5\" y=\"-117.3\" font-family=\"Helvetica,sans-Serif\" font-size=\"14.00\">samples = 2</text>\n",
       "<text text-anchor=\"start\" x=\"140\" y=\"-102.3\" font-family=\"Helvetica,sans-Serif\" font-size=\"14.00\">value = [2, 0]</text>\n",
       "</g>\n",
       "<!-- 6&#45;&gt;8 -->\n",
       "<g id=\"edge8\" class=\"edge\"><title>6&#45;&gt;8</title>\n",
       "<path fill=\"none\" stroke=\"black\" d=\"M189,-188.992C189,-179.087 189,-168.042 189,-157.824\"/>\n",
       "<polygon fill=\"black\" stroke=\"black\" points=\"192.5,-157.556 189,-147.556 185.5,-157.556 192.5,-157.556\"/>\n",
       "</g>\n",
       "<!-- 10 -->\n",
       "<g id=\"node11\" class=\"node\"><title>10</title>\n",
       "<path fill=\"#e58139\" stroke=\"black\" d=\"M375.5,-147.5C375.5,-147.5 276.5,-147.5 276.5,-147.5 270.5,-147.5 264.5,-141.5 264.5,-135.5 264.5,-135.5 264.5,-106.5 264.5,-106.5 264.5,-100.5 270.5,-94.5 276.5,-94.5 276.5,-94.5 375.5,-94.5 375.5,-94.5 381.5,-94.5 387.5,-100.5 387.5,-106.5 387.5,-106.5 387.5,-135.5 387.5,-135.5 387.5,-141.5 381.5,-147.5 375.5,-147.5\"/>\n",
       "<text text-anchor=\"start\" x=\"291\" y=\"-132.3\" font-family=\"Helvetica,sans-Serif\" font-size=\"14.00\">gini = 0.0</text>\n",
       "<text text-anchor=\"start\" x=\"276\" y=\"-117.3\" font-family=\"Helvetica,sans-Serif\" font-size=\"14.00\">samples = 19</text>\n",
       "<text text-anchor=\"start\" x=\"272.5\" y=\"-102.3\" font-family=\"Helvetica,sans-Serif\" font-size=\"14.00\">value = [19, 0]</text>\n",
       "</g>\n",
       "<!-- 9&#45;&gt;10 -->\n",
       "<g id=\"edge10\" class=\"edge\"><title>9&#45;&gt;10</title>\n",
       "<path fill=\"none\" stroke=\"black\" d=\"M326,-188.992C326,-179.087 326,-168.042 326,-157.824\"/>\n",
       "<polygon fill=\"black\" stroke=\"black\" points=\"329.5,-157.556 326,-147.556 322.5,-157.556 329.5,-157.556\"/>\n",
       "</g>\n",
       "<!-- 11 -->\n",
       "<g id=\"node12\" class=\"node\"><title>11</title>\n",
       "<path fill=\"#399de5\" fill-opacity=\"0.498039\" stroke=\"black\" d=\"M508,-153C508,-153 418,-153 418,-153 412,-153 406,-147 406,-141 406,-141 406,-101 406,-101 406,-95 412,-89 418,-89 418,-89 508,-89 508,-89 514,-89 520,-95 520,-101 520,-101 520,-141 520,-141 520,-147 514,-153 508,-153\"/>\n",
       "<text text-anchor=\"start\" x=\"432\" y=\"-138.8\" font-family=\"Helvetica,sans-Serif\" font-size=\"14.00\">X</text>\n",
       "<text text-anchor=\"start\" x=\"442\" y=\"-138.8\" font-family=\"Helvetica,sans-Serif\" baseline-shift=\"sub\" font-size=\"14.00\">7</text>\n",
       "<text text-anchor=\"start\" x=\"450\" y=\"-138.8\" font-family=\"Helvetica,sans-Serif\" font-size=\"14.00\"> ≤ 4.0</text>\n",
       "<text text-anchor=\"start\" x=\"419\" y=\"-124.8\" font-family=\"Helvetica,sans-Serif\" font-size=\"14.00\">gini = 0.444</text>\n",
       "<text text-anchor=\"start\" x=\"417.5\" y=\"-110.8\" font-family=\"Helvetica,sans-Serif\" font-size=\"14.00\">samples = 3</text>\n",
       "<text text-anchor=\"start\" x=\"414\" y=\"-96.8\" font-family=\"Helvetica,sans-Serif\" font-size=\"14.00\">value = [1, 2]</text>\n",
       "</g>\n",
       "<!-- 9&#45;&gt;11 -->\n",
       "<g id=\"edge11\" class=\"edge\"><title>9&#45;&gt;11</title>\n",
       "<path fill=\"none\" stroke=\"black\" d=\"M369.348,-188.992C382.591,-179.519 397.291,-169.004 411.044,-159.165\"/>\n",
       "<polygon fill=\"black\" stroke=\"black\" points=\"413.367,-161.807 419.464,-153.142 409.294,-156.114 413.367,-161.807\"/>\n",
       "</g>\n",
       "<!-- 12 -->\n",
       "<g id=\"node13\" class=\"node\"><title>12</title>\n",
       "<path fill=\"#e58139\" stroke=\"black\" d=\"M442,-53C442,-53 352,-53 352,-53 346,-53 340,-47 340,-41 340,-41 340,-12 340,-12 340,-6 346,-0 352,-0 352,-0 442,-0 442,-0 448,-0 454,-6 454,-12 454,-12 454,-41 454,-41 454,-47 448,-53 442,-53\"/>\n",
       "<text text-anchor=\"start\" x=\"362\" y=\"-37.8\" font-family=\"Helvetica,sans-Serif\" font-size=\"14.00\">gini = 0.0</text>\n",
       "<text text-anchor=\"start\" x=\"351.5\" y=\"-22.8\" font-family=\"Helvetica,sans-Serif\" font-size=\"14.00\">samples = 1</text>\n",
       "<text text-anchor=\"start\" x=\"348\" y=\"-7.8\" font-family=\"Helvetica,sans-Serif\" font-size=\"14.00\">value = [1, 0]</text>\n",
       "</g>\n",
       "<!-- 11&#45;&gt;12 -->\n",
       "<g id=\"edge12\" class=\"edge\"><title>11&#45;&gt;12</title>\n",
       "<path fill=\"none\" stroke=\"black\" d=\"M440.839,-88.9415C434.539,-80.1118 427.646,-70.451 421.23,-61.4586\"/>\n",
       "<polygon fill=\"black\" stroke=\"black\" points=\"423.917,-59.1983 415.259,-53.0908 418.219,-63.2641 423.917,-59.1983\"/>\n",
       "</g>\n",
       "<!-- 13 -->\n",
       "<g id=\"node14\" class=\"node\"><title>13</title>\n",
       "<path fill=\"#399de5\" stroke=\"black\" d=\"M574,-53C574,-53 484,-53 484,-53 478,-53 472,-47 472,-41 472,-41 472,-12 472,-12 472,-6 478,-0 484,-0 484,-0 574,-0 574,-0 580,-0 586,-6 586,-12 586,-12 586,-41 586,-41 586,-47 580,-53 574,-53\"/>\n",
       "<text text-anchor=\"start\" x=\"494\" y=\"-37.8\" font-family=\"Helvetica,sans-Serif\" font-size=\"14.00\">gini = 0.0</text>\n",
       "<text text-anchor=\"start\" x=\"483.5\" y=\"-22.8\" font-family=\"Helvetica,sans-Serif\" font-size=\"14.00\">samples = 2</text>\n",
       "<text text-anchor=\"start\" x=\"480\" y=\"-7.8\" font-family=\"Helvetica,sans-Serif\" font-size=\"14.00\">value = [0, 2]</text>\n",
       "</g>\n",
       "<!-- 11&#45;&gt;13 -->\n",
       "<g id=\"edge13\" class=\"edge\"><title>11&#45;&gt;13</title>\n",
       "<path fill=\"none\" stroke=\"black\" d=\"M485.161,-88.9415C491.461,-80.1118 498.354,-70.451 504.77,-61.4586\"/>\n",
       "<polygon fill=\"black\" stroke=\"black\" points=\"507.781,-63.2641 510.741,-53.0908 502.083,-59.1983 507.781,-63.2641\"/>\n",
       "</g>\n",
       "<!-- 15 -->\n",
       "<g id=\"node16\" class=\"node\"><title>15</title>\n",
       "<path fill=\"#399de5\" stroke=\"black\" d=\"M508,-247.5C508,-247.5 418,-247.5 418,-247.5 412,-247.5 406,-241.5 406,-235.5 406,-235.5 406,-206.5 406,-206.5 406,-200.5 412,-194.5 418,-194.5 418,-194.5 508,-194.5 508,-194.5 514,-194.5 520,-200.5 520,-206.5 520,-206.5 520,-235.5 520,-235.5 520,-241.5 514,-247.5 508,-247.5\"/>\n",
       "<text text-anchor=\"start\" x=\"428\" y=\"-232.3\" font-family=\"Helvetica,sans-Serif\" font-size=\"14.00\">gini = 0.0</text>\n",
       "<text text-anchor=\"start\" x=\"417.5\" y=\"-217.3\" font-family=\"Helvetica,sans-Serif\" font-size=\"14.00\">samples = 4</text>\n",
       "<text text-anchor=\"start\" x=\"414\" y=\"-202.3\" font-family=\"Helvetica,sans-Serif\" font-size=\"14.00\">value = [0, 4]</text>\n",
       "</g>\n",
       "<!-- 14&#45;&gt;15 -->\n",
       "<g id=\"edge15\" class=\"edge\"><title>14&#45;&gt;15</title>\n",
       "<path fill=\"none\" stroke=\"black\" d=\"M463,-288.992C463,-279.087 463,-268.042 463,-257.824\"/>\n",
       "<polygon fill=\"black\" stroke=\"black\" points=\"466.5,-257.556 463,-247.556 459.5,-257.556 466.5,-257.556\"/>\n",
       "</g>\n",
       "<!-- 16 -->\n",
       "<g id=\"node17\" class=\"node\"><title>16</title>\n",
       "<path fill=\"#e58139\" fill-opacity=\"0.666667\" stroke=\"black\" d=\"M640,-253C640,-253 550,-253 550,-253 544,-253 538,-247 538,-241 538,-241 538,-201 538,-201 538,-195 544,-189 550,-189 550,-189 640,-189 640,-189 646,-189 652,-195 652,-201 652,-201 652,-241 652,-241 652,-247 646,-253 640,-253\"/>\n",
       "<text text-anchor=\"start\" x=\"564\" y=\"-238.8\" font-family=\"Helvetica,sans-Serif\" font-size=\"14.00\">X</text>\n",
       "<text text-anchor=\"start\" x=\"574\" y=\"-238.8\" font-family=\"Helvetica,sans-Serif\" baseline-shift=\"sub\" font-size=\"14.00\">5</text>\n",
       "<text text-anchor=\"start\" x=\"582\" y=\"-238.8\" font-family=\"Helvetica,sans-Serif\" font-size=\"14.00\"> ≤ 5.5</text>\n",
       "<text text-anchor=\"start\" x=\"551\" y=\"-224.8\" font-family=\"Helvetica,sans-Serif\" font-size=\"14.00\">gini = 0.375</text>\n",
       "<text text-anchor=\"start\" x=\"549.5\" y=\"-210.8\" font-family=\"Helvetica,sans-Serif\" font-size=\"14.00\">samples = 4</text>\n",
       "<text text-anchor=\"start\" x=\"546\" y=\"-196.8\" font-family=\"Helvetica,sans-Serif\" font-size=\"14.00\">value = [3, 1]</text>\n",
       "</g>\n",
       "<!-- 14&#45;&gt;16 -->\n",
       "<g id=\"edge16\" class=\"edge\"><title>14&#45;&gt;16</title>\n",
       "<path fill=\"none\" stroke=\"black\" d=\"M504.766,-288.992C517.526,-279.519 531.689,-269.004 544.941,-259.165\"/>\n",
       "<polygon fill=\"black\" stroke=\"black\" points=\"547.11,-261.914 553.053,-253.142 542.938,-256.293 547.11,-261.914\"/>\n",
       "</g>\n",
       "<!-- 17 -->\n",
       "<g id=\"node18\" class=\"node\"><title>17</title>\n",
       "<path fill=\"#e58139\" stroke=\"black\" d=\"M640,-147.5C640,-147.5 550,-147.5 550,-147.5 544,-147.5 538,-141.5 538,-135.5 538,-135.5 538,-106.5 538,-106.5 538,-100.5 544,-94.5 550,-94.5 550,-94.5 640,-94.5 640,-94.5 646,-94.5 652,-100.5 652,-106.5 652,-106.5 652,-135.5 652,-135.5 652,-141.5 646,-147.5 640,-147.5\"/>\n",
       "<text text-anchor=\"start\" x=\"560\" y=\"-132.3\" font-family=\"Helvetica,sans-Serif\" font-size=\"14.00\">gini = 0.0</text>\n",
       "<text text-anchor=\"start\" x=\"549.5\" y=\"-117.3\" font-family=\"Helvetica,sans-Serif\" font-size=\"14.00\">samples = 3</text>\n",
       "<text text-anchor=\"start\" x=\"546\" y=\"-102.3\" font-family=\"Helvetica,sans-Serif\" font-size=\"14.00\">value = [3, 0]</text>\n",
       "</g>\n",
       "<!-- 16&#45;&gt;17 -->\n",
       "<g id=\"edge17\" class=\"edge\"><title>16&#45;&gt;17</title>\n",
       "<path fill=\"none\" stroke=\"black\" d=\"M595,-188.992C595,-179.087 595,-168.042 595,-157.824\"/>\n",
       "<polygon fill=\"black\" stroke=\"black\" points=\"598.5,-157.556 595,-147.556 591.5,-157.556 598.5,-157.556\"/>\n",
       "</g>\n",
       "<!-- 18 -->\n",
       "<g id=\"node19\" class=\"node\"><title>18</title>\n",
       "<path fill=\"#399de5\" stroke=\"black\" d=\"M772,-147.5C772,-147.5 682,-147.5 682,-147.5 676,-147.5 670,-141.5 670,-135.5 670,-135.5 670,-106.5 670,-106.5 670,-100.5 676,-94.5 682,-94.5 682,-94.5 772,-94.5 772,-94.5 778,-94.5 784,-100.5 784,-106.5 784,-106.5 784,-135.5 784,-135.5 784,-141.5 778,-147.5 772,-147.5\"/>\n",
       "<text text-anchor=\"start\" x=\"692\" y=\"-132.3\" font-family=\"Helvetica,sans-Serif\" font-size=\"14.00\">gini = 0.0</text>\n",
       "<text text-anchor=\"start\" x=\"681.5\" y=\"-117.3\" font-family=\"Helvetica,sans-Serif\" font-size=\"14.00\">samples = 1</text>\n",
       "<text text-anchor=\"start\" x=\"678\" y=\"-102.3\" font-family=\"Helvetica,sans-Serif\" font-size=\"14.00\">value = [0, 1]</text>\n",
       "</g>\n",
       "<!-- 16&#45;&gt;18 -->\n",
       "<g id=\"edge18\" class=\"edge\"><title>16&#45;&gt;18</title>\n",
       "<path fill=\"none\" stroke=\"black\" d=\"M636.766,-188.992C651.933,-177.731 669.084,-164.998 684.329,-153.68\"/>\n",
       "<polygon fill=\"black\" stroke=\"black\" points=\"686.634,-156.328 692.577,-147.556 682.462,-150.707 686.634,-156.328\"/>\n",
       "</g>\n",
       "<!-- 21 -->\n",
       "<g id=\"node22\" class=\"node\"><title>21</title>\n",
       "<path fill=\"#e58139\" fill-opacity=\"0.800000\" stroke=\"black\" d=\"M754,-553C754,-553 664,-553 664,-553 658,-553 652,-547 652,-541 652,-541 652,-501 652,-501 652,-495 658,-489 664,-489 664,-489 754,-489 754,-489 760,-489 766,-495 766,-501 766,-501 766,-541 766,-541 766,-547 760,-553 754,-553\"/>\n",
       "<text text-anchor=\"start\" x=\"669\" y=\"-538.8\" font-family=\"Helvetica,sans-Serif\" font-size=\"14.00\">X</text>\n",
       "<text text-anchor=\"start\" x=\"679\" y=\"-538.8\" font-family=\"Helvetica,sans-Serif\" baseline-shift=\"sub\" font-size=\"14.00\">1</text>\n",
       "<text text-anchor=\"start\" x=\"687\" y=\"-538.8\" font-family=\"Helvetica,sans-Serif\" font-size=\"14.00\"> ≤ 0.394</text>\n",
       "<text text-anchor=\"start\" x=\"665\" y=\"-524.8\" font-family=\"Helvetica,sans-Serif\" font-size=\"14.00\">gini = 0.278</text>\n",
       "<text text-anchor=\"start\" x=\"663.5\" y=\"-510.8\" font-family=\"Helvetica,sans-Serif\" font-size=\"14.00\">samples = 6</text>\n",
       "<text text-anchor=\"start\" x=\"660\" y=\"-496.8\" font-family=\"Helvetica,sans-Serif\" font-size=\"14.00\">value = [5, 1]</text>\n",
       "</g>\n",
       "<!-- 20&#45;&gt;21 -->\n",
       "<g id=\"edge21\" class=\"edge\"><title>20&#45;&gt;21</title>\n",
       "<path fill=\"none\" stroke=\"black\" d=\"M711.051,-588.992C710.802,-580.859 710.529,-571.959 710.267,-563.378\"/>\n",
       "<polygon fill=\"black\" stroke=\"black\" points=\"713.758,-563.031 709.953,-553.142 706.761,-563.245 713.758,-563.031\"/>\n",
       "</g>\n",
       "<!-- 24 -->\n",
       "<g id=\"node25\" class=\"node\"><title>24</title>\n",
       "<path fill=\"#399de5\" fill-opacity=\"0.749020\" stroke=\"black\" d=\"M895.5,-553C895.5,-553 796.5,-553 796.5,-553 790.5,-553 784.5,-547 784.5,-541 784.5,-541 784.5,-501 784.5,-501 784.5,-495 790.5,-489 796.5,-489 796.5,-489 895.5,-489 895.5,-489 901.5,-489 907.5,-495 907.5,-501 907.5,-501 907.5,-541 907.5,-541 907.5,-547 901.5,-553 895.5,-553\"/>\n",
       "<text text-anchor=\"start\" x=\"806\" y=\"-538.8\" font-family=\"Helvetica,sans-Serif\" font-size=\"14.00\">X</text>\n",
       "<text text-anchor=\"start\" x=\"816\" y=\"-538.8\" font-family=\"Helvetica,sans-Serif\" baseline-shift=\"sub\" font-size=\"14.00\">3</text>\n",
       "<text text-anchor=\"start\" x=\"824\" y=\"-538.8\" font-family=\"Helvetica,sans-Serif\" font-size=\"14.00\"> ≤ 0.195</text>\n",
       "<text text-anchor=\"start\" x=\"806.5\" y=\"-524.8\" font-family=\"Helvetica,sans-Serif\" font-size=\"14.00\">gini = 0.32</text>\n",
       "<text text-anchor=\"start\" x=\"796\" y=\"-510.8\" font-family=\"Helvetica,sans-Serif\" font-size=\"14.00\">samples = 20</text>\n",
       "<text text-anchor=\"start\" x=\"792.5\" y=\"-496.8\" font-family=\"Helvetica,sans-Serif\" font-size=\"14.00\">value = [4, 16]</text>\n",
       "</g>\n",
       "<!-- 20&#45;&gt;24 -->\n",
       "<g id=\"edge24\" class=\"edge\"><title>20&#45;&gt;24</title>\n",
       "<path fill=\"none\" stroke=\"black\" d=\"M754.398,-588.992C767.352,-579.519 781.73,-569.004 795.182,-559.165\"/>\n",
       "<polygon fill=\"black\" stroke=\"black\" points=\"797.412,-561.871 803.417,-553.142 793.28,-556.221 797.412,-561.871\"/>\n",
       "</g>\n",
       "<!-- 22 -->\n",
       "<g id=\"node23\" class=\"node\"><title>22</title>\n",
       "<path fill=\"#399de5\" stroke=\"black\" d=\"M624,-447.5C624,-447.5 534,-447.5 534,-447.5 528,-447.5 522,-441.5 522,-435.5 522,-435.5 522,-406.5 522,-406.5 522,-400.5 528,-394.5 534,-394.5 534,-394.5 624,-394.5 624,-394.5 630,-394.5 636,-400.5 636,-406.5 636,-406.5 636,-435.5 636,-435.5 636,-441.5 630,-447.5 624,-447.5\"/>\n",
       "<text text-anchor=\"start\" x=\"544\" y=\"-432.3\" font-family=\"Helvetica,sans-Serif\" font-size=\"14.00\">gini = 0.0</text>\n",
       "<text text-anchor=\"start\" x=\"533.5\" y=\"-417.3\" font-family=\"Helvetica,sans-Serif\" font-size=\"14.00\">samples = 1</text>\n",
       "<text text-anchor=\"start\" x=\"530\" y=\"-402.3\" font-family=\"Helvetica,sans-Serif\" font-size=\"14.00\">value = [0, 1]</text>\n",
       "</g>\n",
       "<!-- 21&#45;&gt;22 -->\n",
       "<g id=\"edge22\" class=\"edge\"><title>21&#45;&gt;22</title>\n",
       "<path fill=\"none\" stroke=\"black\" d=\"M667.867,-488.992C652.929,-477.731 636.039,-464.998 621.025,-453.68\"/>\n",
       "<polygon fill=\"black\" stroke=\"black\" points=\"622.993,-450.781 612.901,-447.556 618.78,-456.371 622.993,-450.781\"/>\n",
       "</g>\n",
       "<!-- 23 -->\n",
       "<g id=\"node24\" class=\"node\"><title>23</title>\n",
       "<path fill=\"#e58139\" stroke=\"black\" d=\"M756,-447.5C756,-447.5 666,-447.5 666,-447.5 660,-447.5 654,-441.5 654,-435.5 654,-435.5 654,-406.5 654,-406.5 654,-400.5 660,-394.5 666,-394.5 666,-394.5 756,-394.5 756,-394.5 762,-394.5 768,-400.5 768,-406.5 768,-406.5 768,-435.5 768,-435.5 768,-441.5 762,-447.5 756,-447.5\"/>\n",
       "<text text-anchor=\"start\" x=\"676\" y=\"-432.3\" font-family=\"Helvetica,sans-Serif\" font-size=\"14.00\">gini = 0.0</text>\n",
       "<text text-anchor=\"start\" x=\"665.5\" y=\"-417.3\" font-family=\"Helvetica,sans-Serif\" font-size=\"14.00\">samples = 5</text>\n",
       "<text text-anchor=\"start\" x=\"662\" y=\"-402.3\" font-family=\"Helvetica,sans-Serif\" font-size=\"14.00\">value = [5, 0]</text>\n",
       "</g>\n",
       "<!-- 21&#45;&gt;23 -->\n",
       "<g id=\"edge23\" class=\"edge\"><title>21&#45;&gt;23</title>\n",
       "<path fill=\"none\" stroke=\"black\" d=\"M709.633,-488.992C709.835,-479.087 710.06,-468.042 710.269,-457.824\"/>\n",
       "<polygon fill=\"black\" stroke=\"black\" points=\"713.774,-457.626 710.478,-447.556 706.775,-457.483 713.774,-457.626\"/>\n",
       "</g>\n",
       "<!-- 25 -->\n",
       "<g id=\"node26\" class=\"node\"><title>25</title>\n",
       "<path fill=\"#e58139\" stroke=\"black\" d=\"M889,-447.5C889,-447.5 799,-447.5 799,-447.5 793,-447.5 787,-441.5 787,-435.5 787,-435.5 787,-406.5 787,-406.5 787,-400.5 793,-394.5 799,-394.5 799,-394.5 889,-394.5 889,-394.5 895,-394.5 901,-400.5 901,-406.5 901,-406.5 901,-435.5 901,-435.5 901,-441.5 895,-447.5 889,-447.5\"/>\n",
       "<text text-anchor=\"start\" x=\"809\" y=\"-432.3\" font-family=\"Helvetica,sans-Serif\" font-size=\"14.00\">gini = 0.0</text>\n",
       "<text text-anchor=\"start\" x=\"798.5\" y=\"-417.3\" font-family=\"Helvetica,sans-Serif\" font-size=\"14.00\">samples = 2</text>\n",
       "<text text-anchor=\"start\" x=\"795\" y=\"-402.3\" font-family=\"Helvetica,sans-Serif\" font-size=\"14.00\">value = [2, 0]</text>\n",
       "</g>\n",
       "<!-- 24&#45;&gt;25 -->\n",
       "<g id=\"edge25\" class=\"edge\"><title>24&#45;&gt;25</title>\n",
       "<path fill=\"none\" stroke=\"black\" d=\"M845.367,-488.992C845.165,-479.087 844.94,-468.042 844.731,-457.824\"/>\n",
       "<polygon fill=\"black\" stroke=\"black\" points=\"848.225,-457.483 844.522,-447.556 841.226,-457.626 848.225,-457.483\"/>\n",
       "</g>\n",
       "<!-- 26 -->\n",
       "<g id=\"node27\" class=\"node\"><title>26</title>\n",
       "<path fill=\"#399de5\" fill-opacity=\"0.874510\" stroke=\"black\" d=\"M1030.5,-453C1030.5,-453 931.5,-453 931.5,-453 925.5,-453 919.5,-447 919.5,-441 919.5,-441 919.5,-401 919.5,-401 919.5,-395 925.5,-389 931.5,-389 931.5,-389 1030.5,-389 1030.5,-389 1036.5,-389 1042.5,-395 1042.5,-401 1042.5,-401 1042.5,-441 1042.5,-441 1042.5,-447 1036.5,-453 1030.5,-453\"/>\n",
       "<text text-anchor=\"start\" x=\"941\" y=\"-438.8\" font-family=\"Helvetica,sans-Serif\" font-size=\"14.00\">X</text>\n",
       "<text text-anchor=\"start\" x=\"951\" y=\"-438.8\" font-family=\"Helvetica,sans-Serif\" baseline-shift=\"sub\" font-size=\"14.00\">2</text>\n",
       "<text text-anchor=\"start\" x=\"959\" y=\"-438.8\" font-family=\"Helvetica,sans-Serif\" font-size=\"14.00\"> ≤ 0.073</text>\n",
       "<text text-anchor=\"start\" x=\"937\" y=\"-424.8\" font-family=\"Helvetica,sans-Serif\" font-size=\"14.00\">gini = 0.198</text>\n",
       "<text text-anchor=\"start\" x=\"931\" y=\"-410.8\" font-family=\"Helvetica,sans-Serif\" font-size=\"14.00\">samples = 18</text>\n",
       "<text text-anchor=\"start\" x=\"927.5\" y=\"-396.8\" font-family=\"Helvetica,sans-Serif\" font-size=\"14.00\">value = [2, 16]</text>\n",
       "</g>\n",
       "<!-- 24&#45;&gt;26 -->\n",
       "<g id=\"edge26\" class=\"edge\"><title>24&#45;&gt;26</title>\n",
       "<path fill=\"none\" stroke=\"black\" d=\"M888.715,-488.992C901.765,-479.519 916.25,-469.004 929.803,-459.165\"/>\n",
       "<polygon fill=\"black\" stroke=\"black\" points=\"932.063,-461.849 938.1,-453.142 927.951,-456.185 932.063,-461.849\"/>\n",
       "</g>\n",
       "<!-- 27 -->\n",
       "<g id=\"node28\" class=\"node\"><title>27</title>\n",
       "<path fill=\"#e58139\" stroke=\"black\" d=\"M953,-347.5C953,-347.5 863,-347.5 863,-347.5 857,-347.5 851,-341.5 851,-335.5 851,-335.5 851,-306.5 851,-306.5 851,-300.5 857,-294.5 863,-294.5 863,-294.5 953,-294.5 953,-294.5 959,-294.5 965,-300.5 965,-306.5 965,-306.5 965,-335.5 965,-335.5 965,-341.5 959,-347.5 953,-347.5\"/>\n",
       "<text text-anchor=\"start\" x=\"873\" y=\"-332.3\" font-family=\"Helvetica,sans-Serif\" font-size=\"14.00\">gini = 0.0</text>\n",
       "<text text-anchor=\"start\" x=\"862.5\" y=\"-317.3\" font-family=\"Helvetica,sans-Serif\" font-size=\"14.00\">samples = 1</text>\n",
       "<text text-anchor=\"start\" x=\"859\" y=\"-302.3\" font-family=\"Helvetica,sans-Serif\" font-size=\"14.00\">value = [1, 0]</text>\n",
       "</g>\n",
       "<!-- 26&#45;&gt;27 -->\n",
       "<g id=\"edge27\" class=\"edge\"><title>26&#45;&gt;27</title>\n",
       "<path fill=\"none\" stroke=\"black\" d=\"M957.902,-388.992C949.98,-378.357 941.08,-366.409 933.013,-355.579\"/>\n",
       "<polygon fill=\"black\" stroke=\"black\" points=\"935.818,-353.485 927.037,-347.556 930.204,-357.667 935.818,-353.485\"/>\n",
       "</g>\n",
       "<!-- 28 -->\n",
       "<g id=\"node29\" class=\"node\"><title>28</title>\n",
       "<path fill=\"#399de5\" fill-opacity=\"0.937255\" stroke=\"black\" d=\"M1094.5,-353C1094.5,-353 995.5,-353 995.5,-353 989.5,-353 983.5,-347 983.5,-341 983.5,-341 983.5,-301 983.5,-301 983.5,-295 989.5,-289 995.5,-289 995.5,-289 1094.5,-289 1094.5,-289 1100.5,-289 1106.5,-295 1106.5,-301 1106.5,-301 1106.5,-341 1106.5,-341 1106.5,-347 1100.5,-353 1094.5,-353\"/>\n",
       "<text text-anchor=\"start\" x=\"1005\" y=\"-338.8\" font-family=\"Helvetica,sans-Serif\" font-size=\"14.00\">X</text>\n",
       "<text text-anchor=\"start\" x=\"1015\" y=\"-338.8\" font-family=\"Helvetica,sans-Serif\" baseline-shift=\"sub\" font-size=\"14.00\">0</text>\n",
       "<text text-anchor=\"start\" x=\"1023\" y=\"-338.8\" font-family=\"Helvetica,sans-Serif\" font-size=\"14.00\"> ≤ 0.685</text>\n",
       "<text text-anchor=\"start\" x=\"1001\" y=\"-324.8\" font-family=\"Helvetica,sans-Serif\" font-size=\"14.00\">gini = 0.111</text>\n",
       "<text text-anchor=\"start\" x=\"995\" y=\"-310.8\" font-family=\"Helvetica,sans-Serif\" font-size=\"14.00\">samples = 17</text>\n",
       "<text text-anchor=\"start\" x=\"991.5\" y=\"-296.8\" font-family=\"Helvetica,sans-Serif\" font-size=\"14.00\">value = [1, 16]</text>\n",
       "</g>\n",
       "<!-- 26&#45;&gt;28 -->\n",
       "<g id=\"edge28\" class=\"edge\"><title>26&#45;&gt;28</title>\n",
       "<path fill=\"none\" stroke=\"black\" d=\"M1001.25,-388.992C1006.91,-380.323 1013.14,-370.782 1019.08,-361.685\"/>\n",
       "<polygon fill=\"black\" stroke=\"black\" points=\"1022.12,-363.429 1024.66,-353.142 1016.26,-359.601 1022.12,-363.429\"/>\n",
       "</g>\n",
       "<!-- 29 -->\n",
       "<g id=\"node30\" class=\"node\"><title>29</title>\n",
       "<path fill=\"#399de5\" fill-opacity=\"0.498039\" stroke=\"black\" d=\"M985,-253C985,-253 895,-253 895,-253 889,-253 883,-247 883,-241 883,-241 883,-201 883,-201 883,-195 889,-189 895,-189 895,-189 985,-189 985,-189 991,-189 997,-195 997,-201 997,-201 997,-241 997,-241 997,-247 991,-253 985,-253\"/>\n",
       "<text text-anchor=\"start\" x=\"900\" y=\"-238.8\" font-family=\"Helvetica,sans-Serif\" font-size=\"14.00\">X</text>\n",
       "<text text-anchor=\"start\" x=\"910\" y=\"-238.8\" font-family=\"Helvetica,sans-Serif\" baseline-shift=\"sub\" font-size=\"14.00\">2</text>\n",
       "<text text-anchor=\"start\" x=\"918\" y=\"-238.8\" font-family=\"Helvetica,sans-Serif\" font-size=\"14.00\"> ≤ 0.441</text>\n",
       "<text text-anchor=\"start\" x=\"896\" y=\"-224.8\" font-family=\"Helvetica,sans-Serif\" font-size=\"14.00\">gini = 0.444</text>\n",
       "<text text-anchor=\"start\" x=\"894.5\" y=\"-210.8\" font-family=\"Helvetica,sans-Serif\" font-size=\"14.00\">samples = 3</text>\n",
       "<text text-anchor=\"start\" x=\"891\" y=\"-196.8\" font-family=\"Helvetica,sans-Serif\" font-size=\"14.00\">value = [1, 2]</text>\n",
       "</g>\n",
       "<!-- 28&#45;&gt;29 -->\n",
       "<g id=\"edge29\" class=\"edge\"><title>28&#45;&gt;29</title>\n",
       "<path fill=\"none\" stroke=\"black\" d=\"M1011.78,-288.992C1001.91,-279.787 990.998,-269.598 980.717,-260.002\"/>\n",
       "<polygon fill=\"black\" stroke=\"black\" points=\"983.066,-257.407 973.367,-253.142 978.289,-262.524 983.066,-257.407\"/>\n",
       "</g>\n",
       "<!-- 32 -->\n",
       "<g id=\"node33\" class=\"node\"><title>32</title>\n",
       "<path fill=\"#399de5\" stroke=\"black\" d=\"M1126.5,-247.5C1126.5,-247.5 1027.5,-247.5 1027.5,-247.5 1021.5,-247.5 1015.5,-241.5 1015.5,-235.5 1015.5,-235.5 1015.5,-206.5 1015.5,-206.5 1015.5,-200.5 1021.5,-194.5 1027.5,-194.5 1027.5,-194.5 1126.5,-194.5 1126.5,-194.5 1132.5,-194.5 1138.5,-200.5 1138.5,-206.5 1138.5,-206.5 1138.5,-235.5 1138.5,-235.5 1138.5,-241.5 1132.5,-247.5 1126.5,-247.5\"/>\n",
       "<text text-anchor=\"start\" x=\"1042\" y=\"-232.3\" font-family=\"Helvetica,sans-Serif\" font-size=\"14.00\">gini = 0.0</text>\n",
       "<text text-anchor=\"start\" x=\"1027\" y=\"-217.3\" font-family=\"Helvetica,sans-Serif\" font-size=\"14.00\">samples = 14</text>\n",
       "<text text-anchor=\"start\" x=\"1023.5\" y=\"-202.3\" font-family=\"Helvetica,sans-Serif\" font-size=\"14.00\">value = [0, 14]</text>\n",
       "</g>\n",
       "<!-- 28&#45;&gt;32 -->\n",
       "<g id=\"edge32\" class=\"edge\"><title>28&#45;&gt;32</title>\n",
       "<path fill=\"none\" stroke=\"black\" d=\"M1055.12,-288.992C1058.43,-278.878 1062.12,-267.577 1065.51,-257.18\"/>\n",
       "<polygon fill=\"black\" stroke=\"black\" points=\"1068.88,-258.149 1068.66,-247.556 1062.22,-255.976 1068.88,-258.149\"/>\n",
       "</g>\n",
       "<!-- 30 -->\n",
       "<g id=\"node31\" class=\"node\"><title>30</title>\n",
       "<path fill=\"#399de5\" stroke=\"black\" d=\"M958,-147.5C958,-147.5 868,-147.5 868,-147.5 862,-147.5 856,-141.5 856,-135.5 856,-135.5 856,-106.5 856,-106.5 856,-100.5 862,-94.5 868,-94.5 868,-94.5 958,-94.5 958,-94.5 964,-94.5 970,-100.5 970,-106.5 970,-106.5 970,-135.5 970,-135.5 970,-141.5 964,-147.5 958,-147.5\"/>\n",
       "<text text-anchor=\"start\" x=\"878\" y=\"-132.3\" font-family=\"Helvetica,sans-Serif\" font-size=\"14.00\">gini = 0.0</text>\n",
       "<text text-anchor=\"start\" x=\"867.5\" y=\"-117.3\" font-family=\"Helvetica,sans-Serif\" font-size=\"14.00\">samples = 2</text>\n",
       "<text text-anchor=\"start\" x=\"864\" y=\"-102.3\" font-family=\"Helvetica,sans-Serif\" font-size=\"14.00\">value = [0, 2]</text>\n",
       "</g>\n",
       "<!-- 29&#45;&gt;30 -->\n",
       "<g id=\"edge30\" class=\"edge\"><title>29&#45;&gt;30</title>\n",
       "<path fill=\"none\" stroke=\"black\" d=\"M931.457,-188.992C928.699,-178.983 925.621,-167.81 922.781,-157.501\"/>\n",
       "<polygon fill=\"black\" stroke=\"black\" points=\"926.072,-156.268 920.041,-147.556 919.323,-158.127 926.072,-156.268\"/>\n",
       "</g>\n",
       "<!-- 31 -->\n",
       "<g id=\"node32\" class=\"node\"><title>31</title>\n",
       "<path fill=\"#e58139\" stroke=\"black\" d=\"M1090,-147.5C1090,-147.5 1000,-147.5 1000,-147.5 994,-147.5 988,-141.5 988,-135.5 988,-135.5 988,-106.5 988,-106.5 988,-100.5 994,-94.5 1000,-94.5 1000,-94.5 1090,-94.5 1090,-94.5 1096,-94.5 1102,-100.5 1102,-106.5 1102,-106.5 1102,-135.5 1102,-135.5 1102,-141.5 1096,-147.5 1090,-147.5\"/>\n",
       "<text text-anchor=\"start\" x=\"1010\" y=\"-132.3\" font-family=\"Helvetica,sans-Serif\" font-size=\"14.00\">gini = 0.0</text>\n",
       "<text text-anchor=\"start\" x=\"999.5\" y=\"-117.3\" font-family=\"Helvetica,sans-Serif\" font-size=\"14.00\">samples = 1</text>\n",
       "<text text-anchor=\"start\" x=\"996\" y=\"-102.3\" font-family=\"Helvetica,sans-Serif\" font-size=\"14.00\">value = [1, 0]</text>\n",
       "</g>\n",
       "<!-- 29&#45;&gt;31 -->\n",
       "<g id=\"edge31\" class=\"edge\"><title>29&#45;&gt;31</title>\n",
       "<path fill=\"none\" stroke=\"black\" d=\"M973.223,-188.992C984.953,-178.044 998.174,-165.705 1010.04,-154.627\"/>\n",
       "<polygon fill=\"black\" stroke=\"black\" points=\"1012.7,-156.938 1017.62,-147.556 1007.92,-151.821 1012.7,-156.938\"/>\n",
       "</g>\n",
       "</g>\n",
       "</svg>\n"
      ],
      "text/plain": [
       "<graphviz.files.Source at 0x7fbfb4d77048>"
      ]
     },
     "execution_count": 42,
     "metadata": {},
     "output_type": "execute_result"
    }
   ],
   "source": [
    "dot_data = sklearn.tree.export_graphviz(dt_clf, out_file=None, \n",
    "                     filled=True, rounded=True,  \n",
    "                     special_characters=True)  \n",
    "graph = graphviz.Source(dot_data)  \n",
    "graph "
   ]
  },
  {
   "cell_type": "markdown",
   "metadata": {},
   "source": [
    "# Random Forest\n",
    "\n",
    "https://scikit-learn.org/stable/modules/generated/sklearn.ensemble.RandomForestClassifier.html"
   ]
  },
  {
   "cell_type": "code",
   "execution_count": 43,
   "metadata": {},
   "outputs": [
    {
     "data": {
      "text/plain": [
       "RandomForestClassifier(bootstrap=True, class_weight=None, criterion='gini',\n",
       "            max_depth=2, max_features='auto', max_leaf_nodes=None,\n",
       "            min_impurity_decrease=0.0, min_impurity_split=None,\n",
       "            min_samples_leaf=1, min_samples_split=2,\n",
       "            min_weight_fraction_leaf=0.0, n_estimators=100, n_jobs=None,\n",
       "            oob_score=False, random_state=0, verbose=0, warm_start=False)"
      ]
     },
     "execution_count": 43,
     "metadata": {},
     "output_type": "execute_result"
    }
   ],
   "source": [
    "rf_clf = sklearn.ensemble.RandomForestClassifier(n_estimators=100, max_depth=2,random_state=0)\n",
    "rf_output = rf_clf.fit(X_train, y_train)\n",
    "rf_output"
   ]
  },
  {
   "cell_type": "code",
   "execution_count": 44,
   "metadata": {},
   "outputs": [
    {
     "data": {
      "text/plain": [
       "array([0, 1, 0, 0, 1, 0, 0, 0, 1, 0, 1, 0, 1, 1, 1, 0, 1, 1, 1, 0, 0, 1, 0,\n",
       "       0, 1, 1, 0, 1, 1, 0, 1, 1, 1])"
      ]
     },
     "execution_count": 44,
     "metadata": {},
     "output_type": "execute_result"
    }
   ],
   "source": [
    "rf_clf.predict(X_test)"
   ]
  },
  {
   "cell_type": "code",
   "execution_count": 45,
   "metadata": {},
   "outputs": [
    {
     "data": {
      "text/plain": [
       "83    0\n",
       "53    1\n",
       "70    1\n",
       "45    0\n",
       "44    0\n",
       "39    1\n",
       "22    1\n",
       "80    1\n",
       "10    0\n",
       "0     0\n",
       "18    1\n",
       "30    1\n",
       "73    0\n",
       "33    0\n",
       "90    1\n",
       "4     0\n",
       "76    1\n",
       "77    0\n",
       "12    1\n",
       "31    1\n",
       "55    0\n",
       "88    0\n",
       "26    0\n",
       "42    0\n",
       "69    1\n",
       "15    1\n",
       "40    1\n",
       "96    1\n",
       "9     0\n",
       "72    1\n",
       "11    0\n",
       "47    0\n",
       "85    1\n",
       "Name: J, dtype: int64"
      ]
     },
     "execution_count": 45,
     "metadata": {},
     "output_type": "execute_result"
    }
   ],
   "source": [
    "y_test"
   ]
  },
  {
   "cell_type": "code",
   "execution_count": 46,
   "metadata": {},
   "outputs": [
    {
     "data": {
      "text/plain": [
       "0.48484848484848486"
      ]
     },
     "execution_count": 46,
     "metadata": {},
     "output_type": "execute_result"
    }
   ],
   "source": [
    "rf_clf.score(X_test,y_test)"
   ]
  },
  {
   "cell_type": "code",
   "execution_count": 47,
   "metadata": {},
   "outputs": [],
   "source": [
    "list_of_importances = list(zip(X.columns,rf_clf.feature_importances_))"
   ]
  },
  {
   "cell_type": "code",
   "execution_count": 48,
   "metadata": {},
   "outputs": [
    {
     "data": {
      "text/plain": [
       "[('C', 0.19491308203656751),\n",
       " ('B', 0.15545946288381607),\n",
       " ('A', 0.15054940675300246),\n",
       " ('D', 0.13197405616651353),\n",
       " ('G', 0.11841506251393442),\n",
       " ('E', 0.1160094084634098),\n",
       " ('H', 0.079525204668484048),\n",
       " ('F', 0.053154316514272174)]"
      ]
     },
     "execution_count": 48,
     "metadata": {},
     "output_type": "execute_result"
    }
   ],
   "source": [
    "output = sorted(list_of_importances, key=lambda x: x[-1],reverse=True)\n",
    "output"
   ]
  },
  {
   "cell_type": "code",
   "execution_count": 49,
   "metadata": {},
   "outputs": [
    {
     "name": "stdout",
     "output_type": "stream",
     "text": [
      "Feature ranking:\n",
      "1. feature 2 (0.194913)\n",
      "2. feature 1 (0.155459)\n",
      "3. feature 0 (0.150549)\n",
      "4. feature 3 (0.131974)\n",
      "5. feature 6 (0.118415)\n",
      "6. feature 4 (0.116009)\n",
      "7. feature 7 (0.079525)\n",
      "8. feature 5 (0.053154)\n"
     ]
    },
    {
     "data": {
      "image/png": "[encoded data removed]",
      "text/plain": [
       "<Figure size 432x288 with 1 Axes>"
      ]
     },
     "metadata": {
      "needs_background": "light"
     },
     "output_type": "display_data"
    }
   ],
   "source": [
    "importances = rf_clf.feature_importances_\n",
    "std = np.std([tree.feature_importances_ for tree in rf_clf.estimators_],axis=0)\n",
    "indices = np.argsort(importances)[::-1]\n",
    "\n",
    "# Print the feature ranking\n",
    "print(\"Feature ranking:\")\n",
    "\n",
    "for f in range(X.shape[1]):\n",
    "    print(\"%d. feature %d (%f)\" % (f + 1, indices[f], importances[indices[f]]))\n",
    "\n",
    "# Plot the feature importances of the forest\n",
    "plt.figure()\n",
    "plt.title(\"Feature importances\")\n",
    "plt.bar(range(X.shape[1]), importances[indices],\n",
    "       color=\"r\", yerr=std[indices], align=\"center\")\n",
    "plt.xticks(range(X.shape[1]), indices)\n",
    "plt.xlim([-1, X.shape[1]])\n",
    "plt.show()"
   ]
  },
  {
   "cell_type": "code",
   "execution_count": 50,
   "metadata": {},
   "outputs": [
    {
     "data": {
      "text/plain": [
       "array([[ 0.60836754,  0.39163246],\n",
       "       [ 0.60438511,  0.39561489],\n",
       "       [ 0.44767078,  0.55232922],\n",
       "       [ 0.63739976,  0.36260024],\n",
       "       [ 0.578528  ,  0.421472  ],\n",
       "       [ 0.49745952,  0.50254048],\n",
       "       [ 0.49062444,  0.50937556],\n",
       "       [ 0.42267775,  0.57732225],\n",
       "       [ 0.66309466,  0.33690534],\n",
       "       [ 0.44251024,  0.55748976]])"
      ]
     },
     "execution_count": 50,
     "metadata": {},
     "output_type": "execute_result"
    }
   ],
   "source": [
    "# Get y_probabilities\n",
    "y_probas = rf_clf.predict_proba(X_train)\n",
    "y_probas[0:10]"
   ]
  },
  {
   "cell_type": "code",
   "execution_count": 51,
   "metadata": {},
   "outputs": [
    {
     "data": {
      "image/png": "[encoded data removed]",
      "text/plain": [
       "<Figure size 432x288 with 1 Axes>"
      ]
     },
     "metadata": {
      "needs_background": "light"
     },
     "output_type": "display_data"
    }
   ],
   "source": [
    "# https://github.com/reiinakano/scikit-plot/blob/master/examples/jupyter_notebooks/plot_roc_curve.ipynb\n",
    "scikitplot.metrics.plot_roc(y_train, y_probas, cmap='nipy_spectral')\n",
    "plt.show()"
   ]
  },
  {
   "cell_type": "markdown",
   "metadata": {},
   "source": [
    "# sklearn neural network\n",
    "\n",
    "https://scikit-neuralnetwork.readthedocs.io/en/latest/\n",
    "\n",
    "https://www.kdnuggets.com/2016/10/beginners-guide-neural-networks-python-scikit-learn.html\n",
    "\n",
    "https://scikit-learn.org/stable/modules/neural_networks_supervised.html\n",
    "\n",
    "https://scikit-learn.org/stable/modules/generated/sklearn.neural_network.MLPClassifier.html"
   ]
  },
  {
   "cell_type": "code",
   "execution_count": 52,
   "metadata": {},
   "outputs": [],
   "source": [
    "param={'solver': 'sgd', 'learning_rate': 'constant', 'momentum': 0,'learning_rate_init': 0.2}\n",
    "mlp = sklearn.neural_network.MLPClassifier(verbose=0, \n",
    "                                           random_state=0,\n",
    "                                           max_iter=1000)"
   ]
  },
  {
   "cell_type": "code",
   "execution_count": 53,
   "metadata": {},
   "outputs": [
    {
     "data": {
      "text/plain": [
       "MLPClassifier(activation='relu', alpha=0.0001, batch_size='auto', beta_1=0.9,\n",
       "       beta_2=0.999, early_stopping=False, epsilon=1e-08,\n",
       "       hidden_layer_sizes=(100,), learning_rate='constant',\n",
       "       learning_rate_init=0.001, max_iter=1000, momentum=0.9,\n",
       "       n_iter_no_change=10, nesterovs_momentum=True, power_t=0.5,\n",
       "       random_state=0, shuffle=True, solver='adam', tol=0.0001,\n",
       "       validation_fraction=0.1, verbose=0, warm_start=False)"
      ]
     },
     "execution_count": 53,
     "metadata": {},
     "output_type": "execute_result"
    }
   ],
   "source": [
    "mlp.fit(X_train, y_train)"
   ]
  },
  {
   "cell_type": "code",
   "execution_count": 54,
   "metadata": {},
   "outputs": [
    {
     "name": "stdout",
     "output_type": "stream",
     "text": [
      "Training set score: 1.000000\n",
      "Training set loss: 0.029660\n"
     ]
    }
   ],
   "source": [
    "print(\"Training set score: %f\" % mlp.score(X_train, y_train))\n",
    "print(\"Training set loss: %f\" % mlp.loss_)"
   ]
  },
  {
   "cell_type": "code",
   "execution_count": 55,
   "metadata": {},
   "outputs": [
    {
     "data": {
      "text/plain": [
       "array([0, 1, 0, 1, 1, 0, 1, 0, 0, 1, 1, 0, 1, 1, 0, 1, 1, 0, 1, 0, 0, 0, 0,\n",
       "       0, 1, 0, 0, 1, 1, 1, 1, 0, 1])"
      ]
     },
     "execution_count": 55,
     "metadata": {},
     "output_type": "execute_result"
    }
   ],
   "source": [
    "mlp.predict(X_test)"
   ]
  },
  {
   "cell_type": "code",
   "execution_count": 56,
   "metadata": {},
   "outputs": [
    {
     "data": {
      "text/plain": [
       "83    0\n",
       "53    1\n",
       "70    1\n",
       "45    0\n",
       "44    0\n",
       "39    1\n",
       "22    1\n",
       "80    1\n",
       "10    0\n",
       "0     0\n",
       "18    1\n",
       "30    1\n",
       "73    0\n",
       "33    0\n",
       "90    1\n",
       "4     0\n",
       "76    1\n",
       "77    0\n",
       "12    1\n",
       "31    1\n",
       "55    0\n",
       "88    0\n",
       "26    0\n",
       "42    0\n",
       "69    1\n",
       "15    1\n",
       "40    1\n",
       "96    1\n",
       "9     0\n",
       "72    1\n",
       "11    0\n",
       "47    0\n",
       "85    1\n",
       "Name: J, dtype: int64"
      ]
     },
     "execution_count": 56,
     "metadata": {},
     "output_type": "execute_result"
    }
   ],
   "source": [
    "y_test"
   ]
  },
  {
   "cell_type": "code",
   "execution_count": 57,
   "metadata": {},
   "outputs": [
    {
     "data": {
      "text/plain": [
       "0.51515151515151514"
      ]
     },
     "execution_count": 57,
     "metadata": {},
     "output_type": "execute_result"
    }
   ],
   "source": [
    "mlp.score(X_test, y_test)"
   ]
  },
  {
   "cell_type": "markdown",
   "metadata": {},
   "source": [
    "# tensorflow neural network using a pre-made Estimator\n",
    "\n",
    "sklearn --> tflearn --> estimators\n",
    "\n",
    "old: sklearn; https://www.kdnuggets.com/2016/02/scikit-flow-easy-deep-learning-tensorflow-scikit-learn.html\n",
    "\n",
    "* https://www.tensorflow.org/guide/premade_estimators\n",
    "* https://www.tensorflow.org/tutorials/estimators/linear\n",
    "* https://www.tensorflow.org/guide/estimators\n"
   ]
  },
  {
   "cell_type": "code",
   "execution_count": 58,
   "metadata": {},
   "outputs": [
    {
     "data": {
      "text/html": [
       "<div>\n",
       "<style scoped>\n",
       "    .dataframe tbody tr th:only-of-type {\n",
       "        vertical-align: middle;\n",
       "    }\n",
       "\n",
       "    .dataframe tbody tr th {\n",
       "        vertical-align: top;\n",
       "    }\n",
       "\n",
       "    .dataframe thead th {\n",
       "        text-align: right;\n",
       "    }\n",
       "</style>\n",
       "<table border=\"1\" class=\"dataframe\">\n",
       "  <thead>\n",
       "    <tr style=\"text-align: right;\">\n",
       "      <th></th>\n",
       "      <th>feature1</th>\n",
       "      <th>feature2</th>\n",
       "      <th>feature3</th>\n",
       "      <th>target</th>\n",
       "    </tr>\n",
       "  </thead>\n",
       "  <tbody>\n",
       "    <tr>\n",
       "      <th>0</th>\n",
       "      <td>0.111148</td>\n",
       "      <td>0.199281</td>\n",
       "      <td>0.873231</td>\n",
       "      <td>1</td>\n",
       "    </tr>\n",
       "    <tr>\n",
       "      <th>1</th>\n",
       "      <td>0.401913</td>\n",
       "      <td>0.811834</td>\n",
       "      <td>0.437039</td>\n",
       "      <td>1</td>\n",
       "    </tr>\n",
       "    <tr>\n",
       "      <th>2</th>\n",
       "      <td>0.407708</td>\n",
       "      <td>0.401179</td>\n",
       "      <td>0.228143</td>\n",
       "      <td>2</td>\n",
       "    </tr>\n",
       "    <tr>\n",
       "      <th>3</th>\n",
       "      <td>0.239890</td>\n",
       "      <td>0.513941</td>\n",
       "      <td>0.362460</td>\n",
       "      <td>2</td>\n",
       "    </tr>\n",
       "    <tr>\n",
       "      <th>4</th>\n",
       "      <td>0.463045</td>\n",
       "      <td>0.930482</td>\n",
       "      <td>0.606501</td>\n",
       "      <td>0</td>\n",
       "    </tr>\n",
       "    <tr>\n",
       "      <th>5</th>\n",
       "      <td>0.337516</td>\n",
       "      <td>0.937267</td>\n",
       "      <td>0.131944</td>\n",
       "      <td>1</td>\n",
       "    </tr>\n",
       "    <tr>\n",
       "      <th>6</th>\n",
       "      <td>0.587586</td>\n",
       "      <td>0.307606</td>\n",
       "      <td>0.284352</td>\n",
       "      <td>2</td>\n",
       "    </tr>\n",
       "    <tr>\n",
       "      <th>7</th>\n",
       "      <td>0.586817</td>\n",
       "      <td>0.624684</td>\n",
       "      <td>0.535407</td>\n",
       "      <td>0</td>\n",
       "    </tr>\n",
       "    <tr>\n",
       "      <th>8</th>\n",
       "      <td>0.677368</td>\n",
       "      <td>0.850526</td>\n",
       "      <td>0.202244</td>\n",
       "      <td>2</td>\n",
       "    </tr>\n",
       "    <tr>\n",
       "      <th>9</th>\n",
       "      <td>0.851744</td>\n",
       "      <td>0.116354</td>\n",
       "      <td>0.658900</td>\n",
       "      <td>1</td>\n",
       "    </tr>\n",
       "  </tbody>\n",
       "</table>\n",
       "</div>"
      ],
      "text/plain": [
       "   feature1  feature2  feature3  target\n",
       "0  0.111148  0.199281  0.873231       1\n",
       "1  0.401913  0.811834  0.437039       1\n",
       "2  0.407708  0.401179  0.228143       2\n",
       "3  0.239890  0.513941  0.362460       2\n",
       "4  0.463045  0.930482  0.606501       0\n",
       "5  0.337516  0.937267  0.131944       1\n",
       "6  0.587586  0.307606  0.284352       2\n",
       "7  0.586817  0.624684  0.535407       0\n",
       "8  0.677368  0.850526  0.202244       2\n",
       "9  0.851744  0.116354  0.658900       1"
      ]
     },
     "execution_count": 58,
     "metadata": {},
     "output_type": "execute_result"
    }
   ],
   "source": [
    "# https://medium.com/when-i-work-data/converting-a-pandas-dataframe-into-a-tensorflow-dataset-752f3783c168\n",
    "\n",
    "training_df: pandas.DataFrame = pandas.DataFrame(\n",
    "    data={\n",
    "        'feature1': np.random.rand(10),\n",
    "        'feature2': np.random.rand(10),\n",
    "        'feature3': np.random.rand(10),\n",
    "        'target': np.random.randint(0, 3, 10)\n",
    "    }\n",
    ")\n",
    "features = ['feature1', 'feature2', 'feature3']\n",
    "training_df"
   ]
  },
  {
   "cell_type": "code",
   "execution_count": 59,
   "metadata": {},
   "outputs": [
    {
     "data": {
      "text/plain": [
       "array([[ 0.11114837,  0.19928116,  0.8732315 ],\n",
       "       [ 0.40191335,  0.81183369,  0.4370386 ],\n",
       "       [ 0.40770818,  0.40117886,  0.22814319],\n",
       "       [ 0.2398903 ,  0.51394129,  0.36246037],\n",
       "       [ 0.46304452,  0.93048236,  0.60650063],\n",
       "       [ 0.33751594,  0.93726721,  0.13194419],\n",
       "       [ 0.58758635,  0.30760646,  0.28435244],\n",
       "       [ 0.58681704,  0.62468433,  0.53540727],\n",
       "       [ 0.67736791,  0.8505264 ,  0.2022444 ],\n",
       "       [ 0.85174414,  0.11635433,  0.65890015]])"
      ]
     },
     "execution_count": 59,
     "metadata": {},
     "output_type": "execute_result"
    }
   ],
   "source": [
    "training_df[features].values  # X_train"
   ]
  },
  {
   "cell_type": "code",
   "execution_count": 60,
   "metadata": {},
   "outputs": [
    {
     "data": {
      "text/plain": [
       "array([1, 1, 2, 2, 0, 1, 2, 0, 2, 1])"
      ]
     },
     "execution_count": 60,
     "metadata": {},
     "output_type": "execute_result"
    }
   ],
   "source": [
    "training_df['target'].values  # y_train"
   ]
  },
  {
   "cell_type": "code",
   "execution_count": 61,
   "metadata": {},
   "outputs": [],
   "source": [
    "training_dataset = (\n",
    "    tensorflow.data.Dataset.from_tensor_slices(\n",
    "        (\n",
    "            tensorflow.cast(training_df[features].values, tensorflow.float32),\n",
    "            tensorflow.cast(training_df['target'].values, tensorflow.int32)\n",
    "        )\n",
    "    )\n",
    ")"
   ]
  },
  {
   "cell_type": "code",
   "execution_count": 62,
   "metadata": {},
   "outputs": [
    {
     "data": {
      "text/plain": [
       "<DatasetV1Adapter shapes: ((3,), ()), types: (tf.float32, tf.int32)>"
      ]
     },
     "execution_count": 62,
     "metadata": {},
     "output_type": "execute_result"
    }
   ],
   "source": [
    "training_dataset"
   ]
  },
  {
   "cell_type": "code",
   "execution_count": 63,
   "metadata": {},
   "outputs": [],
   "source": [
    "def input_fn(dataset):\n",
    "   ''' manipulate dataset, extracting the feature dict and the label'''\n",
    "   return feature_dict, label"
   ]
  },
  {
   "cell_type": "code",
   "execution_count": 64,
   "metadata": {},
   "outputs": [],
   "source": [
    "population = tensorflow.feature_column.numeric_column('population')\n",
    "age = tensorflow.feature_column.numeric_column('age')"
   ]
  },
  {
   "cell_type": "code",
   "execution_count": 65,
   "metadata": {},
   "outputs": [
    {
     "name": "stdout",
     "output_type": "stream",
     "text": [
      "INFO:tensorflow:Using default config.\n",
      "WARNING:tensorflow:Using temporary folder as model directory: /tmp/tmp9d3vauhn\n",
      "INFO:tensorflow:Using config: {'_model_dir': '/tmp/tmp9d3vauhn', '_tf_random_seed': None, '_save_summary_steps': 100, '_save_checkpoints_steps': None, '_save_checkpoints_secs': 600, '_session_config': allow_soft_placement: true\n",
      "graph_options {\n",
      "  rewrite_options {\n",
      "    meta_optimizer_iterations: ONE\n",
      "  }\n",
      "}\n",
      ", '_keep_checkpoint_max': 5, '_keep_checkpoint_every_n_hours': 10000, '_log_step_count_steps': 100, '_train_distribute': None, '_device_fn': None, '_protocol': None, '_eval_distribute': None, '_experimental_distribute': None, '_service': None, '_cluster_spec': <tensorflow.python.training.server_lib.ClusterSpec object at 0x7fbfb7728e48>, '_task_type': 'worker', '_task_id': 0, '_global_id_in_cluster': 0, '_master': '', '_evaluation_master': '', '_is_chief': True, '_num_ps_replicas': 0, '_num_worker_replicas': 1}\n"
     ]
    }
   ],
   "source": [
    "# Instantiate an estimator, passing the feature columns.\n",
    "estimator = tensorflow.estimator.LinearClassifier(feature_columns=[population, age])"
   ]
  },
  {
   "cell_type": "raw",
   "metadata": {},
   "source": [
    "estimator.train(input_fn=training_dataset, steps=1000)"
   ]
  }
 ],
 "metadata": {
  "kernelspec": {
   "display_name": "Python 3",
   "language": "python",
   "name": "python3"
  },
  "language_info": {
   "codemirror_mode": {
    "name": "ipython",
    "version": 3
   },
   "file_extension": ".py",
   "mimetype": "text/x-python",
   "name": "python",
   "nbconvert_exporter": "python",
   "pygments_lexer": "ipython3",
   "version": "3.6.7"
  }
 },
 "nbformat": 4,
 "nbformat_minor": 2
}
