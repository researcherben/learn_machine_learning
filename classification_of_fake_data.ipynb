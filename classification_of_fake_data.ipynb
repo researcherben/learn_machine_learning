{
 "cells": [
  {
   "cell_type": "markdown",
   "metadata": {},
   "source": [
    "https://scikit-learn.org/stable/auto_examples/classification/plot_classifier_comparison.html#sphx-glr-auto-examples-classification-plot-classifier-comparison-py"
   ]
  },
  {
   "cell_type": "code",
   "execution_count": 1,
   "metadata": {},
   "outputs": [
    {
     "name": "stdout",
     "output_type": "stream",
     "text": [
      "d80d740e40a5\n"
     ]
    }
   ],
   "source": [
    "!hostname"
   ]
  },
  {
   "cell_type": "code",
   "execution_count": 2,
   "metadata": {},
   "outputs": [
    {
     "name": "stdout",
     "output_type": "stream",
     "text": [
      "Requirement already satisfied: tensorflow in /opt/conda/lib/python3.6/site-packages (1.13.1)\n",
      "Requirement already satisfied: numpy>=1.13.3 in /opt/conda/lib/python3.6/site-packages (from tensorflow) (1.13.3)\n",
      "Requirement already satisfied: astor>=0.6.0 in /opt/conda/lib/python3.6/site-packages (from tensorflow) (0.7.1)\n",
      "Requirement already satisfied: tensorboard<1.14.0,>=1.13.0 in /opt/conda/lib/python3.6/site-packages (from tensorflow) (1.13.0)\n",
      "Requirement already satisfied: keras-preprocessing>=1.0.5 in /opt/conda/lib/python3.6/site-packages (from tensorflow) (1.0.9)\n",
      "Requirement already satisfied: keras-applications>=1.0.6 in /opt/conda/lib/python3.6/site-packages (from tensorflow) (1.0.7)\n",
      "Requirement already satisfied: wheel>=0.26 in /opt/conda/lib/python3.6/site-packages (from tensorflow) (0.32.2)\n",
      "Requirement already satisfied: six>=1.10.0 in /opt/conda/lib/python3.6/site-packages (from tensorflow) (1.11.0)\n",
      "Requirement already satisfied: grpcio>=1.8.6 in /opt/conda/lib/python3.6/site-packages (from tensorflow) (1.19.0)\n",
      "Requirement already satisfied: gast>=0.2.0 in /opt/conda/lib/python3.6/site-packages (from tensorflow) (0.2.2)\n",
      "Requirement already satisfied: protobuf>=3.6.1 in /opt/conda/lib/python3.6/site-packages (from tensorflow) (3.6.1)\n",
      "Requirement already satisfied: termcolor>=1.1.0 in /opt/conda/lib/python3.6/site-packages (from tensorflow) (1.1.0)\n",
      "Requirement already satisfied: absl-py>=0.1.6 in /opt/conda/lib/python3.6/site-packages (from tensorflow) (0.7.0)\n",
      "Requirement already satisfied: tensorflow-estimator<1.14.0rc0,>=1.13.0 in /opt/conda/lib/python3.6/site-packages (from tensorflow) (1.13.0)\n",
      "Requirement already satisfied: werkzeug>=0.11.15 in /opt/conda/lib/python3.6/site-packages (from tensorboard<1.14.0,>=1.13.0->tensorflow) (0.14.1)\n",
      "Requirement already satisfied: markdown>=2.6.8 in /opt/conda/lib/python3.6/site-packages (from tensorboard<1.14.0,>=1.13.0->tensorflow) (3.0.1)\n",
      "Requirement already satisfied: h5py in /opt/conda/lib/python3.6/site-packages (from keras-applications>=1.0.6->tensorflow) (2.7.1)\n",
      "Requirement already satisfied: setuptools in /opt/conda/lib/python3.6/site-packages (from protobuf>=3.6.1->tensorflow) (40.4.3)\n",
      "Requirement already satisfied: mock>=2.0.0 in /opt/conda/lib/python3.6/site-packages (from tensorflow-estimator<1.14.0rc0,>=1.13.0->tensorflow) (2.0.0)\n",
      "Requirement already satisfied: pbr>=0.11 in /opt/conda/lib/python3.6/site-packages (from mock>=2.0.0->tensorflow-estimator<1.14.0rc0,>=1.13.0->tensorflow) (5.1.3)\n"
     ]
    }
   ],
   "source": [
    "!pip install tensorflow"
   ]
  },
  {
   "cell_type": "code",
   "execution_count": 3,
   "metadata": {},
   "outputs": [
    {
     "name": "stdout",
     "output_type": "stream",
     "text": [
      "Requirement already satisfied: tflearn in /opt/conda/lib/python3.6/site-packages (0.3.2)\n",
      "Requirement already satisfied: numpy in /opt/conda/lib/python3.6/site-packages (from tflearn) (1.13.3)\n",
      "Requirement already satisfied: six in /opt/conda/lib/python3.6/site-packages (from tflearn) (1.11.0)\n",
      "Requirement already satisfied: Pillow in /opt/conda/lib/python3.6/site-packages (from tflearn) (5.3.0)\n"
     ]
    }
   ],
   "source": [
    "!pip install tflearn"
   ]
  },
  {
   "cell_type": "code",
   "execution_count": 4,
   "metadata": {},
   "outputs": [
    {
     "name": "stdout",
     "output_type": "stream",
     "text": [
      "Requirement already satisfied: scikit-plot in /opt/conda/lib/python3.6/site-packages (0.3.7)\n",
      "Requirement already satisfied: scikit-learn>=0.18 in /opt/conda/lib/python3.6/site-packages (from scikit-plot) (0.20.3)\n",
      "Requirement already satisfied: scipy>=0.9 in /opt/conda/lib/python3.6/site-packages (from scikit-plot) (1.1.0)\n",
      "Requirement already satisfied: joblib>=0.10 in /opt/conda/lib/python3.6/site-packages (from scikit-plot) (0.13.2)\n",
      "Requirement already satisfied: matplotlib>=1.4.0 in /opt/conda/lib/python3.6/site-packages (from scikit-plot) (3.0.2)\n",
      "Requirement already satisfied: numpy>=1.8.2 in /opt/conda/lib/python3.6/site-packages (from scikit-learn>=0.18->scikit-plot) (1.13.3)\n",
      "Requirement already satisfied: cycler>=0.10 in /opt/conda/lib/python3.6/site-packages (from matplotlib>=1.4.0->scikit-plot) (0.10.0)\n",
      "Requirement already satisfied: kiwisolver>=1.0.1 in /opt/conda/lib/python3.6/site-packages (from matplotlib>=1.4.0->scikit-plot) (1.0.1)\n",
      "Requirement already satisfied: pyparsing!=2.0.4,!=2.1.2,!=2.1.6,>=2.0.1 in /opt/conda/lib/python3.6/site-packages (from matplotlib>=1.4.0->scikit-plot) (2.2.2)\n",
      "Requirement already satisfied: python-dateutil>=2.1 in /opt/conda/lib/python3.6/site-packages (from matplotlib>=1.4.0->scikit-plot) (2.7.4)\n",
      "Requirement already satisfied: six in /opt/conda/lib/python3.6/site-packages (from cycler>=0.10->matplotlib>=1.4.0->scikit-plot) (1.11.0)\n",
      "Requirement already satisfied: setuptools in /opt/conda/lib/python3.6/site-packages (from kiwisolver>=1.0.1->matplotlib>=1.4.0->scikit-plot) (40.4.3)\n"
     ]
    }
   ],
   "source": [
    "!pip install scikit-plot # https://github.com/reiinakano/scikit-plot"
   ]
  },
  {
   "cell_type": "code",
   "execution_count": 5,
   "metadata": {},
   "outputs": [
    {
     "name": "stdout",
     "output_type": "stream",
     "text": [
      "4.4.0\n"
     ]
    }
   ],
   "source": [
    "!jupyter --version"
   ]
  },
  {
   "cell_type": "code",
   "execution_count": 6,
   "metadata": {},
   "outputs": [
    {
     "name": "stdout",
     "output_type": "stream",
     "text": [
      "Python 3.6.7 :: Anaconda, Inc.\n"
     ]
    }
   ],
   "source": [
    "!python --version"
   ]
  },
  {
   "cell_type": "code",
   "execution_count": 7,
   "metadata": {},
   "outputs": [
    {
     "name": "stdout",
     "output_type": "stream",
     "text": [
      "pandas 0.23.4\n",
      "numpy 1.13.3\n",
      "scikitplot 0.3.7\n",
      "TensorFlow 1.13.1\n",
      "WARNING:tensorflow:From /opt/conda/lib/python3.6/site-packages/tensorflow/python/framework/op_def_library.py:263: colocate_with (from tensorflow.python.framework.ops) is deprecated and will be removed in a future version.\n",
      "Instructions for updating:\n",
      "Colocations handled automatically by placer.\n"
     ]
    }
   ],
   "source": [
    "import time\n",
    "import matplotlib.pyplot as plt\n",
    "import pandas\n",
    "print(\"pandas\",pandas.__version__)\n",
    "import numpy as np\n",
    "print(\"numpy\",np.__version__)\n",
    "import sklearn.model_selection\n",
    "import sklearn.tree\n",
    "import sklearn.svm\n",
    "import sklearn.linear_model\n",
    "import sklearn.naive_bayes\n",
    "import sklearn.ensemble\n",
    "import sklearn.neural_network\n",
    "import sklearn.metrics\n",
    "import sklearn.neighbors\n",
    "import scikitplot\n",
    "print(\"scikitplot\",scikitplot.__version__)\n",
    "#import skflow.TensorFlowLinearClassifier\n",
    "import tensorflow\n",
    "print(\"TensorFlow\",tensorflow.__version__)\n",
    "import tflearn\n",
    "import graphviz "
   ]
  },
  {
   "cell_type": "markdown",
   "metadata": {},
   "source": [
    "# create fake data\n",
    "\n",
    "alternative: use a library to create fake data https://scikit-learn.org/stable/modules/generated/sklearn.datasets.make_classification.html"
   ]
  },
  {
   "cell_type": "code",
   "execution_count": 8,
   "metadata": {},
   "outputs": [],
   "source": [
    "num_rows=100"
   ]
  },
  {
   "cell_type": "markdown",
   "metadata": {},
   "source": [
    "Here I assume \n",
    "* no NaNs\n",
    "* no blanks\n",
    "* each variable has been normalized\n",
    "* categorical data has been addressed using an encoding (binary or one-hot or something else)\n",
    "* classes are balanced"
   ]
  },
  {
   "cell_type": "code",
   "execution_count": 9,
   "metadata": {},
   "outputs": [],
   "source": [
    "df1 = pandas.DataFrame(np.abs(np.random.randn(num_rows, 4)), columns=list('ABCD'))\n",
    "#df1.head()"
   ]
  },
  {
   "cell_type": "code",
   "execution_count": 10,
   "metadata": {},
   "outputs": [],
   "source": [
    "df2 = pandas.DataFrame(np.random.randint(10,size=(num_rows, 4)), columns=list('EFGH'))\n",
    "#df2.head()"
   ]
  },
  {
   "cell_type": "code",
   "execution_count": 11,
   "metadata": {},
   "outputs": [],
   "source": [
    "df3 = pandas.DataFrame(np.random.randint(2,size=(num_rows, 1)), columns=list('J'))\n",
    "#df3.head()"
   ]
  },
  {
   "cell_type": "code",
   "execution_count": 12,
   "metadata": {},
   "outputs": [
    {
     "data": {
      "text/html": [
       "<div>\n",
       "<style scoped>\n",
       "    .dataframe tbody tr th:only-of-type {\n",
       "        vertical-align: middle;\n",
       "    }\n",
       "\n",
       "    .dataframe tbody tr th {\n",
       "        vertical-align: top;\n",
       "    }\n",
       "\n",
       "    .dataframe thead th {\n",
       "        text-align: right;\n",
       "    }\n",
       "</style>\n",
       "<table border=\"1\" class=\"dataframe\">\n",
       "  <thead>\n",
       "    <tr style=\"text-align: right;\">\n",
       "      <th></th>\n",
       "      <th>A</th>\n",
       "      <th>B</th>\n",
       "      <th>C</th>\n",
       "      <th>D</th>\n",
       "      <th>E</th>\n",
       "      <th>F</th>\n",
       "      <th>G</th>\n",
       "      <th>H</th>\n",
       "      <th>J</th>\n",
       "    </tr>\n",
       "  </thead>\n",
       "  <tbody>\n",
       "    <tr>\n",
       "      <th>0</th>\n",
       "      <td>1.053782</td>\n",
       "      <td>0.058771</td>\n",
       "      <td>1.232052</td>\n",
       "      <td>2.414993</td>\n",
       "      <td>4</td>\n",
       "      <td>1</td>\n",
       "      <td>7</td>\n",
       "      <td>3</td>\n",
       "      <td>1</td>\n",
       "    </tr>\n",
       "    <tr>\n",
       "      <th>1</th>\n",
       "      <td>1.070231</td>\n",
       "      <td>0.120963</td>\n",
       "      <td>0.860617</td>\n",
       "      <td>0.579103</td>\n",
       "      <td>7</td>\n",
       "      <td>6</td>\n",
       "      <td>6</td>\n",
       "      <td>3</td>\n",
       "      <td>0</td>\n",
       "    </tr>\n",
       "    <tr>\n",
       "      <th>2</th>\n",
       "      <td>2.586063</td>\n",
       "      <td>2.138820</td>\n",
       "      <td>2.870448</td>\n",
       "      <td>0.253283</td>\n",
       "      <td>2</td>\n",
       "      <td>3</td>\n",
       "      <td>6</td>\n",
       "      <td>6</td>\n",
       "      <td>0</td>\n",
       "    </tr>\n",
       "    <tr>\n",
       "      <th>3</th>\n",
       "      <td>0.509311</td>\n",
       "      <td>0.305450</td>\n",
       "      <td>0.495920</td>\n",
       "      <td>1.214798</td>\n",
       "      <td>5</td>\n",
       "      <td>4</td>\n",
       "      <td>7</td>\n",
       "      <td>0</td>\n",
       "      <td>1</td>\n",
       "    </tr>\n",
       "    <tr>\n",
       "      <th>4</th>\n",
       "      <td>0.739447</td>\n",
       "      <td>0.508216</td>\n",
       "      <td>0.660121</td>\n",
       "      <td>2.165011</td>\n",
       "      <td>8</td>\n",
       "      <td>8</td>\n",
       "      <td>4</td>\n",
       "      <td>7</td>\n",
       "      <td>0</td>\n",
       "    </tr>\n",
       "  </tbody>\n",
       "</table>\n",
       "</div>"
      ],
      "text/plain": [
       "          A         B         C         D  E  F  G  H  J\n",
       "0  1.053782  0.058771  1.232052  2.414993  4  1  7  3  1\n",
       "1  1.070231  0.120963  0.860617  0.579103  7  6  6  3  0\n",
       "2  2.586063  2.138820  2.870448  0.253283  2  3  6  6  0\n",
       "3  0.509311  0.305450  0.495920  1.214798  5  4  7  0  1\n",
       "4  0.739447  0.508216  0.660121  2.165011  8  8  4  7  0"
      ]
     },
     "execution_count": 12,
     "metadata": {},
     "output_type": "execute_result"
    }
   ],
   "source": [
    "cleaned_df = pandas.concat([df1, df2,df3], axis=1, join_axes=[df1.index])\n",
    "cleaned_df.head()"
   ]
  },
  {
   "cell_type": "markdown",
   "metadata": {},
   "source": [
    "# split fake data\n",
    "\n",
    "https://scikit-learn.org/stable/modules/generated/sklearn.model_selection.train_test_split.html\n",
    "\n",
    "https://datascience.stackexchange.com/questions/15135/train-test-validation-set-splitting-in-sklearn"
   ]
  },
  {
   "cell_type": "raw",
   "metadata": {},
   "source": [
    "split cleaned_df into 4 subsections:\n",
    "\n",
    "[          |          ]\n",
    "[ X_train  |  y_train ]    \n",
    "[          |          ]\n",
    "[----------|----------]\n",
    "[          |          ]\n",
    "[ X_test   |  y_test  ]    \n",
    "[          |          ]"
   ]
  },
  {
   "cell_type": "code",
   "execution_count": 13,
   "metadata": {},
   "outputs": [
    {
     "name": "stdout",
     "output_type": "stream",
     "text": [
      "dimensions: (100, 8)\n"
     ]
    },
    {
     "data": {
      "text/html": [
       "<div>\n",
       "<style scoped>\n",
       "    .dataframe tbody tr th:only-of-type {\n",
       "        vertical-align: middle;\n",
       "    }\n",
       "\n",
       "    .dataframe tbody tr th {\n",
       "        vertical-align: top;\n",
       "    }\n",
       "\n",
       "    .dataframe thead th {\n",
       "        text-align: right;\n",
       "    }\n",
       "</style>\n",
       "<table border=\"1\" class=\"dataframe\">\n",
       "  <thead>\n",
       "    <tr style=\"text-align: right;\">\n",
       "      <th></th>\n",
       "      <th>A</th>\n",
       "      <th>B</th>\n",
       "      <th>C</th>\n",
       "      <th>D</th>\n",
       "      <th>E</th>\n",
       "      <th>F</th>\n",
       "      <th>G</th>\n",
       "      <th>H</th>\n",
       "    </tr>\n",
       "  </thead>\n",
       "  <tbody>\n",
       "    <tr>\n",
       "      <th>0</th>\n",
       "      <td>1.053782</td>\n",
       "      <td>0.058771</td>\n",
       "      <td>1.232052</td>\n",
       "      <td>2.414993</td>\n",
       "      <td>4</td>\n",
       "      <td>1</td>\n",
       "      <td>7</td>\n",
       "      <td>3</td>\n",
       "    </tr>\n",
       "    <tr>\n",
       "      <th>1</th>\n",
       "      <td>1.070231</td>\n",
       "      <td>0.120963</td>\n",
       "      <td>0.860617</td>\n",
       "      <td>0.579103</td>\n",
       "      <td>7</td>\n",
       "      <td>6</td>\n",
       "      <td>6</td>\n",
       "      <td>3</td>\n",
       "    </tr>\n",
       "    <tr>\n",
       "      <th>2</th>\n",
       "      <td>2.586063</td>\n",
       "      <td>2.138820</td>\n",
       "      <td>2.870448</td>\n",
       "      <td>0.253283</td>\n",
       "      <td>2</td>\n",
       "      <td>3</td>\n",
       "      <td>6</td>\n",
       "      <td>6</td>\n",
       "    </tr>\n",
       "    <tr>\n",
       "      <th>3</th>\n",
       "      <td>0.509311</td>\n",
       "      <td>0.305450</td>\n",
       "      <td>0.495920</td>\n",
       "      <td>1.214798</td>\n",
       "      <td>5</td>\n",
       "      <td>4</td>\n",
       "      <td>7</td>\n",
       "      <td>0</td>\n",
       "    </tr>\n",
       "    <tr>\n",
       "      <th>4</th>\n",
       "      <td>0.739447</td>\n",
       "      <td>0.508216</td>\n",
       "      <td>0.660121</td>\n",
       "      <td>2.165011</td>\n",
       "      <td>8</td>\n",
       "      <td>8</td>\n",
       "      <td>4</td>\n",
       "      <td>7</td>\n",
       "    </tr>\n",
       "  </tbody>\n",
       "</table>\n",
       "</div>"
      ],
      "text/plain": [
       "          A         B         C         D  E  F  G  H\n",
       "0  1.053782  0.058771  1.232052  2.414993  4  1  7  3\n",
       "1  1.070231  0.120963  0.860617  0.579103  7  6  6  3\n",
       "2  2.586063  2.138820  2.870448  0.253283  2  3  6  6\n",
       "3  0.509311  0.305450  0.495920  1.214798  5  4  7  0\n",
       "4  0.739447  0.508216  0.660121  2.165011  8  8  4  7"
      ]
     },
     "execution_count": 13,
     "metadata": {},
     "output_type": "execute_result"
    }
   ],
   "source": [
    "X = cleaned_df.drop('J', axis=1)\n",
    "print('dimensions:',X.shape)\n",
    "X.head()"
   ]
  },
  {
   "cell_type": "code",
   "execution_count": 14,
   "metadata": {},
   "outputs": [
    {
     "data": {
      "text/plain": [
       "0    1\n",
       "1    0\n",
       "2    0\n",
       "3    1\n",
       "4    0\n",
       "Name: J, dtype: int64"
      ]
     },
     "execution_count": 14,
     "metadata": {},
     "output_type": "execute_result"
    }
   ],
   "source": [
    "y=cleaned_df['J']\n",
    "y.head()"
   ]
  },
  {
   "cell_type": "code",
   "execution_count": 15,
   "metadata": {},
   "outputs": [],
   "source": [
    "X_train, X_test, y_train, y_test = sklearn.model_selection.train_test_split(X, y, test_size=0.33, random_state=42)"
   ]
  },
  {
   "cell_type": "code",
   "execution_count": 16,
   "metadata": {},
   "outputs": [
    {
     "name": "stdout",
     "output_type": "stream",
     "text": [
      "dimensions: (67, 8)\n"
     ]
    },
    {
     "data": {
      "text/html": [
       "<div>\n",
       "<style scoped>\n",
       "    .dataframe tbody tr th:only-of-type {\n",
       "        vertical-align: middle;\n",
       "    }\n",
       "\n",
       "    .dataframe tbody tr th {\n",
       "        vertical-align: top;\n",
       "    }\n",
       "\n",
       "    .dataframe thead th {\n",
       "        text-align: right;\n",
       "    }\n",
       "</style>\n",
       "<table border=\"1\" class=\"dataframe\">\n",
       "  <thead>\n",
       "    <tr style=\"text-align: right;\">\n",
       "      <th></th>\n",
       "      <th>A</th>\n",
       "      <th>B</th>\n",
       "      <th>C</th>\n",
       "      <th>D</th>\n",
       "      <th>E</th>\n",
       "      <th>F</th>\n",
       "      <th>G</th>\n",
       "      <th>H</th>\n",
       "    </tr>\n",
       "  </thead>\n",
       "  <tbody>\n",
       "    <tr>\n",
       "      <th>28</th>\n",
       "      <td>0.851361</td>\n",
       "      <td>0.637974</td>\n",
       "      <td>0.621182</td>\n",
       "      <td>1.428426</td>\n",
       "      <td>7</td>\n",
       "      <td>4</td>\n",
       "      <td>5</td>\n",
       "      <td>1</td>\n",
       "    </tr>\n",
       "    <tr>\n",
       "      <th>93</th>\n",
       "      <td>0.559296</td>\n",
       "      <td>0.162457</td>\n",
       "      <td>1.134522</td>\n",
       "      <td>0.240719</td>\n",
       "      <td>4</td>\n",
       "      <td>2</td>\n",
       "      <td>5</td>\n",
       "      <td>6</td>\n",
       "    </tr>\n",
       "    <tr>\n",
       "      <th>5</th>\n",
       "      <td>0.207536</td>\n",
       "      <td>0.114314</td>\n",
       "      <td>0.026868</td>\n",
       "      <td>1.166940</td>\n",
       "      <td>8</td>\n",
       "      <td>9</td>\n",
       "      <td>0</td>\n",
       "      <td>3</td>\n",
       "    </tr>\n",
       "    <tr>\n",
       "      <th>66</th>\n",
       "      <td>0.286937</td>\n",
       "      <td>1.453860</td>\n",
       "      <td>0.148786</td>\n",
       "      <td>0.728512</td>\n",
       "      <td>9</td>\n",
       "      <td>8</td>\n",
       "      <td>5</td>\n",
       "      <td>9</td>\n",
       "    </tr>\n",
       "    <tr>\n",
       "      <th>65</th>\n",
       "      <td>0.653876</td>\n",
       "      <td>1.138124</td>\n",
       "      <td>1.172881</td>\n",
       "      <td>0.378636</td>\n",
       "      <td>5</td>\n",
       "      <td>4</td>\n",
       "      <td>1</td>\n",
       "      <td>6</td>\n",
       "    </tr>\n",
       "  </tbody>\n",
       "</table>\n",
       "</div>"
      ],
      "text/plain": [
       "           A         B         C         D  E  F  G  H\n",
       "28  0.851361  0.637974  0.621182  1.428426  7  4  5  1\n",
       "93  0.559296  0.162457  1.134522  0.240719  4  2  5  6\n",
       "5   0.207536  0.114314  0.026868  1.166940  8  9  0  3\n",
       "66  0.286937  1.453860  0.148786  0.728512  9  8  5  9\n",
       "65  0.653876  1.138124  1.172881  0.378636  5  4  1  6"
      ]
     },
     "execution_count": 16,
     "metadata": {},
     "output_type": "execute_result"
    }
   ],
   "source": [
    "print('dimensions:',X_train.shape)\n",
    "X_train.head()"
   ]
  },
  {
   "cell_type": "code",
   "execution_count": 17,
   "metadata": {},
   "outputs": [
    {
     "name": "stdout",
     "output_type": "stream",
     "text": [
      "dimensions: (33, 8)\n"
     ]
    },
    {
     "data": {
      "text/html": [
       "<div>\n",
       "<style scoped>\n",
       "    .dataframe tbody tr th:only-of-type {\n",
       "        vertical-align: middle;\n",
       "    }\n",
       "\n",
       "    .dataframe tbody tr th {\n",
       "        vertical-align: top;\n",
       "    }\n",
       "\n",
       "    .dataframe thead th {\n",
       "        text-align: right;\n",
       "    }\n",
       "</style>\n",
       "<table border=\"1\" class=\"dataframe\">\n",
       "  <thead>\n",
       "    <tr style=\"text-align: right;\">\n",
       "      <th></th>\n",
       "      <th>A</th>\n",
       "      <th>B</th>\n",
       "      <th>C</th>\n",
       "      <th>D</th>\n",
       "      <th>E</th>\n",
       "      <th>F</th>\n",
       "      <th>G</th>\n",
       "      <th>H</th>\n",
       "    </tr>\n",
       "  </thead>\n",
       "  <tbody>\n",
       "    <tr>\n",
       "      <th>83</th>\n",
       "      <td>0.438037</td>\n",
       "      <td>0.805992</td>\n",
       "      <td>0.375357</td>\n",
       "      <td>0.053152</td>\n",
       "      <td>5</td>\n",
       "      <td>4</td>\n",
       "      <td>9</td>\n",
       "      <td>1</td>\n",
       "    </tr>\n",
       "    <tr>\n",
       "      <th>53</th>\n",
       "      <td>1.353552</td>\n",
       "      <td>0.526145</td>\n",
       "      <td>1.224858</td>\n",
       "      <td>0.196678</td>\n",
       "      <td>5</td>\n",
       "      <td>3</td>\n",
       "      <td>8</td>\n",
       "      <td>3</td>\n",
       "    </tr>\n",
       "    <tr>\n",
       "      <th>70</th>\n",
       "      <td>0.701363</td>\n",
       "      <td>1.533143</td>\n",
       "      <td>1.078203</td>\n",
       "      <td>0.151915</td>\n",
       "      <td>2</td>\n",
       "      <td>5</td>\n",
       "      <td>3</td>\n",
       "      <td>3</td>\n",
       "    </tr>\n",
       "    <tr>\n",
       "      <th>45</th>\n",
       "      <td>1.041333</td>\n",
       "      <td>0.930528</td>\n",
       "      <td>0.571850</td>\n",
       "      <td>0.253376</td>\n",
       "      <td>0</td>\n",
       "      <td>4</td>\n",
       "      <td>9</td>\n",
       "      <td>6</td>\n",
       "    </tr>\n",
       "    <tr>\n",
       "      <th>44</th>\n",
       "      <td>0.223916</td>\n",
       "      <td>1.198094</td>\n",
       "      <td>1.676723</td>\n",
       "      <td>1.601481</td>\n",
       "      <td>9</td>\n",
       "      <td>6</td>\n",
       "      <td>3</td>\n",
       "      <td>8</td>\n",
       "    </tr>\n",
       "  </tbody>\n",
       "</table>\n",
       "</div>"
      ],
      "text/plain": [
       "           A         B         C         D  E  F  G  H\n",
       "83  0.438037  0.805992  0.375357  0.053152  5  4  9  1\n",
       "53  1.353552  0.526145  1.224858  0.196678  5  3  8  3\n",
       "70  0.701363  1.533143  1.078203  0.151915  2  5  3  3\n",
       "45  1.041333  0.930528  0.571850  0.253376  0  4  9  6\n",
       "44  0.223916  1.198094  1.676723  1.601481  9  6  3  8"
      ]
     },
     "execution_count": 17,
     "metadata": {},
     "output_type": "execute_result"
    }
   ],
   "source": [
    "print('dimensions:',X_test.shape)\n",
    "X_test.head()"
   ]
  },
  {
   "cell_type": "code",
   "execution_count": 18,
   "metadata": {},
   "outputs": [
    {
     "name": "stdout",
     "output_type": "stream",
     "text": [
      "1    34\n",
      "0    33\n",
      "Name: J, dtype: int64\n"
     ]
    },
    {
     "data": {
      "text/plain": [
       "28    1\n",
       "93    0\n",
       "5     1\n",
       "66    1\n",
       "65    0\n",
       "Name: J, dtype: int64"
      ]
     },
     "execution_count": 18,
     "metadata": {},
     "output_type": "execute_result"
    }
   ],
   "source": [
    "print(y_train.value_counts())\n",
    "\n",
    "y_train.head()"
   ]
  },
  {
   "cell_type": "code",
   "execution_count": 19,
   "metadata": {},
   "outputs": [
    {
     "name": "stdout",
     "output_type": "stream",
     "text": [
      "1    17\n",
      "0    16\n",
      "Name: J, dtype: int64\n"
     ]
    },
    {
     "data": {
      "text/plain": [
       "83    0\n",
       "53    1\n",
       "70    1\n",
       "45    0\n",
       "44    0\n",
       "Name: J, dtype: int64"
      ]
     },
     "execution_count": 19,
     "metadata": {},
     "output_type": "execute_result"
    }
   ],
   "source": [
    "print(y_test.value_counts())\n",
    "\n",
    "y_test.head()"
   ]
  },
  {
   "cell_type": "markdown",
   "metadata": {},
   "source": [
    "# Support Vector Machine\n",
    "\n",
    "https://scikit-learn.org/stable/modules/svm.html\n",
    "\n",
    "https://scikit-learn.org/stable/modules/generated/sklearn.svm.SVC.html"
   ]
  },
  {
   "cell_type": "code",
   "execution_count": 20,
   "metadata": {},
   "outputs": [
    {
     "data": {
      "text/plain": [
       "SVC(C=1.0, cache_size=200, class_weight=None, coef0=0.0,\n",
       "  decision_function_shape='ovr', degree=3, gamma='auto', kernel='rbf',\n",
       "  max_iter=-1, probability=True, random_state=None, shrinking=True,\n",
       "  tol=0.001, verbose=False)"
      ]
     },
     "execution_count": 20,
     "metadata": {},
     "output_type": "execute_result"
    }
   ],
   "source": [
    "svm_clf = sklearn.svm.SVC(gamma='auto',probability=True)\n",
    "output = svm_clf.fit(X_train, y_train) \n",
    "output"
   ]
  },
  {
   "cell_type": "code",
   "execution_count": 21,
   "metadata": {},
   "outputs": [
    {
     "data": {
      "text/plain": [
       "array([1, 0, 0, 0, 1, 1, 1, 0, 1, 0, 1, 1, 1, 1, 0, 1, 0, 0, 1, 1, 0, 0, 1,\n",
       "       1, 0, 1, 1, 0, 0, 1, 1, 1, 0])"
      ]
     },
     "execution_count": 21,
     "metadata": {},
     "output_type": "execute_result"
    }
   ],
   "source": [
    "y_pred = svm_clf.predict(X_test)\n",
    "y_pred"
   ]
  },
  {
   "cell_type": "code",
   "execution_count": 22,
   "metadata": {},
   "outputs": [
    {
     "data": {
      "text/plain": [
       "83    0\n",
       "53    1\n",
       "70    1\n",
       "45    0\n",
       "44    0\n",
       "Name: J, dtype: int64"
      ]
     },
     "execution_count": 22,
     "metadata": {},
     "output_type": "execute_result"
    }
   ],
   "source": [
    "y_test.head()"
   ]
  },
  {
   "cell_type": "markdown",
   "metadata": {},
   "source": [
    "https://scikit-learn.org/stable/modules/model_evaluation.html#accuracy-score\n",
    "    \n",
    "https://scikit-learn.org/stable/modules/generated/sklearn.metrics.accuracy_score.html"
   ]
  },
  {
   "cell_type": "code",
   "execution_count": 23,
   "metadata": {},
   "outputs": [
    {
     "name": "stdout",
     "output_type": "stream",
     "text": [
      "Accuracy: 0.333333\n"
     ]
    }
   ],
   "source": [
    "score = sklearn.metrics.accuracy_score(y_test,y_pred)\n",
    "print(\"Accuracy: %f\" % score)"
   ]
  },
  {
   "cell_type": "markdown",
   "metadata": {},
   "source": [
    "https://en.wikipedia.org/wiki/Receiver_operating_characteristic\n",
    "\n",
    "Rather than navigate this code, https://scikit-learn.org/stable/auto_examples/model_selection/plot_roc.html and https://scikit-learn.org/stable/modules/generated/sklearn.metrics.roc_curve.html\n",
    "\n",
    "I'm going to use <a href=\"https://github.com/reiinakano/scikit-plot\">scikit-plot</a> to visualize the ROC "
   ]
  },
  {
   "cell_type": "code",
   "execution_count": 24,
   "metadata": {},
   "outputs": [
    {
     "data": {
      "text/plain": [
       "array([[ 0.51621505,  0.48378495],\n",
       "       [ 0.8728243 ,  0.1271757 ],\n",
       "       [ 0.11670775,  0.88329225],\n",
       "       [ 0.11666272,  0.88333728],\n",
       "       [ 0.49414238,  0.50585762],\n",
       "       [ 0.87280817,  0.12719183],\n",
       "       [ 0.87278078,  0.12721922],\n",
       "       [ 0.1166661 ,  0.8833339 ],\n",
       "       [ 0.11665623,  0.88334377],\n",
       "       [ 0.85876269,  0.14123731]])"
      ]
     },
     "execution_count": 24,
     "metadata": {},
     "output_type": "execute_result"
    }
   ],
   "source": [
    "# Get y_probabilities\n",
    "y_probas = svm_clf.predict_proba(X_train)\n",
    "y_probas[0:10]"
   ]
  },
  {
   "cell_type": "code",
   "execution_count": 25,
   "metadata": {},
   "outputs": [
    {
     "data": {
      "image/png": "[encoded data removed]",
      "text/plain": [
       "<Figure size 432x288 with 1 Axes>"
      ]
     },
     "metadata": {
      "needs_background": "light"
     },
     "output_type": "display_data"
    }
   ],
   "source": [
    "# https://github.com/reiinakano/scikit-plot/blob/master/examples/jupyter_notebooks/plot_roc_curve.ipynb\n",
    "scikitplot.metrics.plot_roc(y_train, y_probas, cmap='nipy_spectral')\n",
    "plt.show()"
   ]
  },
  {
   "cell_type": "code",
   "execution_count": 26,
   "metadata": {},
   "outputs": [
    {
     "data": {
      "text/plain": [
       "array([0, 0, 0, 1, 1, 0, 0, 0, 0, 0, 1, 0, 1, 1, 0, 1, 0, 0, 0, 1, 0, 0, 0,\n",
       "       0, 1, 1, 1, 1, 1, 0, 0, 0, 1, 0, 0, 1, 1, 0, 0, 1, 0, 1, 1, 0, 0, 0,\n",
       "       0, 1, 1, 0, 0, 0, 0, 0, 0, 0, 1, 1, 1, 1, 0, 1, 1, 1, 1, 1, 0])"
      ]
     },
     "execution_count": 26,
     "metadata": {},
     "output_type": "execute_result"
    }
   ],
   "source": [
    "#https://github.com/reiinakano/scikit-plot/blob/master/examples/jupyter_notebooks/plot_confusion_matrix.ipynb\n",
    "predictions = sklearn.model_selection.cross_val_predict(svm_clf, X_train, y_train,cv=3)\n",
    "predictions"
   ]
  },
  {
   "cell_type": "code",
   "execution_count": 27,
   "metadata": {},
   "outputs": [
    {
     "data": {
      "image/png": "[encoded data removed]",
      "text/plain": [
       "<Figure size 432x288 with 2 Axes>"
      ]
     },
     "metadata": {
      "needs_background": "light"
     },
     "output_type": "display_data"
    }
   ],
   "source": [
    "plot = scikitplot.metrics.plot_confusion_matrix(y_train, predictions, normalize=True)"
   ]
  },
  {
   "cell_type": "markdown",
   "metadata": {},
   "source": [
    "# Logistic regression"
   ]
  },
  {
   "cell_type": "code",
   "execution_count": 28,
   "metadata": {},
   "outputs": [
    {
     "name": "stderr",
     "output_type": "stream",
     "text": [
      "/opt/conda/lib/python3.6/site-packages/sklearn/linear_model/logistic.py:433: FutureWarning: Default solver will be changed to 'lbfgs' in 0.22. Specify a solver to silence this warning.\n",
      "  FutureWarning)\n"
     ]
    },
    {
     "data": {
      "text/plain": [
       "LogisticRegression(C=1.0, class_weight=None, dual=False, fit_intercept=True,\n",
       "          intercept_scaling=1, max_iter=100, multi_class='warn',\n",
       "          n_jobs=None, penalty='l2', random_state=None, solver='warn',\n",
       "          tol=0.0001, verbose=0, warm_start=False)"
      ]
     },
     "execution_count": 28,
     "metadata": {},
     "output_type": "execute_result"
    }
   ],
   "source": [
    "lr_clf = sklearn.linear_model.LogisticRegression()\n",
    "lr_clf.fit(X_test, y_test)"
   ]
  },
  {
   "cell_type": "code",
   "execution_count": 29,
   "metadata": {},
   "outputs": [
    {
     "data": {
      "text/plain": [
       "array([1, 1, 0, 1, 0, 0, 0, 0, 1, 0, 0, 1, 1, 0, 1, 0, 0, 1, 1, 1, 1, 1, 0,\n",
       "       1, 1, 0, 1, 1, 1, 1, 0, 1, 0])"
      ]
     },
     "execution_count": 29,
     "metadata": {},
     "output_type": "execute_result"
    }
   ],
   "source": [
    "y_pred = lr_clf.predict(X_test)\n",
    "y_pred"
   ]
  },
  {
   "cell_type": "code",
   "execution_count": 30,
   "metadata": {},
   "outputs": [
    {
     "data": {
      "text/plain": [
       "83    0\n",
       "53    1\n",
       "70    1\n",
       "45    0\n",
       "44    0\n",
       "39    1\n",
       "22    0\n",
       "80    0\n",
       "10    0\n",
       "0     1\n",
       "18    1\n",
       "30    1\n",
       "73    1\n",
       "33    0\n",
       "90    1\n",
       "4     0\n",
       "76    0\n",
       "77    0\n",
       "12    1\n",
       "31    0\n",
       "55    1\n",
       "88    1\n",
       "26    1\n",
       "42    0\n",
       "69    1\n",
       "15    0\n",
       "40    0\n",
       "96    1\n",
       "9     1\n",
       "72    1\n",
       "11    0\n",
       "47    0\n",
       "85    1\n",
       "Name: J, dtype: int64"
      ]
     },
     "execution_count": 30,
     "metadata": {},
     "output_type": "execute_result"
    }
   ],
   "source": [
    "y_test"
   ]
  },
  {
   "cell_type": "code",
   "execution_count": 31,
   "metadata": {},
   "outputs": [
    {
     "name": "stdout",
     "output_type": "stream",
     "text": [
      "score: 0.575757575758\n"
     ]
    }
   ],
   "source": [
    "print('score:', sklearn.metrics.accuracy_score(y_test,y_pred) )"
   ]
  },
  {
   "cell_type": "markdown",
   "metadata": {},
   "source": [
    "# K nearest neighbors\n",
    "\n",
    "https://scikit-learn.org/stable/modules/generated/sklearn.neighbors.KNeighborsClassifier.html"
   ]
  },
  {
   "cell_type": "code",
   "execution_count": 32,
   "metadata": {},
   "outputs": [
    {
     "data": {
      "text/plain": [
       "KNeighborsClassifier(algorithm='auto', leaf_size=30, metric='minkowski',\n",
       "           metric_params=None, n_jobs=None, n_neighbors=3, p=2,\n",
       "           weights='uniform')"
      ]
     },
     "execution_count": 32,
     "metadata": {},
     "output_type": "execute_result"
    }
   ],
   "source": [
    "neigh = sklearn.neighbors.KNeighborsClassifier(n_neighbors=3)\n",
    "neigh.fit(X_train, y_train) "
   ]
  },
  {
   "cell_type": "code",
   "execution_count": 33,
   "metadata": {},
   "outputs": [
    {
     "data": {
      "text/plain": [
       "array([1, 0, 0, 0, 1, 1, 0, 1, 1, 0, 1, 1, 1, 1, 0, 1, 0, 0, 1, 1, 0, 0, 1,\n",
       "       1, 0, 1, 1, 0, 0, 1, 1, 0, 0])"
      ]
     },
     "execution_count": 33,
     "metadata": {},
     "output_type": "execute_result"
    }
   ],
   "source": [
    "y_pred = neigh.predict(X_test)\n",
    "y_pred"
   ]
  },
  {
   "cell_type": "code",
   "execution_count": 34,
   "metadata": {},
   "outputs": [
    {
     "data": {
      "text/plain": [
       "83    0\n",
       "53    1\n",
       "70    1\n",
       "45    0\n",
       "44    0\n",
       "39    1\n",
       "22    0\n",
       "80    0\n",
       "10    0\n",
       "0     1\n",
       "18    1\n",
       "30    1\n",
       "73    1\n",
       "33    0\n",
       "90    1\n",
       "4     0\n",
       "76    0\n",
       "77    0\n",
       "12    1\n",
       "31    0\n",
       "55    1\n",
       "88    1\n",
       "26    1\n",
       "42    0\n",
       "69    1\n",
       "15    0\n",
       "40    0\n",
       "96    1\n",
       "9     1\n",
       "72    1\n",
       "11    0\n",
       "47    0\n",
       "85    1\n",
       "Name: J, dtype: int64"
      ]
     },
     "execution_count": 34,
     "metadata": {},
     "output_type": "execute_result"
    }
   ],
   "source": [
    "y_test"
   ]
  },
  {
   "cell_type": "markdown",
   "metadata": {},
   "source": [
    "# naive bayes\n",
    "\n",
    "https://scikit-learn.org/stable/modules/naive_bayes.html"
   ]
  },
  {
   "cell_type": "code",
   "execution_count": 35,
   "metadata": {},
   "outputs": [
    {
     "data": {
      "text/plain": [
       "array([0, 0, 0, 0, 0, 0, 0, 0, 1, 1, 1, 0, 1, 0, 1, 0, 1, 0, 1, 1, 1, 0, 1,\n",
       "       1, 0, 1, 0, 1, 0, 1, 1, 0, 0])"
      ]
     },
     "execution_count": 35,
     "metadata": {},
     "output_type": "execute_result"
    }
   ],
   "source": [
    "gnb = sklearn.naive_bayes.GaussianNB()\n",
    "y_pred = gnb.fit(X_train, y_train).predict(X_test)\n",
    "y_pred"
   ]
  },
  {
   "cell_type": "code",
   "execution_count": 36,
   "metadata": {},
   "outputs": [
    {
     "data": {
      "text/plain": [
       "83    0\n",
       "53    1\n",
       "70    1\n",
       "45    0\n",
       "44    0\n",
       "39    1\n",
       "22    0\n",
       "80    0\n",
       "10    0\n",
       "0     1\n",
       "18    1\n",
       "30    1\n",
       "73    1\n",
       "33    0\n",
       "90    1\n",
       "4     0\n",
       "76    0\n",
       "77    0\n",
       "12    1\n",
       "31    0\n",
       "55    1\n",
       "88    1\n",
       "26    1\n",
       "42    0\n",
       "69    1\n",
       "15    0\n",
       "40    0\n",
       "96    1\n",
       "9     1\n",
       "72    1\n",
       "11    0\n",
       "47    0\n",
       "85    1\n",
       "Name: J, dtype: int64"
      ]
     },
     "execution_count": 36,
     "metadata": {},
     "output_type": "execute_result"
    }
   ],
   "source": [
    "y_test"
   ]
  },
  {
   "cell_type": "code",
   "execution_count": 37,
   "metadata": {},
   "outputs": [
    {
     "name": "stdout",
     "output_type": "stream",
     "text": [
      "Accuracy: 0.575758\n"
     ]
    }
   ],
   "source": [
    "# https://scikit-learn.org/stable/modules/generated/sklearn.metrics.accuracy_score.html\n",
    "score = sklearn.metrics.accuracy_score(y_test,y_pred)\n",
    "print(\"Accuracy: %f\" % score)"
   ]
  },
  {
   "cell_type": "markdown",
   "metadata": {},
   "source": [
    "# Decision tree\n",
    "\n",
    "https://scikit-learn.org/stable/modules/tree.html"
   ]
  },
  {
   "cell_type": "code",
   "execution_count": 38,
   "metadata": {},
   "outputs": [],
   "source": [
    "dt_clf = sklearn.tree.DecisionTreeClassifier()\n",
    "dt_clf = dt_clf.fit(X_train, y_train)"
   ]
  },
  {
   "cell_type": "code",
   "execution_count": 39,
   "metadata": {},
   "outputs": [
    {
     "data": {
      "text/plain": [
       "array([1, 0, 0, 1, 1, 0, 0, 0, 1, 0, 1, 0, 1, 1, 0, 0, 0, 0, 1, 1, 1, 1, 0,\n",
       "       1, 0, 1, 1, 0, 0, 1, 1, 0, 1])"
      ]
     },
     "execution_count": 39,
     "metadata": {},
     "output_type": "execute_result"
    }
   ],
   "source": [
    "dt_clf.predict(X_test) # what should y_test be based on the X_test input?"
   ]
  },
  {
   "cell_type": "code",
   "execution_count": 40,
   "metadata": {},
   "outputs": [
    {
     "data": {
      "text/plain": [
       "83    0\n",
       "53    1\n",
       "70    1\n",
       "45    0\n",
       "44    0\n",
       "39    1\n",
       "22    0\n",
       "80    0\n",
       "10    0\n",
       "0     1\n",
       "18    1\n",
       "30    1\n",
       "73    1\n",
       "33    0\n",
       "90    1\n",
       "4     0\n",
       "76    0\n",
       "77    0\n",
       "12    1\n",
       "31    0\n",
       "55    1\n",
       "88    1\n",
       "26    1\n",
       "42    0\n",
       "69    1\n",
       "15    0\n",
       "40    0\n",
       "96    1\n",
       "9     1\n",
       "72    1\n",
       "11    0\n",
       "47    0\n",
       "85    1\n",
       "Name: J, dtype: int64"
      ]
     },
     "execution_count": 40,
     "metadata": {},
     "output_type": "execute_result"
    }
   ],
   "source": [
    "y_test # and what the actual values are for y_test"
   ]
  },
  {
   "cell_type": "code",
   "execution_count": 41,
   "metadata": {},
   "outputs": [],
   "source": [
    "dot_data = sklearn.tree.export_graphviz(dt_clf, out_file=None) \n",
    "graph = graphviz.Source(dot_data) \n",
    "#graph.render(\"iris\") # PDF"
   ]
  },
  {
   "cell_type": "code",
   "execution_count": 42,
   "metadata": {},
   "outputs": [
    {
     "data": {
      "image/svg+xml": [
       "<?xml version=\"1.0\" encoding=\"UTF-8\" standalone=\"no\"?>\n",
       "<!DOCTYPE svg PUBLIC \"-//W3C//DTD SVG 1.1//EN\"\n",
       " \"http://www.w3.org/Graphics/SVG/1.1/DTD/svg11.dtd\">\n",
       "<!-- Generated by graphviz version 2.38.0 (20140413.2041)\n",
       " -->\n",
       "<!-- Title: Tree Pages: 1 -->\n",
       "<svg width=\"1143pt\" height=\"961pt\"\n",
       " viewBox=\"0.00 0.00 1143.00 961.00\" xmlns=\"http://www.w3.org/2000/svg\" xmlns:xlink=\"http://www.w3.org/1999/xlink\">\n",
       "<g id=\"graph0\" class=\"graph\" transform=\"scale(1 1) rotate(0) translate(4 957)\">\n",
       "<title>Tree</title>\n",
       "<polygon fill=\"white\" stroke=\"none\" points=\"-4,4 -4,-957 1139,-957 1139,4 -4,4\"/>\n",
       "<!-- 0 -->\n",
       "<g id=\"node1\" class=\"node\"><title>0</title>\n",
       "<path fill=\"#399de5\" fill-opacity=\"0.031373\" stroke=\"black\" d=\"M318,-953C318,-953 210,-953 210,-953 204,-953 198,-947 198,-941 198,-941 198,-901 198,-901 198,-895 204,-889 210,-889 210,-889 318,-889 318,-889 324,-889 330,-895 330,-901 330,-901 330,-941 330,-941 330,-947 324,-953 318,-953\"/>\n",
       "<text text-anchor=\"start\" x=\"233\" y=\"-938.8\" font-family=\"Helvetica,sans-Serif\" font-size=\"14.00\">X</text>\n",
       "<text text-anchor=\"start\" x=\"243\" y=\"-938.8\" font-family=\"Helvetica,sans-Serif\" baseline-shift=\"sub\" font-size=\"14.00\">7</text>\n",
       "<text text-anchor=\"start\" x=\"251\" y=\"-938.8\" font-family=\"Helvetica,sans-Serif\" font-size=\"14.00\"> ≤ 1.5</text>\n",
       "<text text-anchor=\"start\" x=\"229\" y=\"-924.8\" font-family=\"Helvetica,sans-Serif\" font-size=\"14.00\">gini = 0.5</text>\n",
       "<text text-anchor=\"start\" x=\"214\" y=\"-910.8\" font-family=\"Helvetica,sans-Serif\" font-size=\"14.00\">samples = 67</text>\n",
       "<text text-anchor=\"start\" x=\"206\" y=\"-896.8\" font-family=\"Helvetica,sans-Serif\" font-size=\"14.00\">value = [33, 34]</text>\n",
       "</g>\n",
       "<!-- 1 -->\n",
       "<g id=\"node2\" class=\"node\"><title>1</title>\n",
       "<path fill=\"#399de5\" fill-opacity=\"0.909804\" stroke=\"black\" d=\"M240.5,-853C240.5,-853 141.5,-853 141.5,-853 135.5,-853 129.5,-847 129.5,-841 129.5,-841 129.5,-801 129.5,-801 129.5,-795 135.5,-789 141.5,-789 141.5,-789 240.5,-789 240.5,-789 246.5,-789 252.5,-795 252.5,-801 252.5,-801 252.5,-841 252.5,-841 252.5,-847 246.5,-853 240.5,-853\"/>\n",
       "<text text-anchor=\"start\" x=\"151\" y=\"-838.8\" font-family=\"Helvetica,sans-Serif\" font-size=\"14.00\">X</text>\n",
       "<text text-anchor=\"start\" x=\"161\" y=\"-838.8\" font-family=\"Helvetica,sans-Serif\" baseline-shift=\"sub\" font-size=\"14.00\">1</text>\n",
       "<text text-anchor=\"start\" x=\"169\" y=\"-838.8\" font-family=\"Helvetica,sans-Serif\" font-size=\"14.00\"> ≤ 0.163</text>\n",
       "<text text-anchor=\"start\" x=\"147\" y=\"-824.8\" font-family=\"Helvetica,sans-Serif\" font-size=\"14.00\">gini = 0.153</text>\n",
       "<text text-anchor=\"start\" x=\"141\" y=\"-810.8\" font-family=\"Helvetica,sans-Serif\" font-size=\"14.00\">samples = 12</text>\n",
       "<text text-anchor=\"start\" x=\"137.5\" y=\"-796.8\" font-family=\"Helvetica,sans-Serif\" font-size=\"14.00\">value = [1, 11]</text>\n",
       "</g>\n",
       "<!-- 0&#45;&gt;1 -->\n",
       "<g id=\"edge1\" class=\"edge\"><title>0&#45;&gt;1</title>\n",
       "<path fill=\"none\" stroke=\"black\" d=\"M240.902,-888.992C234.378,-880.234 227.191,-870.585 220.352,-861.404\"/>\n",
       "<polygon fill=\"black\" stroke=\"black\" points=\"222.979,-859.071 214.198,-853.142 217.365,-863.253 222.979,-859.071\"/>\n",
       "<text text-anchor=\"middle\" x=\"210.581\" y=\"-874.179\" font-family=\"Helvetica,sans-Serif\" font-size=\"14.00\">True</text>\n",
       "</g>\n",
       "<!-- 4 -->\n",
       "<g id=\"node5\" class=\"node\"><title>4</title>\n",
       "<path fill=\"#e58139\" fill-opacity=\"0.282353\" stroke=\"black\" d=\"M391,-853C391,-853 283,-853 283,-853 277,-853 271,-847 271,-841 271,-841 271,-801 271,-801 271,-795 277,-789 283,-789 283,-789 391,-789 391,-789 397,-789 403,-795 403,-801 403,-801 403,-841 403,-841 403,-847 397,-853 391,-853\"/>\n",
       "<text text-anchor=\"start\" x=\"297\" y=\"-838.8\" font-family=\"Helvetica,sans-Serif\" font-size=\"14.00\">X</text>\n",
       "<text text-anchor=\"start\" x=\"307\" y=\"-838.8\" font-family=\"Helvetica,sans-Serif\" baseline-shift=\"sub\" font-size=\"14.00\">2</text>\n",
       "<text text-anchor=\"start\" x=\"315\" y=\"-838.8\" font-family=\"Helvetica,sans-Serif\" font-size=\"14.00\"> ≤ 0.043</text>\n",
       "<text text-anchor=\"start\" x=\"293\" y=\"-824.8\" font-family=\"Helvetica,sans-Serif\" font-size=\"14.00\">gini = 0.487</text>\n",
       "<text text-anchor=\"start\" x=\"287\" y=\"-810.8\" font-family=\"Helvetica,sans-Serif\" font-size=\"14.00\">samples = 55</text>\n",
       "<text text-anchor=\"start\" x=\"279\" y=\"-796.8\" font-family=\"Helvetica,sans-Serif\" font-size=\"14.00\">value = [32, 23]</text>\n",
       "</g>\n",
       "<!-- 0&#45;&gt;4 -->\n",
       "<g id=\"edge4\" class=\"edge\"><title>0&#45;&gt;4</title>\n",
       "<path fill=\"none\" stroke=\"black\" d=\"M287.098,-888.992C293.622,-880.234 300.809,-870.585 307.648,-861.404\"/>\n",
       "<polygon fill=\"black\" stroke=\"black\" points=\"310.635,-863.253 313.802,-853.142 305.021,-859.071 310.635,-863.253\"/>\n",
       "<text text-anchor=\"middle\" x=\"317.419\" y=\"-874.179\" font-family=\"Helvetica,sans-Serif\" font-size=\"14.00\">False</text>\n",
       "</g>\n",
       "<!-- 2 -->\n",
       "<g id=\"node3\" class=\"node\"><title>2</title>\n",
       "<path fill=\"#e58139\" stroke=\"black\" d=\"M102,-747.5C102,-747.5 12,-747.5 12,-747.5 6,-747.5 0,-741.5 0,-735.5 0,-735.5 0,-706.5 0,-706.5 0,-700.5 6,-694.5 12,-694.5 12,-694.5 102,-694.5 102,-694.5 108,-694.5 114,-700.5 114,-706.5 114,-706.5 114,-735.5 114,-735.5 114,-741.5 108,-747.5 102,-747.5\"/>\n",
       "<text text-anchor=\"start\" x=\"22\" y=\"-732.3\" font-family=\"Helvetica,sans-Serif\" font-size=\"14.00\">gini = 0.0</text>\n",
       "<text text-anchor=\"start\" x=\"11.5\" y=\"-717.3\" font-family=\"Helvetica,sans-Serif\" font-size=\"14.00\">samples = 1</text>\n",
       "<text text-anchor=\"start\" x=\"8\" y=\"-702.3\" font-family=\"Helvetica,sans-Serif\" font-size=\"14.00\">value = [1, 0]</text>\n",
       "</g>\n",
       "<!-- 1&#45;&gt;2 -->\n",
       "<g id=\"edge2\" class=\"edge\"><title>1&#45;&gt;2</title>\n",
       "<path fill=\"none\" stroke=\"black\" d=\"M148.602,-788.992C133.204,-777.731 115.794,-764.998 100.318,-753.68\"/>\n",
       "<polygon fill=\"black\" stroke=\"black\" points=\"102.082,-750.635 91.9445,-747.556 97.9501,-756.285 102.082,-750.635\"/>\n",
       "</g>\n",
       "<!-- 3 -->\n",
       "<g id=\"node4\" class=\"node\"><title>3</title>\n",
       "<path fill=\"#399de5\" stroke=\"black\" d=\"M243.5,-747.5C243.5,-747.5 144.5,-747.5 144.5,-747.5 138.5,-747.5 132.5,-741.5 132.5,-735.5 132.5,-735.5 132.5,-706.5 132.5,-706.5 132.5,-700.5 138.5,-694.5 144.5,-694.5 144.5,-694.5 243.5,-694.5 243.5,-694.5 249.5,-694.5 255.5,-700.5 255.5,-706.5 255.5,-706.5 255.5,-735.5 255.5,-735.5 255.5,-741.5 249.5,-747.5 243.5,-747.5\"/>\n",
       "<text text-anchor=\"start\" x=\"159\" y=\"-732.3\" font-family=\"Helvetica,sans-Serif\" font-size=\"14.00\">gini = 0.0</text>\n",
       "<text text-anchor=\"start\" x=\"144\" y=\"-717.3\" font-family=\"Helvetica,sans-Serif\" font-size=\"14.00\">samples = 11</text>\n",
       "<text text-anchor=\"start\" x=\"140.5\" y=\"-702.3\" font-family=\"Helvetica,sans-Serif\" font-size=\"14.00\">value = [0, 11]</text>\n",
       "</g>\n",
       "<!-- 1&#45;&gt;3 -->\n",
       "<g id=\"edge3\" class=\"edge\"><title>1&#45;&gt;3</title>\n",
       "<path fill=\"none\" stroke=\"black\" d=\"M191.949,-788.992C192.252,-779.087 192.591,-768.042 192.903,-757.824\"/>\n",
       "<polygon fill=\"black\" stroke=\"black\" points=\"196.41,-757.659 193.218,-747.556 189.413,-757.445 196.41,-757.659\"/>\n",
       "</g>\n",
       "<!-- 5 -->\n",
       "<g id=\"node6\" class=\"node\"><title>5</title>\n",
       "<path fill=\"#399de5\" stroke=\"black\" d=\"M380,-747.5C380,-747.5 290,-747.5 290,-747.5 284,-747.5 278,-741.5 278,-735.5 278,-735.5 278,-706.5 278,-706.5 278,-700.5 284,-694.5 290,-694.5 290,-694.5 380,-694.5 380,-694.5 386,-694.5 392,-700.5 392,-706.5 392,-706.5 392,-735.5 392,-735.5 392,-741.5 386,-747.5 380,-747.5\"/>\n",
       "<text text-anchor=\"start\" x=\"300\" y=\"-732.3\" font-family=\"Helvetica,sans-Serif\" font-size=\"14.00\">gini = 0.0</text>\n",
       "<text text-anchor=\"start\" x=\"289.5\" y=\"-717.3\" font-family=\"Helvetica,sans-Serif\" font-size=\"14.00\">samples = 4</text>\n",
       "<text text-anchor=\"start\" x=\"286\" y=\"-702.3\" font-family=\"Helvetica,sans-Serif\" font-size=\"14.00\">value = [0, 4]</text>\n",
       "</g>\n",
       "<!-- 4&#45;&gt;5 -->\n",
       "<g id=\"edge5\" class=\"edge\"><title>4&#45;&gt;5</title>\n",
       "<path fill=\"none\" stroke=\"black\" d=\"M336.367,-788.992C336.165,-779.087 335.94,-768.042 335.731,-757.824\"/>\n",
       "<polygon fill=\"black\" stroke=\"black\" points=\"339.225,-757.483 335.522,-747.556 332.226,-757.626 339.225,-757.483\"/>\n",
       "</g>\n",
       "<!-- 6 -->\n",
       "<g id=\"node7\" class=\"node\"><title>6</title>\n",
       "<path fill=\"#e58139\" fill-opacity=\"0.407843\" stroke=\"black\" d=\"M530,-753C530,-753 422,-753 422,-753 416,-753 410,-747 410,-741 410,-741 410,-701 410,-701 410,-695 416,-689 422,-689 422,-689 530,-689 530,-689 536,-689 542,-695 542,-701 542,-701 542,-741 542,-741 542,-747 536,-753 530,-753\"/>\n",
       "<text text-anchor=\"start\" x=\"445\" y=\"-738.8\" font-family=\"Helvetica,sans-Serif\" font-size=\"14.00\">X</text>\n",
       "<text text-anchor=\"start\" x=\"455\" y=\"-738.8\" font-family=\"Helvetica,sans-Serif\" baseline-shift=\"sub\" font-size=\"14.00\">6</text>\n",
       "<text text-anchor=\"start\" x=\"463\" y=\"-738.8\" font-family=\"Helvetica,sans-Serif\" font-size=\"14.00\"> ≤ 1.5</text>\n",
       "<text text-anchor=\"start\" x=\"432\" y=\"-724.8\" font-family=\"Helvetica,sans-Serif\" font-size=\"14.00\">gini = 0.468</text>\n",
       "<text text-anchor=\"start\" x=\"426\" y=\"-710.8\" font-family=\"Helvetica,sans-Serif\" font-size=\"14.00\">samples = 51</text>\n",
       "<text text-anchor=\"start\" x=\"418\" y=\"-696.8\" font-family=\"Helvetica,sans-Serif\" font-size=\"14.00\">value = [32, 19]</text>\n",
       "</g>\n",
       "<!-- 4&#45;&gt;6 -->\n",
       "<g id=\"edge6\" class=\"edge\"><title>4&#45;&gt;6</title>\n",
       "<path fill=\"none\" stroke=\"black\" d=\"M380.98,-788.992C394.417,-779.519 409.332,-769.004 423.286,-759.165\"/>\n",
       "<polygon fill=\"black\" stroke=\"black\" points=\"425.672,-761.765 431.829,-753.142 421.639,-756.044 425.672,-761.765\"/>\n",
       "</g>\n",
       "<!-- 7 -->\n",
       "<g id=\"node8\" class=\"node\"><title>7</title>\n",
       "<path fill=\"#399de5\" fill-opacity=\"0.498039\" stroke=\"black\" d=\"M450,-653C450,-653 360,-653 360,-653 354,-653 348,-647 348,-641 348,-641 348,-601 348,-601 348,-595 354,-589 360,-589 360,-589 450,-589 450,-589 456,-589 462,-595 462,-601 462,-601 462,-641 462,-641 462,-647 456,-653 450,-653\"/>\n",
       "<text text-anchor=\"start\" x=\"374\" y=\"-638.8\" font-family=\"Helvetica,sans-Serif\" font-size=\"14.00\">X</text>\n",
       "<text text-anchor=\"start\" x=\"384\" y=\"-638.8\" font-family=\"Helvetica,sans-Serif\" baseline-shift=\"sub\" font-size=\"14.00\">5</text>\n",
       "<text text-anchor=\"start\" x=\"392\" y=\"-638.8\" font-family=\"Helvetica,sans-Serif\" font-size=\"14.00\"> ≤ 5.5</text>\n",
       "<text text-anchor=\"start\" x=\"361\" y=\"-624.8\" font-family=\"Helvetica,sans-Serif\" font-size=\"14.00\">gini = 0.444</text>\n",
       "<text text-anchor=\"start\" x=\"359.5\" y=\"-610.8\" font-family=\"Helvetica,sans-Serif\" font-size=\"14.00\">samples = 9</text>\n",
       "<text text-anchor=\"start\" x=\"356\" y=\"-596.8\" font-family=\"Helvetica,sans-Serif\" font-size=\"14.00\">value = [3, 6]</text>\n",
       "</g>\n",
       "<!-- 6&#45;&gt;7 -->\n",
       "<g id=\"edge7\" class=\"edge\"><title>6&#45;&gt;7</title>\n",
       "<path fill=\"none\" stroke=\"black\" d=\"M453.535,-688.992C447.19,-680.234 440.199,-670.585 433.548,-661.404\"/>\n",
       "<polygon fill=\"black\" stroke=\"black\" points=\"436.264,-659.187 427.562,-653.142 430.595,-663.294 436.264,-659.187\"/>\n",
       "</g>\n",
       "<!-- 12 -->\n",
       "<g id=\"node13\" class=\"node\"><title>12</title>\n",
       "<path fill=\"#e58139\" fill-opacity=\"0.552941\" stroke=\"black\" d=\"M600,-653C600,-653 492,-653 492,-653 486,-653 480,-647 480,-641 480,-641 480,-601 480,-601 480,-595 486,-589 492,-589 492,-589 600,-589 600,-589 606,-589 612,-595 612,-601 612,-601 612,-641 612,-641 612,-647 606,-653 600,-653\"/>\n",
       "<text text-anchor=\"start\" x=\"510.5\" y=\"-638.8\" font-family=\"Helvetica,sans-Serif\" font-size=\"14.00\">X</text>\n",
       "<text text-anchor=\"start\" x=\"520.5\" y=\"-638.8\" font-family=\"Helvetica,sans-Serif\" baseline-shift=\"sub\" font-size=\"14.00\">2</text>\n",
       "<text text-anchor=\"start\" x=\"528.5\" y=\"-638.8\" font-family=\"Helvetica,sans-Serif\" font-size=\"14.00\"> ≤ 1.12</text>\n",
       "<text text-anchor=\"start\" x=\"502\" y=\"-624.8\" font-family=\"Helvetica,sans-Serif\" font-size=\"14.00\">gini = 0.427</text>\n",
       "<text text-anchor=\"start\" x=\"496\" y=\"-610.8\" font-family=\"Helvetica,sans-Serif\" font-size=\"14.00\">samples = 42</text>\n",
       "<text text-anchor=\"start\" x=\"488\" y=\"-596.8\" font-family=\"Helvetica,sans-Serif\" font-size=\"14.00\">value = [29, 13]</text>\n",
       "</g>\n",
       "<!-- 6&#45;&gt;12 -->\n",
       "<g id=\"edge12\" class=\"edge\"><title>6&#45;&gt;12</title>\n",
       "<path fill=\"none\" stroke=\"black\" d=\"M498.148,-688.992C504.404,-680.234 511.297,-670.585 517.855,-661.404\"/>\n",
       "<polygon fill=\"black\" stroke=\"black\" points=\"520.791,-663.314 523.755,-653.142 515.095,-659.245 520.791,-663.314\"/>\n",
       "</g>\n",
       "<!-- 8 -->\n",
       "<g id=\"node9\" class=\"node\"><title>8</title>\n",
       "<path fill=\"#399de5\" fill-opacity=\"0.831373\" stroke=\"black\" d=\"M319,-553C319,-553 229,-553 229,-553 223,-553 217,-547 217,-541 217,-541 217,-501 217,-501 217,-495 223,-489 229,-489 229,-489 319,-489 319,-489 325,-489 331,-495 331,-501 331,-501 331,-541 331,-541 331,-547 325,-553 319,-553\"/>\n",
       "<text text-anchor=\"start\" x=\"234\" y=\"-538.8\" font-family=\"Helvetica,sans-Serif\" font-size=\"14.00\">X</text>\n",
       "<text text-anchor=\"start\" x=\"244\" y=\"-538.8\" font-family=\"Helvetica,sans-Serif\" baseline-shift=\"sub\" font-size=\"14.00\">1</text>\n",
       "<text text-anchor=\"start\" x=\"252\" y=\"-538.8\" font-family=\"Helvetica,sans-Serif\" font-size=\"14.00\"> ≤ 1.038</text>\n",
       "<text text-anchor=\"start\" x=\"230\" y=\"-524.8\" font-family=\"Helvetica,sans-Serif\" font-size=\"14.00\">gini = 0.245</text>\n",
       "<text text-anchor=\"start\" x=\"228.5\" y=\"-510.8\" font-family=\"Helvetica,sans-Serif\" font-size=\"14.00\">samples = 7</text>\n",
       "<text text-anchor=\"start\" x=\"225\" y=\"-496.8\" font-family=\"Helvetica,sans-Serif\" font-size=\"14.00\">value = [1, 6]</text>\n",
       "</g>\n",
       "<!-- 7&#45;&gt;8 -->\n",
       "<g id=\"edge8\" class=\"edge\"><title>7&#45;&gt;8</title>\n",
       "<path fill=\"none\" stroke=\"black\" d=\"M363.551,-588.992C350.887,-579.519 336.831,-569.004 323.68,-559.165\"/>\n",
       "<polygon fill=\"black\" stroke=\"black\" points=\"325.733,-556.33 315.629,-553.142 321.54,-561.935 325.733,-556.33\"/>\n",
       "</g>\n",
       "<!-- 11 -->\n",
       "<g id=\"node12\" class=\"node\"><title>11</title>\n",
       "<path fill=\"#e58139\" stroke=\"black\" d=\"M451,-547.5C451,-547.5 361,-547.5 361,-547.5 355,-547.5 349,-541.5 349,-535.5 349,-535.5 349,-506.5 349,-506.5 349,-500.5 355,-494.5 361,-494.5 361,-494.5 451,-494.5 451,-494.5 457,-494.5 463,-500.5 463,-506.5 463,-506.5 463,-535.5 463,-535.5 463,-541.5 457,-547.5 451,-547.5\"/>\n",
       "<text text-anchor=\"start\" x=\"371\" y=\"-532.3\" font-family=\"Helvetica,sans-Serif\" font-size=\"14.00\">gini = 0.0</text>\n",
       "<text text-anchor=\"start\" x=\"360.5\" y=\"-517.3\" font-family=\"Helvetica,sans-Serif\" font-size=\"14.00\">samples = 2</text>\n",
       "<text text-anchor=\"start\" x=\"357\" y=\"-502.3\" font-family=\"Helvetica,sans-Serif\" font-size=\"14.00\">value = [2, 0]</text>\n",
       "</g>\n",
       "<!-- 7&#45;&gt;11 -->\n",
       "<g id=\"edge11\" class=\"edge\"><title>7&#45;&gt;11</title>\n",
       "<path fill=\"none\" stroke=\"black\" d=\"M405.316,-588.992C405.417,-579.087 405.53,-568.042 405.634,-557.824\"/>\n",
       "<polygon fill=\"black\" stroke=\"black\" points=\"409.137,-557.592 405.739,-547.556 402.137,-557.52 409.137,-557.592\"/>\n",
       "</g>\n",
       "<!-- 9 -->\n",
       "<g id=\"node10\" class=\"node\"><title>9</title>\n",
       "<path fill=\"#399de5\" stroke=\"black\" d=\"M189,-447.5C189,-447.5 99,-447.5 99,-447.5 93,-447.5 87,-441.5 87,-435.5 87,-435.5 87,-406.5 87,-406.5 87,-400.5 93,-394.5 99,-394.5 99,-394.5 189,-394.5 189,-394.5 195,-394.5 201,-400.5 201,-406.5 201,-406.5 201,-435.5 201,-435.5 201,-441.5 195,-447.5 189,-447.5\"/>\n",
       "<text text-anchor=\"start\" x=\"109\" y=\"-432.3\" font-family=\"Helvetica,sans-Serif\" font-size=\"14.00\">gini = 0.0</text>\n",
       "<text text-anchor=\"start\" x=\"98.5\" y=\"-417.3\" font-family=\"Helvetica,sans-Serif\" font-size=\"14.00\">samples = 6</text>\n",
       "<text text-anchor=\"start\" x=\"95\" y=\"-402.3\" font-family=\"Helvetica,sans-Serif\" font-size=\"14.00\">value = [0, 6]</text>\n",
       "</g>\n",
       "<!-- 8&#45;&gt;9 -->\n",
       "<g id=\"edge9\" class=\"edge\"><title>8&#45;&gt;9</title>\n",
       "<path fill=\"none\" stroke=\"black\" d=\"M232.867,-488.992C217.929,-477.731 201.039,-464.998 186.025,-453.68\"/>\n",
       "<polygon fill=\"black\" stroke=\"black\" points=\"187.993,-450.781 177.901,-447.556 183.78,-456.371 187.993,-450.781\"/>\n",
       "</g>\n",
       "<!-- 10 -->\n",
       "<g id=\"node11\" class=\"node\"><title>10</title>\n",
       "<path fill=\"#e58139\" stroke=\"black\" d=\"M321,-447.5C321,-447.5 231,-447.5 231,-447.5 225,-447.5 219,-441.5 219,-435.5 219,-435.5 219,-406.5 219,-406.5 219,-400.5 225,-394.5 231,-394.5 231,-394.5 321,-394.5 321,-394.5 327,-394.5 333,-400.5 333,-406.5 333,-406.5 333,-435.5 333,-435.5 333,-441.5 327,-447.5 321,-447.5\"/>\n",
       "<text text-anchor=\"start\" x=\"241\" y=\"-432.3\" font-family=\"Helvetica,sans-Serif\" font-size=\"14.00\">gini = 0.0</text>\n",
       "<text text-anchor=\"start\" x=\"230.5\" y=\"-417.3\" font-family=\"Helvetica,sans-Serif\" font-size=\"14.00\">samples = 1</text>\n",
       "<text text-anchor=\"start\" x=\"227\" y=\"-402.3\" font-family=\"Helvetica,sans-Serif\" font-size=\"14.00\">value = [1, 0]</text>\n",
       "</g>\n",
       "<!-- 8&#45;&gt;10 -->\n",
       "<g id=\"edge10\" class=\"edge\"><title>8&#45;&gt;10</title>\n",
       "<path fill=\"none\" stroke=\"black\" d=\"M274.633,-488.992C274.835,-479.087 275.06,-468.042 275.269,-457.824\"/>\n",
       "<polygon fill=\"black\" stroke=\"black\" points=\"278.774,-457.626 275.478,-447.556 271.775,-457.483 278.774,-457.626\"/>\n",
       "</g>\n",
       "<!-- 13 -->\n",
       "<g id=\"node14\" class=\"node\"><title>13</title>\n",
       "<path fill=\"#e58139\" fill-opacity=\"0.694118\" stroke=\"black\" d=\"M595.5,-553C595.5,-553 496.5,-553 496.5,-553 490.5,-553 484.5,-547 484.5,-541 484.5,-541 484.5,-501 484.5,-501 484.5,-495 490.5,-489 496.5,-489 496.5,-489 595.5,-489 595.5,-489 601.5,-489 607.5,-495 607.5,-501 607.5,-501 607.5,-541 607.5,-541 607.5,-547 601.5,-553 595.5,-553\"/>\n",
       "<text text-anchor=\"start\" x=\"515\" y=\"-538.8\" font-family=\"Helvetica,sans-Serif\" font-size=\"14.00\">X</text>\n",
       "<text text-anchor=\"start\" x=\"525\" y=\"-538.8\" font-family=\"Helvetica,sans-Serif\" baseline-shift=\"sub\" font-size=\"14.00\">4</text>\n",
       "<text text-anchor=\"start\" x=\"533\" y=\"-538.8\" font-family=\"Helvetica,sans-Serif\" font-size=\"14.00\"> ≤ 1.5</text>\n",
       "<text text-anchor=\"start\" x=\"502\" y=\"-524.8\" font-family=\"Helvetica,sans-Serif\" font-size=\"14.00\">gini = 0.358</text>\n",
       "<text text-anchor=\"start\" x=\"496\" y=\"-510.8\" font-family=\"Helvetica,sans-Serif\" font-size=\"14.00\">samples = 30</text>\n",
       "<text text-anchor=\"start\" x=\"492.5\" y=\"-496.8\" font-family=\"Helvetica,sans-Serif\" font-size=\"14.00\">value = [23, 7]</text>\n",
       "</g>\n",
       "<!-- 12&#45;&gt;13 -->\n",
       "<g id=\"edge13\" class=\"edge\"><title>12&#45;&gt;13</title>\n",
       "<path fill=\"none\" stroke=\"black\" d=\"M546,-588.992C546,-580.859 546,-571.959 546,-563.378\"/>\n",
       "<polygon fill=\"black\" stroke=\"black\" points=\"549.5,-563.142 546,-553.142 542.5,-563.142 549.5,-563.142\"/>\n",
       "</g>\n",
       "<!-- 30 -->\n",
       "<g id=\"node31\" class=\"node\"><title>30</title>\n",
       "<path fill=\"none\" stroke=\"black\" d=\"M992,-553C992,-553 900,-553 900,-553 894,-553 888,-547 888,-541 888,-541 888,-501 888,-501 888,-495 894,-489 900,-489 900,-489 992,-489 992,-489 998,-489 1004,-495 1004,-501 1004,-501 1004,-541 1004,-541 1004,-547 998,-553 992,-553\"/>\n",
       "<text text-anchor=\"start\" x=\"915\" y=\"-538.8\" font-family=\"Helvetica,sans-Serif\" font-size=\"14.00\">X</text>\n",
       "<text text-anchor=\"start\" x=\"925\" y=\"-538.8\" font-family=\"Helvetica,sans-Serif\" baseline-shift=\"sub\" font-size=\"14.00\">4</text>\n",
       "<text text-anchor=\"start\" x=\"933\" y=\"-538.8\" font-family=\"Helvetica,sans-Serif\" font-size=\"14.00\"> ≤ 7.0</text>\n",
       "<text text-anchor=\"start\" x=\"911\" y=\"-524.8\" font-family=\"Helvetica,sans-Serif\" font-size=\"14.00\">gini = 0.5</text>\n",
       "<text text-anchor=\"start\" x=\"896\" y=\"-510.8\" font-family=\"Helvetica,sans-Serif\" font-size=\"14.00\">samples = 12</text>\n",
       "<text text-anchor=\"start\" x=\"897\" y=\"-496.8\" font-family=\"Helvetica,sans-Serif\" font-size=\"14.00\">value = [6, 6]</text>\n",
       "</g>\n",
       "<!-- 12&#45;&gt;30 -->\n",
       "<g id=\"edge30\" class=\"edge\"><title>12&#45;&gt;30</title>\n",
       "<path fill=\"none\" stroke=\"black\" d=\"M612.052,-603.817C685.635,-585.789 803.989,-556.793 878.252,-538.598\"/>\n",
       "<polygon fill=\"black\" stroke=\"black\" points=\"879.1,-541.994 887.98,-536.215 877.435,-535.195 879.1,-541.994\"/>\n",
       "</g>\n",
       "<!-- 14 -->\n",
       "<g id=\"node15\" class=\"node\"><title>14</title>\n",
       "<path fill=\"#399de5\" fill-opacity=\"0.498039\" stroke=\"black\" d=\"M453,-453C453,-453 363,-453 363,-453 357,-453 351,-447 351,-441 351,-441 351,-401 351,-401 351,-395 357,-389 363,-389 363,-389 453,-389 453,-389 459,-389 465,-395 465,-401 465,-401 465,-441 465,-441 465,-447 459,-453 453,-453\"/>\n",
       "<text text-anchor=\"start\" x=\"377\" y=\"-438.8\" font-family=\"Helvetica,sans-Serif\" font-size=\"14.00\">X</text>\n",
       "<text text-anchor=\"start\" x=\"387\" y=\"-438.8\" font-family=\"Helvetica,sans-Serif\" baseline-shift=\"sub\" font-size=\"14.00\">5</text>\n",
       "<text text-anchor=\"start\" x=\"395\" y=\"-438.8\" font-family=\"Helvetica,sans-Serif\" font-size=\"14.00\"> ≤ 4.0</text>\n",
       "<text text-anchor=\"start\" x=\"364\" y=\"-424.8\" font-family=\"Helvetica,sans-Serif\" font-size=\"14.00\">gini = 0.444</text>\n",
       "<text text-anchor=\"start\" x=\"362.5\" y=\"-410.8\" font-family=\"Helvetica,sans-Serif\" font-size=\"14.00\">samples = 3</text>\n",
       "<text text-anchor=\"start\" x=\"359\" y=\"-396.8\" font-family=\"Helvetica,sans-Serif\" font-size=\"14.00\">value = [1, 2]</text>\n",
       "</g>\n",
       "<!-- 13&#45;&gt;14 -->\n",
       "<g id=\"edge14\" class=\"edge\"><title>13&#45;&gt;14</title>\n",
       "<path fill=\"none\" stroke=\"black\" d=\"M502.336,-488.992C488.996,-479.519 474.189,-469.004 460.335,-459.165\"/>\n",
       "<polygon fill=\"black\" stroke=\"black\" points=\"462.033,-456.079 451.854,-453.142 457.98,-461.786 462.033,-456.079\"/>\n",
       "</g>\n",
       "<!-- 17 -->\n",
       "<g id=\"node18\" class=\"node\"><title>17</title>\n",
       "<path fill=\"#e58139\" fill-opacity=\"0.772549\" stroke=\"black\" d=\"M595.5,-453C595.5,-453 496.5,-453 496.5,-453 490.5,-453 484.5,-447 484.5,-441 484.5,-441 484.5,-401 484.5,-401 484.5,-395 490.5,-389 496.5,-389 496.5,-389 595.5,-389 595.5,-389 601.5,-389 607.5,-395 607.5,-401 607.5,-401 607.5,-441 607.5,-441 607.5,-447 601.5,-453 595.5,-453\"/>\n",
       "<text text-anchor=\"start\" x=\"515\" y=\"-438.8\" font-family=\"Helvetica,sans-Serif\" font-size=\"14.00\">X</text>\n",
       "<text text-anchor=\"start\" x=\"525\" y=\"-438.8\" font-family=\"Helvetica,sans-Serif\" baseline-shift=\"sub\" font-size=\"14.00\">7</text>\n",
       "<text text-anchor=\"start\" x=\"533\" y=\"-438.8\" font-family=\"Helvetica,sans-Serif\" font-size=\"14.00\"> ≤ 8.5</text>\n",
       "<text text-anchor=\"start\" x=\"502\" y=\"-424.8\" font-family=\"Helvetica,sans-Serif\" font-size=\"14.00\">gini = 0.302</text>\n",
       "<text text-anchor=\"start\" x=\"496\" y=\"-410.8\" font-family=\"Helvetica,sans-Serif\" font-size=\"14.00\">samples = 27</text>\n",
       "<text text-anchor=\"start\" x=\"492.5\" y=\"-396.8\" font-family=\"Helvetica,sans-Serif\" font-size=\"14.00\">value = [22, 5]</text>\n",
       "</g>\n",
       "<!-- 13&#45;&gt;17 -->\n",
       "<g id=\"edge17\" class=\"edge\"><title>13&#45;&gt;17</title>\n",
       "<path fill=\"none\" stroke=\"black\" d=\"M546,-488.992C546,-480.859 546,-471.959 546,-463.378\"/>\n",
       "<polygon fill=\"black\" stroke=\"black\" points=\"549.5,-463.142 546,-453.142 542.5,-463.142 549.5,-463.142\"/>\n",
       "</g>\n",
       "<!-- 15 -->\n",
       "<g id=\"node16\" class=\"node\"><title>15</title>\n",
       "<path fill=\"#399de5\" stroke=\"black\" d=\"M321,-347.5C321,-347.5 231,-347.5 231,-347.5 225,-347.5 219,-341.5 219,-335.5 219,-335.5 219,-306.5 219,-306.5 219,-300.5 225,-294.5 231,-294.5 231,-294.5 321,-294.5 321,-294.5 327,-294.5 333,-300.5 333,-306.5 333,-306.5 333,-335.5 333,-335.5 333,-341.5 327,-347.5 321,-347.5\"/>\n",
       "<text text-anchor=\"start\" x=\"241\" y=\"-332.3\" font-family=\"Helvetica,sans-Serif\" font-size=\"14.00\">gini = 0.0</text>\n",
       "<text text-anchor=\"start\" x=\"230.5\" y=\"-317.3\" font-family=\"Helvetica,sans-Serif\" font-size=\"14.00\">samples = 2</text>\n",
       "<text text-anchor=\"start\" x=\"227\" y=\"-302.3\" font-family=\"Helvetica,sans-Serif\" font-size=\"14.00\">value = [0, 2]</text>\n",
       "</g>\n",
       "<!-- 14&#45;&gt;15 -->\n",
       "<g id=\"edge15\" class=\"edge\"><title>14&#45;&gt;15</title>\n",
       "<path fill=\"none\" stroke=\"black\" d=\"M366.234,-388.992C351.067,-377.731 333.916,-364.998 318.671,-353.68\"/>\n",
       "<polygon fill=\"black\" stroke=\"black\" points=\"320.538,-350.707 310.423,-347.556 316.366,-356.328 320.538,-350.707\"/>\n",
       "</g>\n",
       "<!-- 16 -->\n",
       "<g id=\"node17\" class=\"node\"><title>16</title>\n",
       "<path fill=\"#e58139\" stroke=\"black\" d=\"M453,-347.5C453,-347.5 363,-347.5 363,-347.5 357,-347.5 351,-341.5 351,-335.5 351,-335.5 351,-306.5 351,-306.5 351,-300.5 357,-294.5 363,-294.5 363,-294.5 453,-294.5 453,-294.5 459,-294.5 465,-300.5 465,-306.5 465,-306.5 465,-335.5 465,-335.5 465,-341.5 459,-347.5 453,-347.5\"/>\n",
       "<text text-anchor=\"start\" x=\"373\" y=\"-332.3\" font-family=\"Helvetica,sans-Serif\" font-size=\"14.00\">gini = 0.0</text>\n",
       "<text text-anchor=\"start\" x=\"362.5\" y=\"-317.3\" font-family=\"Helvetica,sans-Serif\" font-size=\"14.00\">samples = 1</text>\n",
       "<text text-anchor=\"start\" x=\"359\" y=\"-302.3\" font-family=\"Helvetica,sans-Serif\" font-size=\"14.00\">value = [1, 0]</text>\n",
       "</g>\n",
       "<!-- 14&#45;&gt;16 -->\n",
       "<g id=\"edge16\" class=\"edge\"><title>14&#45;&gt;16</title>\n",
       "<path fill=\"none\" stroke=\"black\" d=\"M408,-388.992C408,-379.087 408,-368.042 408,-357.824\"/>\n",
       "<polygon fill=\"black\" stroke=\"black\" points=\"411.5,-357.556 408,-347.556 404.5,-357.556 411.5,-357.556\"/>\n",
       "</g>\n",
       "<!-- 18 -->\n",
       "<g id=\"node19\" class=\"node\"><title>18</title>\n",
       "<path fill=\"#e58139\" fill-opacity=\"0.858824\" stroke=\"black\" d=\"M594.5,-353C594.5,-353 495.5,-353 495.5,-353 489.5,-353 483.5,-347 483.5,-341 483.5,-341 483.5,-301 483.5,-301 483.5,-295 489.5,-289 495.5,-289 495.5,-289 594.5,-289 594.5,-289 600.5,-289 606.5,-295 606.5,-301 606.5,-301 606.5,-341 606.5,-341 606.5,-347 600.5,-353 594.5,-353\"/>\n",
       "<text text-anchor=\"start\" x=\"505\" y=\"-338.8\" font-family=\"Helvetica,sans-Serif\" font-size=\"14.00\">X</text>\n",
       "<text text-anchor=\"start\" x=\"515\" y=\"-338.8\" font-family=\"Helvetica,sans-Serif\" baseline-shift=\"sub\" font-size=\"14.00\">1</text>\n",
       "<text text-anchor=\"start\" x=\"523\" y=\"-338.8\" font-family=\"Helvetica,sans-Serif\" font-size=\"14.00\"> ≤ 0.031</text>\n",
       "<text text-anchor=\"start\" x=\"501\" y=\"-324.8\" font-family=\"Helvetica,sans-Serif\" font-size=\"14.00\">gini = 0.219</text>\n",
       "<text text-anchor=\"start\" x=\"495\" y=\"-310.8\" font-family=\"Helvetica,sans-Serif\" font-size=\"14.00\">samples = 24</text>\n",
       "<text text-anchor=\"start\" x=\"491.5\" y=\"-296.8\" font-family=\"Helvetica,sans-Serif\" font-size=\"14.00\">value = [21, 3]</text>\n",
       "</g>\n",
       "<!-- 17&#45;&gt;18 -->\n",
       "<g id=\"edge18\" class=\"edge\"><title>17&#45;&gt;18</title>\n",
       "<path fill=\"none\" stroke=\"black\" d=\"M545.684,-388.992C545.601,-380.859 545.51,-371.959 545.422,-363.378\"/>\n",
       "<polygon fill=\"black\" stroke=\"black\" points=\"548.92,-363.106 545.318,-353.142 541.92,-363.178 548.92,-363.106\"/>\n",
       "</g>\n",
       "<!-- 27 -->\n",
       "<g id=\"node28\" class=\"node\"><title>27</title>\n",
       "<path fill=\"#399de5\" fill-opacity=\"0.498039\" stroke=\"black\" d=\"M727,-353C727,-353 637,-353 637,-353 631,-353 625,-347 625,-341 625,-341 625,-301 625,-301 625,-295 631,-289 637,-289 637,-289 727,-289 727,-289 733,-289 739,-295 739,-301 739,-301 739,-341 739,-341 739,-347 733,-353 727,-353\"/>\n",
       "<text text-anchor=\"start\" x=\"651\" y=\"-338.8\" font-family=\"Helvetica,sans-Serif\" font-size=\"14.00\">X</text>\n",
       "<text text-anchor=\"start\" x=\"661\" y=\"-338.8\" font-family=\"Helvetica,sans-Serif\" baseline-shift=\"sub\" font-size=\"14.00\">6</text>\n",
       "<text text-anchor=\"start\" x=\"669\" y=\"-338.8\" font-family=\"Helvetica,sans-Serif\" font-size=\"14.00\"> ≤ 4.0</text>\n",
       "<text text-anchor=\"start\" x=\"638\" y=\"-324.8\" font-family=\"Helvetica,sans-Serif\" font-size=\"14.00\">gini = 0.444</text>\n",
       "<text text-anchor=\"start\" x=\"636.5\" y=\"-310.8\" font-family=\"Helvetica,sans-Serif\" font-size=\"14.00\">samples = 3</text>\n",
       "<text text-anchor=\"start\" x=\"633\" y=\"-296.8\" font-family=\"Helvetica,sans-Serif\" font-size=\"14.00\">value = [1, 2]</text>\n",
       "</g>\n",
       "<!-- 17&#45;&gt;27 -->\n",
       "<g id=\"edge27\" class=\"edge\"><title>17&#45;&gt;27</title>\n",
       "<path fill=\"none\" stroke=\"black\" d=\"M589.031,-388.992C602.178,-379.519 616.771,-369.004 630.424,-359.165\"/>\n",
       "<polygon fill=\"black\" stroke=\"black\" points=\"632.715,-361.828 638.782,-353.142 628.623,-356.149 632.715,-361.828\"/>\n",
       "</g>\n",
       "<!-- 19 -->\n",
       "<g id=\"node20\" class=\"node\"><title>19</title>\n",
       "<path fill=\"#399de5\" stroke=\"black\" d=\"M453,-247.5C453,-247.5 363,-247.5 363,-247.5 357,-247.5 351,-241.5 351,-235.5 351,-235.5 351,-206.5 351,-206.5 351,-200.5 357,-194.5 363,-194.5 363,-194.5 453,-194.5 453,-194.5 459,-194.5 465,-200.5 465,-206.5 465,-206.5 465,-235.5 465,-235.5 465,-241.5 459,-247.5 453,-247.5\"/>\n",
       "<text text-anchor=\"start\" x=\"373\" y=\"-232.3\" font-family=\"Helvetica,sans-Serif\" font-size=\"14.00\">gini = 0.0</text>\n",
       "<text text-anchor=\"start\" x=\"362.5\" y=\"-217.3\" font-family=\"Helvetica,sans-Serif\" font-size=\"14.00\">samples = 1</text>\n",
       "<text text-anchor=\"start\" x=\"359\" y=\"-202.3\" font-family=\"Helvetica,sans-Serif\" font-size=\"14.00\">value = [0, 1]</text>\n",
       "</g>\n",
       "<!-- 18&#45;&gt;19 -->\n",
       "<g id=\"edge19\" class=\"edge\"><title>18&#45;&gt;19</title>\n",
       "<path fill=\"none\" stroke=\"black\" d=\"M501.652,-288.992C485.91,-277.731 468.11,-264.998 452.288,-253.68\"/>\n",
       "<polygon fill=\"black\" stroke=\"black\" points=\"453.896,-250.528 443.727,-247.556 449.824,-256.221 453.896,-250.528\"/>\n",
       "</g>\n",
       "<!-- 20 -->\n",
       "<g id=\"node21\" class=\"node\"><title>20</title>\n",
       "<path fill=\"#e58139\" fill-opacity=\"0.905882\" stroke=\"black\" d=\"M594.5,-253C594.5,-253 495.5,-253 495.5,-253 489.5,-253 483.5,-247 483.5,-241 483.5,-241 483.5,-201 483.5,-201 483.5,-195 489.5,-189 495.5,-189 495.5,-189 594.5,-189 594.5,-189 600.5,-189 606.5,-195 606.5,-201 606.5,-201 606.5,-241 606.5,-241 606.5,-247 600.5,-253 594.5,-253\"/>\n",
       "<text text-anchor=\"start\" x=\"505\" y=\"-238.8\" font-family=\"Helvetica,sans-Serif\" font-size=\"14.00\">X</text>\n",
       "<text text-anchor=\"start\" x=\"515\" y=\"-238.8\" font-family=\"Helvetica,sans-Serif\" baseline-shift=\"sub\" font-size=\"14.00\">2</text>\n",
       "<text text-anchor=\"start\" x=\"523\" y=\"-238.8\" font-family=\"Helvetica,sans-Serif\" font-size=\"14.00\"> ≤ 0.057</text>\n",
       "<text text-anchor=\"start\" x=\"501\" y=\"-224.8\" font-family=\"Helvetica,sans-Serif\" font-size=\"14.00\">gini = 0.159</text>\n",
       "<text text-anchor=\"start\" x=\"495\" y=\"-210.8\" font-family=\"Helvetica,sans-Serif\" font-size=\"14.00\">samples = 23</text>\n",
       "<text text-anchor=\"start\" x=\"491.5\" y=\"-196.8\" font-family=\"Helvetica,sans-Serif\" font-size=\"14.00\">value = [21, 2]</text>\n",
       "</g>\n",
       "<!-- 18&#45;&gt;20 -->\n",
       "<g id=\"edge20\" class=\"edge\"><title>18&#45;&gt;20</title>\n",
       "<path fill=\"none\" stroke=\"black\" d=\"M545,-288.992C545,-280.859 545,-271.959 545,-263.378\"/>\n",
       "<polygon fill=\"black\" stroke=\"black\" points=\"548.5,-263.142 545,-253.142 541.5,-263.142 548.5,-263.142\"/>\n",
       "</g>\n",
       "<!-- 21 -->\n",
       "<g id=\"node22\" class=\"node\"><title>21</title>\n",
       "<path fill=\"none\" stroke=\"black\" d=\"M521,-153C521,-153 431,-153 431,-153 425,-153 419,-147 419,-141 419,-141 419,-101 419,-101 419,-95 425,-89 431,-89 431,-89 521,-89 521,-89 527,-89 533,-95 533,-101 533,-101 533,-141 533,-141 533,-147 527,-153 521,-153\"/>\n",
       "<text text-anchor=\"start\" x=\"445\" y=\"-138.8\" font-family=\"Helvetica,sans-Serif\" font-size=\"14.00\">X</text>\n",
       "<text text-anchor=\"start\" x=\"455\" y=\"-138.8\" font-family=\"Helvetica,sans-Serif\" baseline-shift=\"sub\" font-size=\"14.00\">4</text>\n",
       "<text text-anchor=\"start\" x=\"463\" y=\"-138.8\" font-family=\"Helvetica,sans-Serif\" font-size=\"14.00\"> ≤ 6.5</text>\n",
       "<text text-anchor=\"start\" x=\"441\" y=\"-124.8\" font-family=\"Helvetica,sans-Serif\" font-size=\"14.00\">gini = 0.5</text>\n",
       "<text text-anchor=\"start\" x=\"430.5\" y=\"-110.8\" font-family=\"Helvetica,sans-Serif\" font-size=\"14.00\">samples = 2</text>\n",
       "<text text-anchor=\"start\" x=\"427\" y=\"-96.8\" font-family=\"Helvetica,sans-Serif\" font-size=\"14.00\">value = [1, 1]</text>\n",
       "</g>\n",
       "<!-- 20&#45;&gt;21 -->\n",
       "<g id=\"edge21\" class=\"edge\"><title>20&#45;&gt;21</title>\n",
       "<path fill=\"none\" stroke=\"black\" d=\"M523.168,-188.992C517.001,-180.234 510.208,-170.585 503.743,-161.404\"/>\n",
       "<polygon fill=\"black\" stroke=\"black\" points=\"506.546,-159.304 497.927,-153.142 500.822,-163.334 506.546,-159.304\"/>\n",
       "</g>\n",
       "<!-- 24 -->\n",
       "<g id=\"node25\" class=\"node\"><title>24</title>\n",
       "<path fill=\"#e58139\" fill-opacity=\"0.949020\" stroke=\"black\" d=\"M662.5,-153C662.5,-153 563.5,-153 563.5,-153 557.5,-153 551.5,-147 551.5,-141 551.5,-141 551.5,-101 551.5,-101 551.5,-95 557.5,-89 563.5,-89 563.5,-89 662.5,-89 662.5,-89 668.5,-89 674.5,-95 674.5,-101 674.5,-101 674.5,-141 674.5,-141 674.5,-147 668.5,-153 662.5,-153\"/>\n",
       "<text text-anchor=\"start\" x=\"573\" y=\"-138.8\" font-family=\"Helvetica,sans-Serif\" font-size=\"14.00\">X</text>\n",
       "<text text-anchor=\"start\" x=\"583\" y=\"-138.8\" font-family=\"Helvetica,sans-Serif\" baseline-shift=\"sub\" font-size=\"14.00\">1</text>\n",
       "<text text-anchor=\"start\" x=\"591\" y=\"-138.8\" font-family=\"Helvetica,sans-Serif\" font-size=\"14.00\"> ≤ 1.948</text>\n",
       "<text text-anchor=\"start\" x=\"569\" y=\"-124.8\" font-family=\"Helvetica,sans-Serif\" font-size=\"14.00\">gini = 0.091</text>\n",
       "<text text-anchor=\"start\" x=\"563\" y=\"-110.8\" font-family=\"Helvetica,sans-Serif\" font-size=\"14.00\">samples = 21</text>\n",
       "<text text-anchor=\"start\" x=\"559.5\" y=\"-96.8\" font-family=\"Helvetica,sans-Serif\" font-size=\"14.00\">value = [20, 1]</text>\n",
       "</g>\n",
       "<!-- 20&#45;&gt;24 -->\n",
       "<g id=\"edge24\" class=\"edge\"><title>20&#45;&gt;24</title>\n",
       "<path fill=\"none\" stroke=\"black\" d=\"M566.516,-188.992C572.593,-180.234 579.288,-170.585 585.659,-161.404\"/>\n",
       "<polygon fill=\"black\" stroke=\"black\" points=\"588.566,-163.354 591.391,-153.142 582.815,-159.363 588.566,-163.354\"/>\n",
       "</g>\n",
       "<!-- 22 -->\n",
       "<g id=\"node23\" class=\"node\"><title>22</title>\n",
       "<path fill=\"#399de5\" stroke=\"black\" d=\"M389,-53C389,-53 299,-53 299,-53 293,-53 287,-47 287,-41 287,-41 287,-12 287,-12 287,-6 293,-0 299,-0 299,-0 389,-0 389,-0 395,-0 401,-6 401,-12 401,-12 401,-41 401,-41 401,-47 395,-53 389,-53\"/>\n",
       "<text text-anchor=\"start\" x=\"309\" y=\"-37.8\" font-family=\"Helvetica,sans-Serif\" font-size=\"14.00\">gini = 0.0</text>\n",
       "<text text-anchor=\"start\" x=\"298.5\" y=\"-22.8\" font-family=\"Helvetica,sans-Serif\" font-size=\"14.00\">samples = 1</text>\n",
       "<text text-anchor=\"start\" x=\"295\" y=\"-7.8\" font-family=\"Helvetica,sans-Serif\" font-size=\"14.00\">value = [0, 1]</text>\n",
       "</g>\n",
       "<!-- 21&#45;&gt;22 -->\n",
       "<g id=\"edge22\" class=\"edge\"><title>21&#45;&gt;22</title>\n",
       "<path fill=\"none\" stroke=\"black\" d=\"M431.679,-88.9415C417.909,-79.2925 402.724,-68.6511 388.914,-58.9741\"/>\n",
       "<polygon fill=\"black\" stroke=\"black\" points=\"390.717,-55.9634 380.519,-53.0908 386.7,-61.696 390.717,-55.9634\"/>\n",
       "</g>\n",
       "<!-- 23 -->\n",
       "<g id=\"node24\" class=\"node\"><title>23</title>\n",
       "<path fill=\"#e58139\" stroke=\"black\" d=\"M521,-53C521,-53 431,-53 431,-53 425,-53 419,-47 419,-41 419,-41 419,-12 419,-12 419,-6 425,-0 431,-0 431,-0 521,-0 521,-0 527,-0 533,-6 533,-12 533,-12 533,-41 533,-41 533,-47 527,-53 521,-53\"/>\n",
       "<text text-anchor=\"start\" x=\"441\" y=\"-37.8\" font-family=\"Helvetica,sans-Serif\" font-size=\"14.00\">gini = 0.0</text>\n",
       "<text text-anchor=\"start\" x=\"430.5\" y=\"-22.8\" font-family=\"Helvetica,sans-Serif\" font-size=\"14.00\">samples = 1</text>\n",
       "<text text-anchor=\"start\" x=\"427\" y=\"-7.8\" font-family=\"Helvetica,sans-Serif\" font-size=\"14.00\">value = [1, 0]</text>\n",
       "</g>\n",
       "<!-- 21&#45;&gt;23 -->\n",
       "<g id=\"edge23\" class=\"edge\"><title>21&#45;&gt;23</title>\n",
       "<path fill=\"none\" stroke=\"black\" d=\"M476,-88.9415C476,-80.6579 476,-71.643 476,-63.1346\"/>\n",
       "<polygon fill=\"black\" stroke=\"black\" points=\"479.5,-63.0908 476,-53.0908 472.5,-63.0909 479.5,-63.0908\"/>\n",
       "</g>\n",
       "<!-- 25 -->\n",
       "<g id=\"node26\" class=\"node\"><title>25</title>\n",
       "<path fill=\"#e58139\" stroke=\"black\" d=\"M662.5,-53C662.5,-53 563.5,-53 563.5,-53 557.5,-53 551.5,-47 551.5,-41 551.5,-41 551.5,-12 551.5,-12 551.5,-6 557.5,-0 563.5,-0 563.5,-0 662.5,-0 662.5,-0 668.5,-0 674.5,-6 674.5,-12 674.5,-12 674.5,-41 674.5,-41 674.5,-47 668.5,-53 662.5,-53\"/>\n",
       "<text text-anchor=\"start\" x=\"578\" y=\"-37.8\" font-family=\"Helvetica,sans-Serif\" font-size=\"14.00\">gini = 0.0</text>\n",
       "<text text-anchor=\"start\" x=\"563\" y=\"-22.8\" font-family=\"Helvetica,sans-Serif\" font-size=\"14.00\">samples = 20</text>\n",
       "<text text-anchor=\"start\" x=\"559.5\" y=\"-7.8\" font-family=\"Helvetica,sans-Serif\" font-size=\"14.00\">value = [20, 0]</text>\n",
       "</g>\n",
       "<!-- 24&#45;&gt;25 -->\n",
       "<g id=\"edge25\" class=\"edge\"><title>24&#45;&gt;25</title>\n",
       "<path fill=\"none\" stroke=\"black\" d=\"M613,-88.9415C613,-80.6579 613,-71.643 613,-63.1346\"/>\n",
       "<polygon fill=\"black\" stroke=\"black\" points=\"616.5,-63.0908 613,-53.0908 609.5,-63.0909 616.5,-63.0908\"/>\n",
       "</g>\n",
       "<!-- 26 -->\n",
       "<g id=\"node27\" class=\"node\"><title>26</title>\n",
       "<path fill=\"#399de5\" stroke=\"black\" d=\"M795,-53C795,-53 705,-53 705,-53 699,-53 693,-47 693,-41 693,-41 693,-12 693,-12 693,-6 699,-0 705,-0 705,-0 795,-0 795,-0 801,-0 807,-6 807,-12 807,-12 807,-41 807,-41 807,-47 801,-53 795,-53\"/>\n",
       "<text text-anchor=\"start\" x=\"715\" y=\"-37.8\" font-family=\"Helvetica,sans-Serif\" font-size=\"14.00\">gini = 0.0</text>\n",
       "<text text-anchor=\"start\" x=\"704.5\" y=\"-22.8\" font-family=\"Helvetica,sans-Serif\" font-size=\"14.00\">samples = 1</text>\n",
       "<text text-anchor=\"start\" x=\"701\" y=\"-7.8\" font-family=\"Helvetica,sans-Serif\" font-size=\"14.00\">value = [0, 1]</text>\n",
       "</g>\n",
       "<!-- 24&#45;&gt;26 -->\n",
       "<g id=\"edge26\" class=\"edge\"><title>24&#45;&gt;26</title>\n",
       "<path fill=\"none\" stroke=\"black\" d=\"M659,-88.9415C673.426,-79.2015 689.349,-68.4502 703.79,-58.7004\"/>\n",
       "<polygon fill=\"black\" stroke=\"black\" points=\"705.769,-61.5874 712.098,-53.0908 701.852,-55.7859 705.769,-61.5874\"/>\n",
       "</g>\n",
       "<!-- 28 -->\n",
       "<g id=\"node29\" class=\"node\"><title>28</title>\n",
       "<path fill=\"#e58139\" stroke=\"black\" d=\"M727,-247.5C727,-247.5 637,-247.5 637,-247.5 631,-247.5 625,-241.5 625,-235.5 625,-235.5 625,-206.5 625,-206.5 625,-200.5 631,-194.5 637,-194.5 637,-194.5 727,-194.5 727,-194.5 733,-194.5 739,-200.5 739,-206.5 739,-206.5 739,-235.5 739,-235.5 739,-241.5 733,-247.5 727,-247.5\"/>\n",
       "<text text-anchor=\"start\" x=\"647\" y=\"-232.3\" font-family=\"Helvetica,sans-Serif\" font-size=\"14.00\">gini = 0.0</text>\n",
       "<text text-anchor=\"start\" x=\"636.5\" y=\"-217.3\" font-family=\"Helvetica,sans-Serif\" font-size=\"14.00\">samples = 1</text>\n",
       "<text text-anchor=\"start\" x=\"633\" y=\"-202.3\" font-family=\"Helvetica,sans-Serif\" font-size=\"14.00\">value = [1, 0]</text>\n",
       "</g>\n",
       "<!-- 27&#45;&gt;28 -->\n",
       "<g id=\"edge28\" class=\"edge\"><title>27&#45;&gt;28</title>\n",
       "<path fill=\"none\" stroke=\"black\" d=\"M682,-288.992C682,-279.087 682,-268.042 682,-257.824\"/>\n",
       "<polygon fill=\"black\" stroke=\"black\" points=\"685.5,-257.556 682,-247.556 678.5,-257.556 685.5,-257.556\"/>\n",
       "</g>\n",
       "<!-- 29 -->\n",
       "<g id=\"node30\" class=\"node\"><title>29</title>\n",
       "<path fill=\"#399de5\" stroke=\"black\" d=\"M859,-247.5C859,-247.5 769,-247.5 769,-247.5 763,-247.5 757,-241.5 757,-235.5 757,-235.5 757,-206.5 757,-206.5 757,-200.5 763,-194.5 769,-194.5 769,-194.5 859,-194.5 859,-194.5 865,-194.5 871,-200.5 871,-206.5 871,-206.5 871,-235.5 871,-235.5 871,-241.5 865,-247.5 859,-247.5\"/>\n",
       "<text text-anchor=\"start\" x=\"779\" y=\"-232.3\" font-family=\"Helvetica,sans-Serif\" font-size=\"14.00\">gini = 0.0</text>\n",
       "<text text-anchor=\"start\" x=\"768.5\" y=\"-217.3\" font-family=\"Helvetica,sans-Serif\" font-size=\"14.00\">samples = 2</text>\n",
       "<text text-anchor=\"start\" x=\"765\" y=\"-202.3\" font-family=\"Helvetica,sans-Serif\" font-size=\"14.00\">value = [0, 2]</text>\n",
       "</g>\n",
       "<!-- 27&#45;&gt;29 -->\n",
       "<g id=\"edge29\" class=\"edge\"><title>27&#45;&gt;29</title>\n",
       "<path fill=\"none\" stroke=\"black\" d=\"M723.766,-288.992C738.933,-277.731 756.084,-264.998 771.329,-253.68\"/>\n",
       "<polygon fill=\"black\" stroke=\"black\" points=\"773.634,-256.328 779.577,-247.556 769.462,-250.707 773.634,-256.328\"/>\n",
       "</g>\n",
       "<!-- 31 -->\n",
       "<g id=\"node32\" class=\"node\"><title>31</title>\n",
       "<path fill=\"#e58139\" fill-opacity=\"0.666667\" stroke=\"black\" d=\"M991,-453C991,-453 901,-453 901,-453 895,-453 889,-447 889,-441 889,-441 889,-401 889,-401 889,-395 895,-389 901,-389 901,-389 991,-389 991,-389 997,-389 1003,-395 1003,-401 1003,-401 1003,-441 1003,-441 1003,-447 997,-453 991,-453\"/>\n",
       "<text text-anchor=\"start\" x=\"915\" y=\"-438.8\" font-family=\"Helvetica,sans-Serif\" font-size=\"14.00\">X</text>\n",
       "<text text-anchor=\"start\" x=\"925\" y=\"-438.8\" font-family=\"Helvetica,sans-Serif\" baseline-shift=\"sub\" font-size=\"14.00\">7</text>\n",
       "<text text-anchor=\"start\" x=\"933\" y=\"-438.8\" font-family=\"Helvetica,sans-Serif\" font-size=\"14.00\"> ≤ 2.5</text>\n",
       "<text text-anchor=\"start\" x=\"902\" y=\"-424.8\" font-family=\"Helvetica,sans-Serif\" font-size=\"14.00\">gini = 0.375</text>\n",
       "<text text-anchor=\"start\" x=\"900.5\" y=\"-410.8\" font-family=\"Helvetica,sans-Serif\" font-size=\"14.00\">samples = 8</text>\n",
       "<text text-anchor=\"start\" x=\"897\" y=\"-396.8\" font-family=\"Helvetica,sans-Serif\" font-size=\"14.00\">value = [6, 2]</text>\n",
       "</g>\n",
       "<!-- 30&#45;&gt;31 -->\n",
       "<g id=\"edge31\" class=\"edge\"><title>30&#45;&gt;31</title>\n",
       "<path fill=\"none\" stroke=\"black\" d=\"M946,-488.992C946,-480.859 946,-471.959 946,-463.378\"/>\n",
       "<polygon fill=\"black\" stroke=\"black\" points=\"949.5,-463.142 946,-453.142 942.5,-463.142 949.5,-463.142\"/>\n",
       "</g>\n",
       "<!-- 36 -->\n",
       "<g id=\"node37\" class=\"node\"><title>36</title>\n",
       "<path fill=\"#399de5\" stroke=\"black\" d=\"M1123,-447.5C1123,-447.5 1033,-447.5 1033,-447.5 1027,-447.5 1021,-441.5 1021,-435.5 1021,-435.5 1021,-406.5 1021,-406.5 1021,-400.5 1027,-394.5 1033,-394.5 1033,-394.5 1123,-394.5 1123,-394.5 1129,-394.5 1135,-400.5 1135,-406.5 1135,-406.5 1135,-435.5 1135,-435.5 1135,-441.5 1129,-447.5 1123,-447.5\"/>\n",
       "<text text-anchor=\"start\" x=\"1043\" y=\"-432.3\" font-family=\"Helvetica,sans-Serif\" font-size=\"14.00\">gini = 0.0</text>\n",
       "<text text-anchor=\"start\" x=\"1032.5\" y=\"-417.3\" font-family=\"Helvetica,sans-Serif\" font-size=\"14.00\">samples = 4</text>\n",
       "<text text-anchor=\"start\" x=\"1029\" y=\"-402.3\" font-family=\"Helvetica,sans-Serif\" font-size=\"14.00\">value = [0, 4]</text>\n",
       "</g>\n",
       "<!-- 30&#45;&gt;36 -->\n",
       "<g id=\"edge36\" class=\"edge\"><title>30&#45;&gt;36</title>\n",
       "<path fill=\"none\" stroke=\"black\" d=\"M987.766,-488.992C1002.93,-477.731 1020.08,-464.998 1035.33,-453.68\"/>\n",
       "<polygon fill=\"black\" stroke=\"black\" points=\"1037.63,-456.328 1043.58,-447.556 1033.46,-450.707 1037.63,-456.328\"/>\n",
       "</g>\n",
       "<!-- 32 -->\n",
       "<g id=\"node33\" class=\"node\"><title>32</title>\n",
       "<path fill=\"#399de5\" fill-opacity=\"0.498039\" stroke=\"black\" d=\"M991,-353C991,-353 901,-353 901,-353 895,-353 889,-347 889,-341 889,-341 889,-301 889,-301 889,-295 895,-289 901,-289 901,-289 991,-289 991,-289 997,-289 1003,-295 1003,-301 1003,-301 1003,-341 1003,-341 1003,-347 997,-353 991,-353\"/>\n",
       "<text text-anchor=\"start\" x=\"906\" y=\"-338.8\" font-family=\"Helvetica,sans-Serif\" font-size=\"14.00\">X</text>\n",
       "<text text-anchor=\"start\" x=\"916\" y=\"-338.8\" font-family=\"Helvetica,sans-Serif\" baseline-shift=\"sub\" font-size=\"14.00\">1</text>\n",
       "<text text-anchor=\"start\" x=\"924\" y=\"-338.8\" font-family=\"Helvetica,sans-Serif\" font-size=\"14.00\"> ≤ 0.836</text>\n",
       "<text text-anchor=\"start\" x=\"902\" y=\"-324.8\" font-family=\"Helvetica,sans-Serif\" font-size=\"14.00\">gini = 0.444</text>\n",
       "<text text-anchor=\"start\" x=\"900.5\" y=\"-310.8\" font-family=\"Helvetica,sans-Serif\" font-size=\"14.00\">samples = 3</text>\n",
       "<text text-anchor=\"start\" x=\"897\" y=\"-296.8\" font-family=\"Helvetica,sans-Serif\" font-size=\"14.00\">value = [1, 2]</text>\n",
       "</g>\n",
       "<!-- 31&#45;&gt;32 -->\n",
       "<g id=\"edge32\" class=\"edge\"><title>31&#45;&gt;32</title>\n",
       "<path fill=\"none\" stroke=\"black\" d=\"M946,-388.992C946,-380.859 946,-371.959 946,-363.378\"/>\n",
       "<polygon fill=\"black\" stroke=\"black\" points=\"949.5,-363.142 946,-353.142 942.5,-363.142 949.5,-363.142\"/>\n",
       "</g>\n",
       "<!-- 35 -->\n",
       "<g id=\"node36\" class=\"node\"><title>35</title>\n",
       "<path fill=\"#e58139\" stroke=\"black\" d=\"M1123,-347.5C1123,-347.5 1033,-347.5 1033,-347.5 1027,-347.5 1021,-341.5 1021,-335.5 1021,-335.5 1021,-306.5 1021,-306.5 1021,-300.5 1027,-294.5 1033,-294.5 1033,-294.5 1123,-294.5 1123,-294.5 1129,-294.5 1135,-300.5 1135,-306.5 1135,-306.5 1135,-335.5 1135,-335.5 1135,-341.5 1129,-347.5 1123,-347.5\"/>\n",
       "<text text-anchor=\"start\" x=\"1043\" y=\"-332.3\" font-family=\"Helvetica,sans-Serif\" font-size=\"14.00\">gini = 0.0</text>\n",
       "<text text-anchor=\"start\" x=\"1032.5\" y=\"-317.3\" font-family=\"Helvetica,sans-Serif\" font-size=\"14.00\">samples = 5</text>\n",
       "<text text-anchor=\"start\" x=\"1029\" y=\"-302.3\" font-family=\"Helvetica,sans-Serif\" font-size=\"14.00\">value = [5, 0]</text>\n",
       "</g>\n",
       "<!-- 31&#45;&gt;35 -->\n",
       "<g id=\"edge35\" class=\"edge\"><title>31&#45;&gt;35</title>\n",
       "<path fill=\"none\" stroke=\"black\" d=\"M987.766,-388.992C1002.93,-377.731 1020.08,-364.998 1035.33,-353.68\"/>\n",
       "<polygon fill=\"black\" stroke=\"black\" points=\"1037.63,-356.328 1043.58,-347.556 1033.46,-350.707 1037.63,-356.328\"/>\n",
       "</g>\n",
       "<!-- 33 -->\n",
       "<g id=\"node34\" class=\"node\"><title>33</title>\n",
       "<path fill=\"#e58139\" stroke=\"black\" d=\"M991,-247.5C991,-247.5 901,-247.5 901,-247.5 895,-247.5 889,-241.5 889,-235.5 889,-235.5 889,-206.5 889,-206.5 889,-200.5 895,-194.5 901,-194.5 901,-194.5 991,-194.5 991,-194.5 997,-194.5 1003,-200.5 1003,-206.5 1003,-206.5 1003,-235.5 1003,-235.5 1003,-241.5 997,-247.5 991,-247.5\"/>\n",
       "<text text-anchor=\"start\" x=\"911\" y=\"-232.3\" font-family=\"Helvetica,sans-Serif\" font-size=\"14.00\">gini = 0.0</text>\n",
       "<text text-anchor=\"start\" x=\"900.5\" y=\"-217.3\" font-family=\"Helvetica,sans-Serif\" font-size=\"14.00\">samples = 1</text>\n",
       "<text text-anchor=\"start\" x=\"897\" y=\"-202.3\" font-family=\"Helvetica,sans-Serif\" font-size=\"14.00\">value = [1, 0]</text>\n",
       "</g>\n",
       "<!-- 32&#45;&gt;33 -->\n",
       "<g id=\"edge33\" class=\"edge\"><title>32&#45;&gt;33</title>\n",
       "<path fill=\"none\" stroke=\"black\" d=\"M946,-288.992C946,-279.087 946,-268.042 946,-257.824\"/>\n",
       "<polygon fill=\"black\" stroke=\"black\" points=\"949.5,-257.556 946,-247.556 942.5,-257.556 949.5,-257.556\"/>\n",
       "</g>\n",
       "<!-- 34 -->\n",
       "<g id=\"node35\" class=\"node\"><title>34</title>\n",
       "<path fill=\"#399de5\" stroke=\"black\" d=\"M1123,-247.5C1123,-247.5 1033,-247.5 1033,-247.5 1027,-247.5 1021,-241.5 1021,-235.5 1021,-235.5 1021,-206.5 1021,-206.5 1021,-200.5 1027,-194.5 1033,-194.5 1033,-194.5 1123,-194.5 1123,-194.5 1129,-194.5 1135,-200.5 1135,-206.5 1135,-206.5 1135,-235.5 1135,-235.5 1135,-241.5 1129,-247.5 1123,-247.5\"/>\n",
       "<text text-anchor=\"start\" x=\"1043\" y=\"-232.3\" font-family=\"Helvetica,sans-Serif\" font-size=\"14.00\">gini = 0.0</text>\n",
       "<text text-anchor=\"start\" x=\"1032.5\" y=\"-217.3\" font-family=\"Helvetica,sans-Serif\" font-size=\"14.00\">samples = 2</text>\n",
       "<text text-anchor=\"start\" x=\"1029\" y=\"-202.3\" font-family=\"Helvetica,sans-Serif\" font-size=\"14.00\">value = [0, 2]</text>\n",
       "</g>\n",
       "<!-- 32&#45;&gt;34 -->\n",
       "<g id=\"edge34\" class=\"edge\"><title>32&#45;&gt;34</title>\n",
       "<path fill=\"none\" stroke=\"black\" d=\"M987.766,-288.992C1002.93,-277.731 1020.08,-264.998 1035.33,-253.68\"/>\n",
       "<polygon fill=\"black\" stroke=\"black\" points=\"1037.63,-256.328 1043.58,-247.556 1033.46,-250.707 1037.63,-256.328\"/>\n",
       "</g>\n",
       "</g>\n",
       "</svg>\n"
      ],
      "text/plain": [
       "<graphviz.files.Source at 0x7f325de3c588>"
      ]
     },
     "execution_count": 42,
     "metadata": {},
     "output_type": "execute_result"
    }
   ],
   "source": [
    "dot_data = sklearn.tree.export_graphviz(dt_clf, out_file=None, \n",
    "                     filled=True, rounded=True,  \n",
    "                     special_characters=True)  \n",
    "graph = graphviz.Source(dot_data)  \n",
    "graph "
   ]
  },
  {
   "cell_type": "markdown",
   "metadata": {},
   "source": [
    "# Random Forest\n",
    "\n",
    "https://scikit-learn.org/stable/modules/generated/sklearn.ensemble.RandomForestClassifier.html"
   ]
  },
  {
   "cell_type": "code",
   "execution_count": 43,
   "metadata": {},
   "outputs": [
    {
     "data": {
      "text/plain": [
       "RandomForestClassifier(bootstrap=True, class_weight=None, criterion='gini',\n",
       "            max_depth=2, max_features='auto', max_leaf_nodes=None,\n",
       "            min_impurity_decrease=0.0, min_impurity_split=None,\n",
       "            min_samples_leaf=1, min_samples_split=2,\n",
       "            min_weight_fraction_leaf=0.0, n_estimators=100, n_jobs=None,\n",
       "            oob_score=False, random_state=0, verbose=0, warm_start=False)"
      ]
     },
     "execution_count": 43,
     "metadata": {},
     "output_type": "execute_result"
    }
   ],
   "source": [
    "rf_clf = sklearn.ensemble.RandomForestClassifier(n_estimators=100, max_depth=2,random_state=0)\n",
    "rf_output = rf_clf.fit(X_train, y_train)\n",
    "rf_output"
   ]
  },
  {
   "cell_type": "code",
   "execution_count": 44,
   "metadata": {},
   "outputs": [
    {
     "data": {
      "text/plain": [
       "array([1, 0, 0, 0, 0, 0, 0, 0, 1, 0, 1, 0, 1, 0, 0, 0, 0, 0, 1, 1, 1, 0, 0,\n",
       "       1, 0, 1, 0, 1, 0, 1, 1, 0, 0])"
      ]
     },
     "execution_count": 44,
     "metadata": {},
     "output_type": "execute_result"
    }
   ],
   "source": [
    "rf_clf.predict(X_test)"
   ]
  },
  {
   "cell_type": "code",
   "execution_count": 45,
   "metadata": {},
   "outputs": [
    {
     "data": {
      "text/plain": [
       "83    0\n",
       "53    1\n",
       "70    1\n",
       "45    0\n",
       "44    0\n",
       "39    1\n",
       "22    0\n",
       "80    0\n",
       "10    0\n",
       "0     1\n",
       "18    1\n",
       "30    1\n",
       "73    1\n",
       "33    0\n",
       "90    1\n",
       "4     0\n",
       "76    0\n",
       "77    0\n",
       "12    1\n",
       "31    0\n",
       "55    1\n",
       "88    1\n",
       "26    1\n",
       "42    0\n",
       "69    1\n",
       "15    0\n",
       "40    0\n",
       "96    1\n",
       "9     1\n",
       "72    1\n",
       "11    0\n",
       "47    0\n",
       "85    1\n",
       "Name: J, dtype: int64"
      ]
     },
     "execution_count": 45,
     "metadata": {},
     "output_type": "execute_result"
    }
   ],
   "source": [
    "y_test"
   ]
  },
  {
   "cell_type": "code",
   "execution_count": 46,
   "metadata": {},
   "outputs": [
    {
     "data": {
      "text/plain": [
       "0.48484848484848486"
      ]
     },
     "execution_count": 46,
     "metadata": {},
     "output_type": "execute_result"
    }
   ],
   "source": [
    "rf_clf.score(X_test,y_test)"
   ]
  },
  {
   "cell_type": "code",
   "execution_count": 47,
   "metadata": {},
   "outputs": [],
   "source": [
    "list_of_importances = list(zip(X.columns,rf_clf.feature_importances_))"
   ]
  },
  {
   "cell_type": "code",
   "execution_count": 48,
   "metadata": {},
   "outputs": [
    {
     "data": {
      "text/plain": [
       "[('H', 0.21311550428121909),\n",
       " ('C', 0.1693758168386901),\n",
       " ('B', 0.12820376577897505),\n",
       " ('A', 0.1228563218024626),\n",
       " ('G', 0.10748658364816512),\n",
       " ('E', 0.10693022301890646),\n",
       " ('D', 0.079819785266487697),\n",
       " ('F', 0.072211999365093801)]"
      ]
     },
     "execution_count": 48,
     "metadata": {},
     "output_type": "execute_result"
    }
   ],
   "source": [
    "output = sorted(list_of_importances, key=lambda x: x[-1],reverse=True)\n",
    "output"
   ]
  },
  {
   "cell_type": "code",
   "execution_count": 49,
   "metadata": {},
   "outputs": [
    {
     "name": "stdout",
     "output_type": "stream",
     "text": [
      "Feature ranking:\n",
      "1. feature 7 (0.213116)\n",
      "2. feature 2 (0.169376)\n",
      "3. feature 1 (0.128204)\n",
      "4. feature 0 (0.122856)\n",
      "5. feature 6 (0.107487)\n",
      "6. feature 4 (0.106930)\n",
      "7. feature 3 (0.079820)\n",
      "8. feature 5 (0.072212)\n"
     ]
    },
    {
     "data": {
      "image/png": "[encoded data removed]",
      "text/plain": [
       "<Figure size 432x288 with 1 Axes>"
      ]
     },
     "metadata": {
      "needs_background": "light"
     },
     "output_type": "display_data"
    }
   ],
   "source": [
    "importances = rf_clf.feature_importances_\n",
    "std = np.std([tree.feature_importances_ for tree in rf_clf.estimators_],axis=0)\n",
    "indices = np.argsort(importances)[::-1]\n",
    "\n",
    "# Print the feature ranking\n",
    "print(\"Feature ranking:\")\n",
    "\n",
    "for f in range(X.shape[1]):\n",
    "    print(\"%d. feature %d (%f)\" % (f + 1, indices[f], importances[indices[f]]))\n",
    "\n",
    "# Plot the feature importances of the forest\n",
    "plt.figure()\n",
    "plt.title(\"Feature importances\")\n",
    "plt.bar(range(X.shape[1]), importances[indices],\n",
    "       color=\"r\", yerr=std[indices], align=\"center\")\n",
    "plt.xticks(range(X.shape[1]), indices)\n",
    "plt.xlim([-1, X.shape[1]])\n",
    "plt.show()"
   ]
  },
  {
   "cell_type": "code",
   "execution_count": 50,
   "metadata": {},
   "outputs": [
    {
     "data": {
      "text/plain": [
       "array([[ 0.36155151,  0.63844849],\n",
       "       [ 0.64005004,  0.35994996],\n",
       "       [ 0.35581034,  0.64418966],\n",
       "       [ 0.57440154,  0.42559846],\n",
       "       [ 0.52784821,  0.47215179],\n",
       "       [ 0.53905799,  0.46094201],\n",
       "       [ 0.55113905,  0.44886095],\n",
       "       [ 0.33640872,  0.66359128],\n",
       "       [ 0.51824925,  0.48175075],\n",
       "       [ 0.54936002,  0.45063998]])"
      ]
     },
     "execution_count": 50,
     "metadata": {},
     "output_type": "execute_result"
    }
   ],
   "source": [
    "# Get y_probabilities\n",
    "y_probas = rf_clf.predict_proba(X_train)\n",
    "y_probas[0:10]"
   ]
  },
  {
   "cell_type": "code",
   "execution_count": 51,
   "metadata": {},
   "outputs": [
    {
     "data": {
      "image/png": "[encoded data removed]",
      "text/plain": [
       "<Figure size 432x288 with 1 Axes>"
      ]
     },
     "metadata": {
      "needs_background": "light"
     },
     "output_type": "display_data"
    }
   ],
   "source": [
    "# https://github.com/reiinakano/scikit-plot/blob/master/examples/jupyter_notebooks/plot_roc_curve.ipynb\n",
    "scikitplot.metrics.plot_roc(y_train, y_probas, cmap='nipy_spectral')\n",
    "plt.show()"
   ]
  },
  {
   "cell_type": "markdown",
   "metadata": {},
   "source": [
    "# sklearn neural network\n",
    "\n",
    "https://scikit-neuralnetwork.readthedocs.io/en/latest/\n",
    "\n",
    "https://www.kdnuggets.com/2016/10/beginners-guide-neural-networks-python-scikit-learn.html\n",
    "\n",
    "https://scikit-learn.org/stable/modules/neural_networks_supervised.html\n",
    "\n",
    "https://scikit-learn.org/stable/modules/generated/sklearn.neural_network.MLPClassifier.html"
   ]
  },
  {
   "cell_type": "code",
   "execution_count": 52,
   "metadata": {},
   "outputs": [],
   "source": [
    "param={'solver': 'sgd', 'learning_rate': 'constant', 'momentum': 0,'learning_rate_init': 0.2}\n",
    "mlp = sklearn.neural_network.MLPClassifier(verbose=0, \n",
    "                                           random_state=0,\n",
    "                                           max_iter=1000)"
   ]
  },
  {
   "cell_type": "code",
   "execution_count": 53,
   "metadata": {},
   "outputs": [
    {
     "data": {
      "text/plain": [
       "MLPClassifier(activation='relu', alpha=0.0001, batch_size='auto', beta_1=0.9,\n",
       "       beta_2=0.999, early_stopping=False, epsilon=1e-08,\n",
       "       hidden_layer_sizes=(100,), learning_rate='constant',\n",
       "       learning_rate_init=0.001, max_iter=1000, momentum=0.9,\n",
       "       n_iter_no_change=10, nesterovs_momentum=True, power_t=0.5,\n",
       "       random_state=0, shuffle=True, solver='adam', tol=0.0001,\n",
       "       validation_fraction=0.1, verbose=0, warm_start=False)"
      ]
     },
     "execution_count": 53,
     "metadata": {},
     "output_type": "execute_result"
    }
   ],
   "source": [
    "mlp.fit(X_train, y_train)"
   ]
  },
  {
   "cell_type": "code",
   "execution_count": 54,
   "metadata": {},
   "outputs": [
    {
     "name": "stdout",
     "output_type": "stream",
     "text": [
      "Training set score: 1.000000\n",
      "Training set loss: 0.031737\n"
     ]
    }
   ],
   "source": [
    "print(\"Training set score: %f\" % mlp.score(X_train, y_train))\n",
    "print(\"Training set loss: %f\" % mlp.loss_)"
   ]
  },
  {
   "cell_type": "code",
   "execution_count": 55,
   "metadata": {},
   "outputs": [
    {
     "data": {
      "text/plain": [
       "array([1, 0, 0, 1, 0, 0, 0, 0, 1, 0, 1, 0, 1, 0, 0, 1, 0, 0, 1, 1, 1, 0, 0,\n",
       "       1, 0, 0, 1, 1, 0, 1, 0, 1, 0])"
      ]
     },
     "execution_count": 55,
     "metadata": {},
     "output_type": "execute_result"
    }
   ],
   "source": [
    "mlp.predict(X_test)"
   ]
  },
  {
   "cell_type": "code",
   "execution_count": 56,
   "metadata": {},
   "outputs": [
    {
     "data": {
      "text/plain": [
       "83    0\n",
       "53    1\n",
       "70    1\n",
       "45    0\n",
       "44    0\n",
       "39    1\n",
       "22    0\n",
       "80    0\n",
       "10    0\n",
       "0     1\n",
       "18    1\n",
       "30    1\n",
       "73    1\n",
       "33    0\n",
       "90    1\n",
       "4     0\n",
       "76    0\n",
       "77    0\n",
       "12    1\n",
       "31    0\n",
       "55    1\n",
       "88    1\n",
       "26    1\n",
       "42    0\n",
       "69    1\n",
       "15    0\n",
       "40    0\n",
       "96    1\n",
       "9     1\n",
       "72    1\n",
       "11    0\n",
       "47    0\n",
       "85    1\n",
       "Name: J, dtype: int64"
      ]
     },
     "execution_count": 56,
     "metadata": {},
     "output_type": "execute_result"
    }
   ],
   "source": [
    "y_test"
   ]
  },
  {
   "cell_type": "code",
   "execution_count": 57,
   "metadata": {},
   "outputs": [
    {
     "data": {
      "text/plain": [
       "0.42424242424242425"
      ]
     },
     "execution_count": 57,
     "metadata": {},
     "output_type": "execute_result"
    }
   ],
   "source": [
    "mlp.score(X_test, y_test)"
   ]
  },
  {
   "cell_type": "markdown",
   "metadata": {},
   "source": [
    "# tensorflow neural network using a pre-made Estimator\n",
    "\n",
    "sklearn --> tflearn --> estimators\n",
    "\n",
    "old: sklearn; https://www.kdnuggets.com/2016/02/scikit-flow-easy-deep-learning-tensorflow-scikit-learn.html\n",
    "\n",
    "* https://www.tensorflow.org/guide/premade_estimators\n",
    "* https://www.tensorflow.org/tutorials/estimators/linear\n",
    "* https://www.tensorflow.org/guide/estimators\n"
   ]
  },
  {
   "cell_type": "code",
   "execution_count": 58,
   "metadata": {},
   "outputs": [
    {
     "data": {
      "text/html": [
       "<div>\n",
       "<style scoped>\n",
       "    .dataframe tbody tr th:only-of-type {\n",
       "        vertical-align: middle;\n",
       "    }\n",
       "\n",
       "    .dataframe tbody tr th {\n",
       "        vertical-align: top;\n",
       "    }\n",
       "\n",
       "    .dataframe thead th {\n",
       "        text-align: right;\n",
       "    }\n",
       "</style>\n",
       "<table border=\"1\" class=\"dataframe\">\n",
       "  <thead>\n",
       "    <tr style=\"text-align: right;\">\n",
       "      <th></th>\n",
       "      <th>feature1</th>\n",
       "      <th>feature2</th>\n",
       "      <th>feature3</th>\n",
       "      <th>target</th>\n",
       "    </tr>\n",
       "  </thead>\n",
       "  <tbody>\n",
       "    <tr>\n",
       "      <th>0</th>\n",
       "      <td>0.516751</td>\n",
       "      <td>0.191475</td>\n",
       "      <td>0.006105</td>\n",
       "      <td>0</td>\n",
       "    </tr>\n",
       "    <tr>\n",
       "      <th>1</th>\n",
       "      <td>0.236951</td>\n",
       "      <td>0.168734</td>\n",
       "      <td>0.826272</td>\n",
       "      <td>0</td>\n",
       "    </tr>\n",
       "    <tr>\n",
       "      <th>2</th>\n",
       "      <td>0.184097</td>\n",
       "      <td>0.569132</td>\n",
       "      <td>0.229466</td>\n",
       "      <td>0</td>\n",
       "    </tr>\n",
       "    <tr>\n",
       "      <th>3</th>\n",
       "      <td>0.763813</td>\n",
       "      <td>0.341826</td>\n",
       "      <td>0.195444</td>\n",
       "      <td>0</td>\n",
       "    </tr>\n",
       "    <tr>\n",
       "      <th>4</th>\n",
       "      <td>0.347579</td>\n",
       "      <td>0.895025</td>\n",
       "      <td>0.936109</td>\n",
       "      <td>1</td>\n",
       "    </tr>\n",
       "    <tr>\n",
       "      <th>5</th>\n",
       "      <td>0.413591</td>\n",
       "      <td>0.485436</td>\n",
       "      <td>0.870468</td>\n",
       "      <td>1</td>\n",
       "    </tr>\n",
       "    <tr>\n",
       "      <th>6</th>\n",
       "      <td>0.603712</td>\n",
       "      <td>0.659273</td>\n",
       "      <td>0.047524</td>\n",
       "      <td>1</td>\n",
       "    </tr>\n",
       "    <tr>\n",
       "      <th>7</th>\n",
       "      <td>0.725260</td>\n",
       "      <td>0.025171</td>\n",
       "      <td>0.882217</td>\n",
       "      <td>0</td>\n",
       "    </tr>\n",
       "    <tr>\n",
       "      <th>8</th>\n",
       "      <td>0.429807</td>\n",
       "      <td>0.837817</td>\n",
       "      <td>0.059249</td>\n",
       "      <td>2</td>\n",
       "    </tr>\n",
       "    <tr>\n",
       "      <th>9</th>\n",
       "      <td>0.048052</td>\n",
       "      <td>0.864527</td>\n",
       "      <td>0.915043</td>\n",
       "      <td>0</td>\n",
       "    </tr>\n",
       "  </tbody>\n",
       "</table>\n",
       "</div>"
      ],
      "text/plain": [
       "   feature1  feature2  feature3  target\n",
       "0  0.516751  0.191475  0.006105       0\n",
       "1  0.236951  0.168734  0.826272       0\n",
       "2  0.184097  0.569132  0.229466       0\n",
       "3  0.763813  0.341826  0.195444       0\n",
       "4  0.347579  0.895025  0.936109       1\n",
       "5  0.413591  0.485436  0.870468       1\n",
       "6  0.603712  0.659273  0.047524       1\n",
       "7  0.725260  0.025171  0.882217       0\n",
       "8  0.429807  0.837817  0.059249       2\n",
       "9  0.048052  0.864527  0.915043       0"
      ]
     },
     "execution_count": 58,
     "metadata": {},
     "output_type": "execute_result"
    }
   ],
   "source": [
    "# https://medium.com/when-i-work-data/converting-a-pandas-dataframe-into-a-tensorflow-dataset-752f3783c168\n",
    "\n",
    "training_df: pandas.DataFrame = pandas.DataFrame(\n",
    "    data={\n",
    "        'feature1': np.random.rand(10),\n",
    "        'feature2': np.random.rand(10),\n",
    "        'feature3': np.random.rand(10),\n",
    "        'target': np.random.randint(0, 3, 10)\n",
    "    }\n",
    ")\n",
    "features = ['feature1', 'feature2', 'feature3']\n",
    "training_df"
   ]
  },
  {
   "cell_type": "code",
   "execution_count": 59,
   "metadata": {},
   "outputs": [
    {
     "data": {
      "text/plain": [
       "array([[ 0.51675113,  0.19147504,  0.00610522],\n",
       "       [ 0.23695088,  0.1687342 ,  0.82627171],\n",
       "       [ 0.18409726,  0.56913237,  0.22946562],\n",
       "       [ 0.76381281,  0.34182618,  0.19544354],\n",
       "       [ 0.34757851,  0.89502479,  0.93610947],\n",
       "       [ 0.41359063,  0.48543605,  0.87046823],\n",
       "       [ 0.60371245,  0.65927337,  0.04752375],\n",
       "       [ 0.72526012,  0.02517066,  0.88221721],\n",
       "       [ 0.42980658,  0.83781736,  0.05924894],\n",
       "       [ 0.04805186,  0.86452728,  0.91504334]])"
      ]
     },
     "execution_count": 59,
     "metadata": {},
     "output_type": "execute_result"
    }
   ],
   "source": [
    "training_df[features].values  # X_train"
   ]
  },
  {
   "cell_type": "code",
   "execution_count": 60,
   "metadata": {},
   "outputs": [
    {
     "data": {
      "text/plain": [
       "array([0, 0, 0, 0, 1, 1, 1, 0, 2, 0])"
      ]
     },
     "execution_count": 60,
     "metadata": {},
     "output_type": "execute_result"
    }
   ],
   "source": [
    "training_df['target'].values  # y_train"
   ]
  },
  {
   "cell_type": "code",
   "execution_count": 61,
   "metadata": {},
   "outputs": [],
   "source": [
    "training_dataset = (\n",
    "    tensorflow.data.Dataset.from_tensor_slices(\n",
    "        (\n",
    "            tensorflow.cast(training_df[features].values, tensorflow.float32),\n",
    "            tensorflow.cast(training_df['target'].values, tensorflow.int32)\n",
    "        )\n",
    "    )\n",
    ")"
   ]
  },
  {
   "cell_type": "code",
   "execution_count": 62,
   "metadata": {},
   "outputs": [
    {
     "data": {
      "text/plain": [
       "<DatasetV1Adapter shapes: ((3,), ()), types: (tf.float32, tf.int32)>"
      ]
     },
     "execution_count": 62,
     "metadata": {},
     "output_type": "execute_result"
    }
   ],
   "source": [
    "training_dataset"
   ]
  },
  {
   "cell_type": "code",
   "execution_count": 63,
   "metadata": {},
   "outputs": [],
   "source": [
    "def input_fn(dataset):\n",
    "   ''' manipulate dataset, extracting the feature dict and the label'''\n",
    "   return feature_dict, label"
   ]
  },
  {
   "cell_type": "code",
   "execution_count": 64,
   "metadata": {},
   "outputs": [],
   "source": [
    "population = tensorflow.feature_column.numeric_column('population')\n",
    "age = tensorflow.feature_column.numeric_column('age')"
   ]
  },
  {
   "cell_type": "code",
   "execution_count": 65,
   "metadata": {},
   "outputs": [
    {
     "name": "stdout",
     "output_type": "stream",
     "text": [
      "INFO:tensorflow:Using default config.\n",
      "WARNING:tensorflow:Using temporary folder as model directory: /tmp/tmpcyv4_ad9\n",
      "INFO:tensorflow:Using config: {'_model_dir': '/tmp/tmpcyv4_ad9', '_tf_random_seed': None, '_save_summary_steps': 100, '_save_checkpoints_steps': None, '_save_checkpoints_secs': 600, '_session_config': allow_soft_placement: true\n",
      "graph_options {\n",
      "  rewrite_options {\n",
      "    meta_optimizer_iterations: ONE\n",
      "  }\n",
      "}\n",
      ", '_keep_checkpoint_max': 5, '_keep_checkpoint_every_n_hours': 10000, '_log_step_count_steps': 100, '_train_distribute': None, '_device_fn': None, '_protocol': None, '_eval_distribute': None, '_experimental_distribute': None, '_service': None, '_cluster_spec': <tensorflow.python.training.server_lib.ClusterSpec object at 0x7f325dcfe438>, '_task_type': 'worker', '_task_id': 0, '_global_id_in_cluster': 0, '_master': '', '_evaluation_master': '', '_is_chief': True, '_num_ps_replicas': 0, '_num_worker_replicas': 1}\n"
     ]
    }
   ],
   "source": [
    "# Instantiate an estimator, passing the feature columns.\n",
    "estimator = tensorflow.estimator.LinearClassifier(feature_columns=[population, age])"
   ]
  },
  {
   "cell_type": "raw",
   "metadata": {},
   "source": [
    "estimator.train(input_fn=training_dataset, steps=1000)"
   ]
  }
 ],
 "metadata": {
  "kernelspec": {
   "display_name": "Python 3",
   "language": "python",
   "name": "python3"
  },
  "language_info": {
   "codemirror_mode": {
    "name": "ipython",
    "version": 3
   },
   "file_extension": ".py",
   "mimetype": "text/x-python",
   "name": "python",
   "nbconvert_exporter": "python",
   "pygments_lexer": "ipython3",
   "version": "3.6.7"
  }
 },
 "nbformat": 4,
 "nbformat_minor": 2
}
